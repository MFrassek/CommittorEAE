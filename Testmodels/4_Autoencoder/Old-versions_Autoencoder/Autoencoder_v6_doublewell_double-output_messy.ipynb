{
 "cells": [
  {
   "cell_type": "code",
   "execution_count": 1,
   "metadata": {},
   "outputs": [
    {
     "name": "stderr",
     "output_type": "stream",
     "text": [
      "Using TensorFlow backend.\n"
     ]
    }
   ],
   "source": [
    "from __future__ import absolute_import, division, print_function, unicode_literals\n",
    "\n",
    "import tensorflow as tf\n",
    "from keras import backend as K\n",
    "from tensorflow import keras\n",
    "import os\n",
    "import time\n",
    "import numpy as np\n",
    "import glob\n",
    "import matplotlib.pyplot as plt\n",
    "import PIL\n",
    "import imageio\n",
    "\n",
    "from IPython import display\n",
    "\n",
    "import pickle\n",
    "\n",
    "np.set_printoptions(precision=3, suppress=True)"
   ]
  },
  {
   "cell_type": "code",
   "execution_count": 84,
   "metadata": {},
   "outputs": [],
   "source": [
    "COLUMN_NAMES = [\"dim1\", \"dim2\", \"dim3\", \"dim4\", \n",
    "                \"dim5\", \"dim6\", \"dim7\", \"dim8\", \n",
    "                \"dim9\", \"dim10\", \"label\"]\n",
    "LABEL_NAME = \"label\"\n",
    "INPUT_NAMES = list(COLUMN_NAMES)\n",
    "INPUT_NAMES.remove(LABEL_NAME)\n",
    "trajectory_list = pickle.load(open(\"N-Dim_Doublewell/trajectory_list.p\", \"rb\"))\n",
    "trajectory_label_list = pickle.load(open(\"N-Dim_Doublewell/trajectory_label_list.p\", \"rb\"))\n",
    "snapshot_list = pickle.load(open(\"N-Dim_Doublewell/snapshot_list.p\", \"rb\"))\n",
    "snapshot_label_list = pickle.load(open(\"N-Dim_Doublewell/snapshot_label_list.p\", \"rb\"))\n",
    "snapshot_progress_label_list = pickle.load(open(\"N-Dim_Doublewell/snapshot_progress_label_list.p\", \"rb\"))\n",
    "BATCH_SIZE = 2\n",
    "SHUFFLE_BUFFER_SIZE = 10000\n",
    "CORES_USED = 3\n",
    "# Sets a split size for train and test data set\n",
    "TRAJ_TRAIN_SIZE = int(len(trajectory_label_list) * 0.7)\n",
    "SNAP_TRAIN_SIZE = int(len(snapshot_label_list) * 0.7)\n",
    "# sets a random seed for reproducibility of the shuffling process\n",
    "SEED = 5\n",
    "\n"
   ]
  },
  {
   "cell_type": "code",
   "execution_count": 108,
   "metadata": {},
   "outputs": [],
   "source": [
    "# additional section can be used for generation of present/future pairs\n",
    "\n",
    "OFFSET = 5\n",
    "def generate_offset_snapshot_list(trajectory_list, offset):\n",
    "    # Takes in a list or np.array of trajectories and an offset value and generates two np.arrays with respective new versions\n",
    "    # of the trajectories. \n",
    "    # present_trajectory_list contains all snapshots of the trajectories excluding\n",
    "    # the last n (speficified by offset) of each.\n",
    "    # future_trajectory_list contains all snapshots of the trajectories excluding\n",
    "    # the first n (specified by offset) of each.\n",
    "    # Consequently the both lists can be used as input and desired output of an autoencoder to\n",
    "    # train for future predictive variables.\n",
    "    present_trajectory_list = np.array([trajectory[:-offset] for trajectory in trajectory_list])  \n",
    "    #truncated_present_trajectory_list = \n",
    "    future_trajectory_list = np.array([trajectory[offset:] for trajectory in trajectory_list])\n",
    "    return present_trajectory_list, future_trajectory_list\n",
    "\n",
    "def get_snapshot_and_label_list(trajectory_list, trajectory_label_list, offset = 0, future = False):\n",
    "    # takes in a list of trajectories and corresponding labels and generates concatenated lists of snapshots, \n",
    "    # snapshot label and snapshot progress labels\n",
    "    # can be used for present/future trajcetory lists by use or offset (same as used for generation of the list)\n",
    "    # and future = True for the future trajectory list\n",
    "    snapshot_list = []\n",
    "    snapshot_label_list = []\n",
    "    snapshot_progress_label_list = []\n",
    "    for trajectory_nr in range(len(trajectory_list)):\n",
    "        trajectory = trajectory_list[trajectory_nr]\n",
    "        trajectory_label = trajectory_label_list[trajectory_nr]\n",
    "        for snapshot_nr in range(len(trajectory)):\n",
    "            snapshot_list.append(trajectory[snapshot_nr])\n",
    "            snapshot_label_list.append(trajectory_label)\n",
    "            # Calculates the progress along the path for AB paths. If the path label is 1 or 0,\n",
    "            # all snapshot are assigned the same label. If the path label is different (e.g. 0.5),\n",
    "            # indicating a sucessfull transition a progress along the snapshots is calculated based on\n",
    "            # the position within the trajectory and the total trajectory length.\n",
    "            # For present/future lists, the offset needs to be taken into account in the denominator\n",
    "            # If the dataset is a future variant of an offset trajectory list the progress label \n",
    "            # needs to additionally take the offset into account in the nominator.\n",
    "            if trajectory_label == 0.0 or trajectory_label == 1.0:\n",
    "                snapshot_progress_label_list.append(trajectory_label)\n",
    "            else:\n",
    "                if future == True:\n",
    "                    snapshot_progress_label_list.append((snapshot_nr + offset)/(len(trajectory) - 1.0 + offset))\n",
    "                else:\n",
    "                    snapshot_progress_label_list.append(snapshot_nr/(len(trajectory)-1.0 + offset))\n",
    "    return np.array(snapshot_list), np.array(snapshot_label_list), np.array(snapshot_progress_label_list)\n",
    "\n",
    "#present_trajectory_list, future_trajectory_list = generate_offset_snapshot_list(trajectory_list, OFFSET)\n",
    "\n",
    "#present_snapshot_list, present_snapshot_label_list, present_snapshot_progress_label_list = get_snapshot_and_label_list(\n",
    "#    present_trajectory_list, trajectory_label_list, OFFSET)\n",
    "#future_snapshot_list, future_snapshot_label_list, future_snapshot_progress_label_list = get_snapshot_and_label_list(\n",
    "#    future_trajectory_list, trajectory_label_list, OFFSET, future = True)"
   ]
  },
  {
   "cell_type": "code",
   "execution_count": 109,
   "metadata": {},
   "outputs": [
    {
     "name": "stdout",
     "output_type": "stream",
     "text": [
      "[[-0.342  0.113 -0.935 -0.131 -0.17   0.022 -0.276  0.439 -0.419  0.216]\n",
      " [-0.332  0.118  0.344  0.701 -0.398  0.161  0.502  0.995 -0.478  0.624]]\n",
      "[0. 0.]\n",
      "[0. 0.]\n"
     ]
    }
   ],
   "source": [
    "snapshot_list, snapshot_label_list, snapshot_progress_label_list = get_snapshot_and_label_list(\n",
    "    trajectory_list, trajectory_label_list)\n",
    "s_ds = tf.data.Dataset.from_tensor_slices(snapshot_list)\n",
    "sl_ds = tf.data.Dataset.from_tensor_slices(snapshot_label_list)\n",
    "spl_ds = tf.data.Dataset.from_tensor_slices(snapshot_progress_label_list)\n",
    "\n",
    "train_s_ds = s_ds.take(SNAP_TRAIN_SIZE).batch(BATCH_SIZE)\n",
    "test_s_ds = s_ds.skip(SNAP_TRAIN_SIZE).batch(BATCH_SIZE)\n",
    "train_sl_ds = sl_ds.take(SNAP_TRAIN_SIZE).batch(BATCH_SIZE)\n",
    "test_sl_ds = sl_ds.skip(SNAP_TRAIN_SIZE).batch(BATCH_SIZE)\n",
    "train_spl_ds = spl_ds.take(SNAP_TRAIN_SIZE).batch(BATCH_SIZE)\n",
    "test_spl_ds = spl_ds.skip(SNAP_TRAIN_SIZE).batch(BATCH_SIZE)\n",
    "took1 = train_s_ds.take(1)\n",
    "for element in took1.as_numpy_iterator():\n",
    "    print(element)\n",
    "took1 = train_sl_ds.take(1)\n",
    "for element in took1.as_numpy_iterator():\n",
    "    print(element)\n",
    "took1 = train_spl_ds.take(1)\n",
    "for element in took1.as_numpy_iterator():\n",
    "    print(element)"
   ]
  },
  {
   "cell_type": "code",
   "execution_count": 126,
   "metadata": {},
   "outputs": [],
   "source": [
    "s_ds = tf.data.Dataset.from_tensor_slices(snapshot_list)\n",
    "sl_ds = tf.data.Dataset.from_tensor_slices(snapshot_label_list)\n",
    "spl_ds = tf.data.Dataset.from_tensor_slices(snapshot_progress_label_list)\n",
    "\n",
    "train_s_ds = s_ds.take(SNAP_TRAIN_SIZE).batch(BATCH_SIZE)\n",
    "test_s_ds = s_ds.skip(SNAP_TRAIN_SIZE).batch(BATCH_SIZE)\n",
    "train_sl_ds = sl_ds.take(SNAP_TRAIN_SIZE).batch(BATCH_SIZE)\n",
    "test_sl_ds = sl_ds.skip(SNAP_TRAIN_SIZE).batch(BATCH_SIZE)\n",
    "train_spl_ds = spl_ds.take(SNAP_TRAIN_SIZE).batch(BATCH_SIZE)\n",
    "test_spl_ds = spl_ds.skip(SNAP_TRAIN_SIZE).batch(BATCH_SIZE)\n",
    "\n",
    "\n",
    "ds = tf.data.Dataset.from_tensor_slices(({\"input_snapshots\": snapshot_list},\n",
    "                                        {\"label\":snapshot_label_list, \"reconstruction\":snapshot_list}))\n",
    "\"\"\"train_dataset = tf.data.Dataset.from_tensor_slices(\n",
    "    ({'img_input': img_data, 'ts_input': ts_data},\n",
    "     {'score_output': score_targets, 'class_output': class_targets}))\n",
    "\"\"\"\n",
    "\n",
    "train_ds = ds.take(SNAP_TRAIN_SIZE).batch(BATCH_SIZE)\n",
    "test_ds = ds.skip(SNAP_TRAIN_SIZE).batch(BATCH_SIZE)"
   ]
  },
  {
   "cell_type": "code",
   "execution_count": 127,
   "metadata": {},
   "outputs": [
    {
     "name": "stdout",
     "output_type": "stream",
     "text": [
      "({'input_snapshots': array([[-0.342,  0.113, -0.935, -0.131, -0.17 ,  0.022, -0.276,  0.439,\n",
      "        -0.419,  0.216],\n",
      "       [-0.332,  0.118,  0.344,  0.701, -0.398,  0.161,  0.502,  0.995,\n",
      "        -0.478,  0.624]])}, {'label': array([0., 0.]), 'reconstruction': array([[-0.342,  0.113, -0.935, -0.131, -0.17 ,  0.022, -0.276,  0.439,\n",
      "        -0.419,  0.216],\n",
      "       [-0.332,  0.118,  0.344,  0.701, -0.398,  0.161,  0.502,  0.995,\n",
      "        -0.478,  0.624]])})\n"
     ]
    }
   ],
   "source": [
    "took1 = train_ds.take(1)\n",
    "for element in took1.as_numpy_iterator():\n",
    "    print(element)"
   ]
  },
  {
   "cell_type": "code",
   "execution_count": 128,
   "metadata": {},
   "outputs": [
    {
     "data": {
      "image/png": "[encoded data removed]",
      "text/plain": [
       "<IPython.core.display.Image object>"
      ]
     },
     "metadata": {},
     "output_type": "display_data"
    }
   ],
   "source": [
    "import pydot\n",
    "%matplotlib notebook\n",
    "input_snapshots = keras.Input(shape=(len(INPUT_NAMES),),name=\"input_snapshots\")\n",
    "x = keras.layers.Dense(len(INPUT_NAMES))(input_snapshots)\n",
    "x = keras.layers.Dense(len(INPUT_NAMES)*2, activation='tanh')(x)\n",
    "output_1 = keras.layers.Dense(1, activation='tanh',name=\"label\")(x)\n",
    "output_2 = keras.layers.Dense(len(INPUT_NAMES), activation='tanh',name=\"reconstruction\")(x)\n",
    "\n",
    "model = keras.Model(inputs=input_snapshots,outputs=[output_1,output_2])\n",
    "model_layout = keras.utils.plot_model(model, 'multi_input_and_output_model.png', show_shapes=True)\n",
    "display.display(model_layout)"
   ]
  },
  {
   "cell_type": "code",
   "execution_count": 129,
   "metadata": {},
   "outputs": [],
   "source": [
    "model.compile(optimizer=keras.optimizers.RMSprop(1e-3),\n",
    "              loss={'label':keras.losses.SparseCategoricalCrossentropy(from_logits=True),\n",
    "                      'reconstruction': keras.losses.SparseCategoricalCrossentropy(from_logits=True)},\n",
    "              loss_weights=[1., 0.2])"
   ]
  },
  {
   "cell_type": "code",
   "execution_count": 130,
   "metadata": {
    "scrolled": true
   },
   "outputs": [
    {
     "name": "stdout",
     "output_type": "stream",
     "text": [
      "[[-0.342  0.113 -0.935 -0.131 -0.17   0.022 -0.276  0.439 -0.419  0.216]\n",
      " [-0.332  0.118  0.344  0.701 -0.398  0.161  0.502  0.995 -0.478  0.624]]\n",
      "[0. 0.]\n",
      "[0. 0.]\n"
     ]
    }
   ],
   "source": [
    "took1 = train_s_ds.take(1)\n",
    "for element in took1.as_numpy_iterator():\n",
    "    print(element)\n",
    "took1 = train_sl_ds.take(1)\n",
    "for element in took1.as_numpy_iterator():\n",
    "    print(element)\n",
    "took1 = train_spl_ds.take(1)\n",
    "for element in took1.as_numpy_iterator():\n",
    "    print(element)"
   ]
  },
  {
   "cell_type": "code",
   "execution_count": 131,
   "metadata": {},
   "outputs": [
    {
     "name": "stdout",
     "output_type": "stream",
     "text": [
      "[-0.342  0.113 -0.935 -0.131 -0.17   0.022 -0.276  0.439 -0.419  0.216]\n",
      "[-0.332  0.118  0.344  0.701 -0.398  0.161  0.502  0.995 -0.478  0.624]\n",
      "[-0.324  0.122  0.108 -0.326 -0.06  -0.547  0.957  0.993  0.825  0.955]\n",
      "0.0\n",
      "0.0\n",
      "0.0\n",
      "0.0\n",
      "0.0\n",
      "0.0\n",
      "(230563, 10) (230563,)\n"
     ]
    }
   ],
   "source": []
  },
  {
   "cell_type": "code",
   "execution_count": 134,
   "metadata": {},
   "outputs": [
    {
     "name": "stdout",
     "output_type": "stream",
     "text": [
      "Train for 80697 steps\n",
      "Epoch 1/2\n",
      "    1/80697 [..............................] - ETA: 7:04:15"
     ]
    },
    {
     "ename": "InvalidArgumentError",
     "evalue": " logits and labels must have the same first dimension, got logits shape [2,10] and labels shape [20]\n\t [[node loss/reconstruction_loss/SparseSoftmaxCrossEntropyWithLogits/SparseSoftmaxCrossEntropyWithLogits (defined at <ipython-input-134-ce3fb8cee530>:2) ]] [Op:__inference_distributed_function_8435]\n\nFunction call stack:\ndistributed_function\n",
     "output_type": "error",
     "traceback": [
      "\u001b[0;31m---------------------------------------------------------------------------\u001b[0m",
      "\u001b[0;31mInvalidArgumentError\u001b[0m                      Traceback (most recent call last)",
      "\u001b[0;32m<ipython-input-134-ce3fb8cee530>\u001b[0m in \u001b[0;36m<module>\u001b[0;34m\u001b[0m\n\u001b[1;32m      1\u001b[0m model.fit(train_ds,\n\u001b[0;32m----> 2\u001b[0;31m           epochs=2)\n\u001b[0m",
      "\u001b[0;32m~/anaconda3/lib/python3.7/site-packages/tensorflow_core/python/keras/engine/training.py\u001b[0m in \u001b[0;36mfit\u001b[0;34m(self, x, y, batch_size, epochs, verbose, callbacks, validation_split, validation_data, shuffle, class_weight, sample_weight, initial_epoch, steps_per_epoch, validation_steps, validation_freq, max_queue_size, workers, use_multiprocessing, **kwargs)\u001b[0m\n\u001b[1;32m    817\u001b[0m         \u001b[0mmax_queue_size\u001b[0m\u001b[0;34m=\u001b[0m\u001b[0mmax_queue_size\u001b[0m\u001b[0;34m,\u001b[0m\u001b[0;34m\u001b[0m\u001b[0;34m\u001b[0m\u001b[0m\n\u001b[1;32m    818\u001b[0m         \u001b[0mworkers\u001b[0m\u001b[0;34m=\u001b[0m\u001b[0mworkers\u001b[0m\u001b[0;34m,\u001b[0m\u001b[0;34m\u001b[0m\u001b[0;34m\u001b[0m\u001b[0m\n\u001b[0;32m--> 819\u001b[0;31m         use_multiprocessing=use_multiprocessing)\n\u001b[0m\u001b[1;32m    820\u001b[0m \u001b[0;34m\u001b[0m\u001b[0m\n\u001b[1;32m    821\u001b[0m   def evaluate(self,\n",
      "\u001b[0;32m~/anaconda3/lib/python3.7/site-packages/tensorflow_core/python/keras/engine/training_v2.py\u001b[0m in \u001b[0;36mfit\u001b[0;34m(self, model, x, y, batch_size, epochs, verbose, callbacks, validation_split, validation_data, shuffle, class_weight, sample_weight, initial_epoch, steps_per_epoch, validation_steps, validation_freq, max_queue_size, workers, use_multiprocessing, **kwargs)\u001b[0m\n\u001b[1;32m    340\u001b[0m                 \u001b[0mmode\u001b[0m\u001b[0;34m=\u001b[0m\u001b[0mModeKeys\u001b[0m\u001b[0;34m.\u001b[0m\u001b[0mTRAIN\u001b[0m\u001b[0;34m,\u001b[0m\u001b[0;34m\u001b[0m\u001b[0;34m\u001b[0m\u001b[0m\n\u001b[1;32m    341\u001b[0m                 \u001b[0mtraining_context\u001b[0m\u001b[0;34m=\u001b[0m\u001b[0mtraining_context\u001b[0m\u001b[0;34m,\u001b[0m\u001b[0;34m\u001b[0m\u001b[0;34m\u001b[0m\u001b[0m\n\u001b[0;32m--> 342\u001b[0;31m                 total_epochs=epochs)\n\u001b[0m\u001b[1;32m    343\u001b[0m             \u001b[0mcbks\u001b[0m\u001b[0;34m.\u001b[0m\u001b[0mmake_logs\u001b[0m\u001b[0;34m(\u001b[0m\u001b[0mmodel\u001b[0m\u001b[0;34m,\u001b[0m \u001b[0mepoch_logs\u001b[0m\u001b[0;34m,\u001b[0m \u001b[0mtraining_result\u001b[0m\u001b[0;34m,\u001b[0m \u001b[0mModeKeys\u001b[0m\u001b[0;34m.\u001b[0m\u001b[0mTRAIN\u001b[0m\u001b[0;34m)\u001b[0m\u001b[0;34m\u001b[0m\u001b[0;34m\u001b[0m\u001b[0m\n\u001b[1;32m    344\u001b[0m \u001b[0;34m\u001b[0m\u001b[0m\n",
      "\u001b[0;32m~/anaconda3/lib/python3.7/site-packages/tensorflow_core/python/keras/engine/training_v2.py\u001b[0m in \u001b[0;36mrun_one_epoch\u001b[0;34m(model, iterator, execution_function, dataset_size, batch_size, strategy, steps_per_epoch, num_samples, mode, training_context, total_epochs)\u001b[0m\n\u001b[1;32m    126\u001b[0m         step=step, mode=mode, size=current_batch_size) as batch_logs:\n\u001b[1;32m    127\u001b[0m       \u001b[0;32mtry\u001b[0m\u001b[0;34m:\u001b[0m\u001b[0;34m\u001b[0m\u001b[0;34m\u001b[0m\u001b[0m\n\u001b[0;32m--> 128\u001b[0;31m         \u001b[0mbatch_outs\u001b[0m \u001b[0;34m=\u001b[0m \u001b[0mexecution_function\u001b[0m\u001b[0;34m(\u001b[0m\u001b[0miterator\u001b[0m\u001b[0;34m)\u001b[0m\u001b[0;34m\u001b[0m\u001b[0;34m\u001b[0m\u001b[0m\n\u001b[0m\u001b[1;32m    129\u001b[0m       \u001b[0;32mexcept\u001b[0m \u001b[0;34m(\u001b[0m\u001b[0mStopIteration\u001b[0m\u001b[0;34m,\u001b[0m \u001b[0merrors\u001b[0m\u001b[0;34m.\u001b[0m\u001b[0mOutOfRangeError\u001b[0m\u001b[0;34m)\u001b[0m\u001b[0;34m:\u001b[0m\u001b[0;34m\u001b[0m\u001b[0;34m\u001b[0m\u001b[0m\n\u001b[1;32m    130\u001b[0m         \u001b[0;31m# TODO(kaftan): File bug about tf function and errors.OutOfRangeError?\u001b[0m\u001b[0;34m\u001b[0m\u001b[0;34m\u001b[0m\u001b[0;34m\u001b[0m\u001b[0m\n",
      "\u001b[0;32m~/anaconda3/lib/python3.7/site-packages/tensorflow_core/python/keras/engine/training_v2_utils.py\u001b[0m in \u001b[0;36mexecution_function\u001b[0;34m(input_fn)\u001b[0m\n\u001b[1;32m     96\u001b[0m     \u001b[0;31m# `numpy` translates Tensors to values in Eager mode.\u001b[0m\u001b[0;34m\u001b[0m\u001b[0;34m\u001b[0m\u001b[0;34m\u001b[0m\u001b[0m\n\u001b[1;32m     97\u001b[0m     return nest.map_structure(_non_none_constant_value,\n\u001b[0;32m---> 98\u001b[0;31m                               distributed_function(input_fn))\n\u001b[0m\u001b[1;32m     99\u001b[0m \u001b[0;34m\u001b[0m\u001b[0m\n\u001b[1;32m    100\u001b[0m   \u001b[0;32mreturn\u001b[0m \u001b[0mexecution_function\u001b[0m\u001b[0;34m\u001b[0m\u001b[0;34m\u001b[0m\u001b[0m\n",
      "\u001b[0;32m~/anaconda3/lib/python3.7/site-packages/tensorflow_core/python/eager/def_function.py\u001b[0m in \u001b[0;36m__call__\u001b[0;34m(self, *args, **kwds)\u001b[0m\n\u001b[1;32m    566\u001b[0m         \u001b[0mxla_context\u001b[0m\u001b[0;34m.\u001b[0m\u001b[0mExit\u001b[0m\u001b[0;34m(\u001b[0m\u001b[0;34m)\u001b[0m\u001b[0;34m\u001b[0m\u001b[0;34m\u001b[0m\u001b[0m\n\u001b[1;32m    567\u001b[0m     \u001b[0;32melse\u001b[0m\u001b[0;34m:\u001b[0m\u001b[0;34m\u001b[0m\u001b[0;34m\u001b[0m\u001b[0m\n\u001b[0;32m--> 568\u001b[0;31m       \u001b[0mresult\u001b[0m \u001b[0;34m=\u001b[0m \u001b[0mself\u001b[0m\u001b[0;34m.\u001b[0m\u001b[0m_call\u001b[0m\u001b[0;34m(\u001b[0m\u001b[0;34m*\u001b[0m\u001b[0margs\u001b[0m\u001b[0;34m,\u001b[0m \u001b[0;34m**\u001b[0m\u001b[0mkwds\u001b[0m\u001b[0;34m)\u001b[0m\u001b[0;34m\u001b[0m\u001b[0;34m\u001b[0m\u001b[0m\n\u001b[0m\u001b[1;32m    569\u001b[0m \u001b[0;34m\u001b[0m\u001b[0m\n\u001b[1;32m    570\u001b[0m     \u001b[0;32mif\u001b[0m \u001b[0mtracing_count\u001b[0m \u001b[0;34m==\u001b[0m \u001b[0mself\u001b[0m\u001b[0;34m.\u001b[0m\u001b[0m_get_tracing_count\u001b[0m\u001b[0;34m(\u001b[0m\u001b[0;34m)\u001b[0m\u001b[0;34m:\u001b[0m\u001b[0;34m\u001b[0m\u001b[0;34m\u001b[0m\u001b[0m\n",
      "\u001b[0;32m~/anaconda3/lib/python3.7/site-packages/tensorflow_core/python/eager/def_function.py\u001b[0m in \u001b[0;36m_call\u001b[0;34m(self, *args, **kwds)\u001b[0m\n\u001b[1;32m    597\u001b[0m       \u001b[0;31m# In this case we have created variables on the first call, so we run the\u001b[0m\u001b[0;34m\u001b[0m\u001b[0;34m\u001b[0m\u001b[0;34m\u001b[0m\u001b[0m\n\u001b[1;32m    598\u001b[0m       \u001b[0;31m# defunned version which is guaranteed to never create variables.\u001b[0m\u001b[0;34m\u001b[0m\u001b[0;34m\u001b[0m\u001b[0;34m\u001b[0m\u001b[0m\n\u001b[0;32m--> 599\u001b[0;31m       \u001b[0;32mreturn\u001b[0m \u001b[0mself\u001b[0m\u001b[0;34m.\u001b[0m\u001b[0m_stateless_fn\u001b[0m\u001b[0;34m(\u001b[0m\u001b[0;34m*\u001b[0m\u001b[0margs\u001b[0m\u001b[0;34m,\u001b[0m \u001b[0;34m**\u001b[0m\u001b[0mkwds\u001b[0m\u001b[0;34m)\u001b[0m  \u001b[0;31m# pylint: disable=not-callable\u001b[0m\u001b[0;34m\u001b[0m\u001b[0;34m\u001b[0m\u001b[0m\n\u001b[0m\u001b[1;32m    600\u001b[0m     \u001b[0;32melif\u001b[0m \u001b[0mself\u001b[0m\u001b[0;34m.\u001b[0m\u001b[0m_stateful_fn\u001b[0m \u001b[0;32mis\u001b[0m \u001b[0;32mnot\u001b[0m \u001b[0;32mNone\u001b[0m\u001b[0;34m:\u001b[0m\u001b[0;34m\u001b[0m\u001b[0;34m\u001b[0m\u001b[0m\n\u001b[1;32m    601\u001b[0m       \u001b[0;31m# Release the lock early so that multiple threads can perform the call\u001b[0m\u001b[0;34m\u001b[0m\u001b[0;34m\u001b[0m\u001b[0;34m\u001b[0m\u001b[0m\n",
      "\u001b[0;32m~/anaconda3/lib/python3.7/site-packages/tensorflow_core/python/eager/function.py\u001b[0m in \u001b[0;36m__call__\u001b[0;34m(self, *args, **kwargs)\u001b[0m\n\u001b[1;32m   2361\u001b[0m     \u001b[0;32mwith\u001b[0m \u001b[0mself\u001b[0m\u001b[0;34m.\u001b[0m\u001b[0m_lock\u001b[0m\u001b[0;34m:\u001b[0m\u001b[0;34m\u001b[0m\u001b[0;34m\u001b[0m\u001b[0m\n\u001b[1;32m   2362\u001b[0m       \u001b[0mgraph_function\u001b[0m\u001b[0;34m,\u001b[0m \u001b[0margs\u001b[0m\u001b[0;34m,\u001b[0m \u001b[0mkwargs\u001b[0m \u001b[0;34m=\u001b[0m \u001b[0mself\u001b[0m\u001b[0;34m.\u001b[0m\u001b[0m_maybe_define_function\u001b[0m\u001b[0;34m(\u001b[0m\u001b[0margs\u001b[0m\u001b[0;34m,\u001b[0m \u001b[0mkwargs\u001b[0m\u001b[0;34m)\u001b[0m\u001b[0;34m\u001b[0m\u001b[0;34m\u001b[0m\u001b[0m\n\u001b[0;32m-> 2363\u001b[0;31m     \u001b[0;32mreturn\u001b[0m \u001b[0mgraph_function\u001b[0m\u001b[0;34m.\u001b[0m\u001b[0m_filtered_call\u001b[0m\u001b[0;34m(\u001b[0m\u001b[0margs\u001b[0m\u001b[0;34m,\u001b[0m \u001b[0mkwargs\u001b[0m\u001b[0;34m)\u001b[0m  \u001b[0;31m# pylint: disable=protected-access\u001b[0m\u001b[0;34m\u001b[0m\u001b[0;34m\u001b[0m\u001b[0m\n\u001b[0m\u001b[1;32m   2364\u001b[0m \u001b[0;34m\u001b[0m\u001b[0m\n\u001b[1;32m   2365\u001b[0m   \u001b[0;34m@\u001b[0m\u001b[0mproperty\u001b[0m\u001b[0;34m\u001b[0m\u001b[0;34m\u001b[0m\u001b[0m\n",
      "\u001b[0;32m~/anaconda3/lib/python3.7/site-packages/tensorflow_core/python/eager/function.py\u001b[0m in \u001b[0;36m_filtered_call\u001b[0;34m(self, args, kwargs)\u001b[0m\n\u001b[1;32m   1609\u001b[0m          if isinstance(t, (ops.Tensor,\n\u001b[1;32m   1610\u001b[0m                            resource_variable_ops.BaseResourceVariable))),\n\u001b[0;32m-> 1611\u001b[0;31m         self.captured_inputs)\n\u001b[0m\u001b[1;32m   1612\u001b[0m \u001b[0;34m\u001b[0m\u001b[0m\n\u001b[1;32m   1613\u001b[0m   \u001b[0;32mdef\u001b[0m \u001b[0m_call_flat\u001b[0m\u001b[0;34m(\u001b[0m\u001b[0mself\u001b[0m\u001b[0;34m,\u001b[0m \u001b[0margs\u001b[0m\u001b[0;34m,\u001b[0m \u001b[0mcaptured_inputs\u001b[0m\u001b[0;34m,\u001b[0m \u001b[0mcancellation_manager\u001b[0m\u001b[0;34m=\u001b[0m\u001b[0;32mNone\u001b[0m\u001b[0;34m)\u001b[0m\u001b[0;34m:\u001b[0m\u001b[0;34m\u001b[0m\u001b[0;34m\u001b[0m\u001b[0m\n",
      "\u001b[0;32m~/anaconda3/lib/python3.7/site-packages/tensorflow_core/python/eager/function.py\u001b[0m in \u001b[0;36m_call_flat\u001b[0;34m(self, args, captured_inputs, cancellation_manager)\u001b[0m\n\u001b[1;32m   1690\u001b[0m       \u001b[0;31m# No tape is watching; skip to running the function.\u001b[0m\u001b[0;34m\u001b[0m\u001b[0;34m\u001b[0m\u001b[0;34m\u001b[0m\u001b[0m\n\u001b[1;32m   1691\u001b[0m       return self._build_call_outputs(self._inference_function.call(\n\u001b[0;32m-> 1692\u001b[0;31m           ctx, args, cancellation_manager=cancellation_manager))\n\u001b[0m\u001b[1;32m   1693\u001b[0m     forward_backward = self._select_forward_and_backward_functions(\n\u001b[1;32m   1694\u001b[0m         \u001b[0margs\u001b[0m\u001b[0;34m,\u001b[0m\u001b[0;34m\u001b[0m\u001b[0;34m\u001b[0m\u001b[0m\n",
      "\u001b[0;32m~/anaconda3/lib/python3.7/site-packages/tensorflow_core/python/eager/function.py\u001b[0m in \u001b[0;36mcall\u001b[0;34m(self, ctx, args, cancellation_manager)\u001b[0m\n\u001b[1;32m    543\u001b[0m               \u001b[0minputs\u001b[0m\u001b[0;34m=\u001b[0m\u001b[0margs\u001b[0m\u001b[0;34m,\u001b[0m\u001b[0;34m\u001b[0m\u001b[0;34m\u001b[0m\u001b[0m\n\u001b[1;32m    544\u001b[0m               \u001b[0mattrs\u001b[0m\u001b[0;34m=\u001b[0m\u001b[0;34m(\u001b[0m\u001b[0;34m\"executor_type\"\u001b[0m\u001b[0;34m,\u001b[0m \u001b[0mexecutor_type\u001b[0m\u001b[0;34m,\u001b[0m \u001b[0;34m\"config_proto\"\u001b[0m\u001b[0;34m,\u001b[0m \u001b[0mconfig\u001b[0m\u001b[0;34m)\u001b[0m\u001b[0;34m,\u001b[0m\u001b[0;34m\u001b[0m\u001b[0;34m\u001b[0m\u001b[0m\n\u001b[0;32m--> 545\u001b[0;31m               ctx=ctx)\n\u001b[0m\u001b[1;32m    546\u001b[0m         \u001b[0;32melse\u001b[0m\u001b[0;34m:\u001b[0m\u001b[0;34m\u001b[0m\u001b[0;34m\u001b[0m\u001b[0m\n\u001b[1;32m    547\u001b[0m           outputs = execute.execute_with_cancellation(\n",
      "\u001b[0;32m~/anaconda3/lib/python3.7/site-packages/tensorflow_core/python/eager/execute.py\u001b[0m in \u001b[0;36mquick_execute\u001b[0;34m(op_name, num_outputs, inputs, attrs, ctx, name)\u001b[0m\n\u001b[1;32m     65\u001b[0m     \u001b[0;32melse\u001b[0m\u001b[0;34m:\u001b[0m\u001b[0;34m\u001b[0m\u001b[0;34m\u001b[0m\u001b[0m\n\u001b[1;32m     66\u001b[0m       \u001b[0mmessage\u001b[0m \u001b[0;34m=\u001b[0m \u001b[0me\u001b[0m\u001b[0;34m.\u001b[0m\u001b[0mmessage\u001b[0m\u001b[0;34m\u001b[0m\u001b[0;34m\u001b[0m\u001b[0m\n\u001b[0;32m---> 67\u001b[0;31m     \u001b[0msix\u001b[0m\u001b[0;34m.\u001b[0m\u001b[0mraise_from\u001b[0m\u001b[0;34m(\u001b[0m\u001b[0mcore\u001b[0m\u001b[0;34m.\u001b[0m\u001b[0m_status_to_exception\u001b[0m\u001b[0;34m(\u001b[0m\u001b[0me\u001b[0m\u001b[0;34m.\u001b[0m\u001b[0mcode\u001b[0m\u001b[0;34m,\u001b[0m \u001b[0mmessage\u001b[0m\u001b[0;34m)\u001b[0m\u001b[0;34m,\u001b[0m \u001b[0;32mNone\u001b[0m\u001b[0;34m)\u001b[0m\u001b[0;34m\u001b[0m\u001b[0;34m\u001b[0m\u001b[0m\n\u001b[0m\u001b[1;32m     68\u001b[0m   \u001b[0;32mexcept\u001b[0m \u001b[0mTypeError\u001b[0m \u001b[0;32mas\u001b[0m \u001b[0me\u001b[0m\u001b[0;34m:\u001b[0m\u001b[0;34m\u001b[0m\u001b[0;34m\u001b[0m\u001b[0m\n\u001b[1;32m     69\u001b[0m     keras_symbolic_tensors = [\n",
      "\u001b[0;32m~/anaconda3/lib/python3.7/site-packages/six.py\u001b[0m in \u001b[0;36mraise_from\u001b[0;34m(value, from_value)\u001b[0m\n",
      "\u001b[0;31mInvalidArgumentError\u001b[0m:  logits and labels must have the same first dimension, got logits shape [2,10] and labels shape [20]\n\t [[node loss/reconstruction_loss/SparseSoftmaxCrossEntropyWithLogits/SparseSoftmaxCrossEntropyWithLogits (defined at <ipython-input-134-ce3fb8cee530>:2) ]] [Op:__inference_distributed_function_8435]\n\nFunction call stack:\ndistributed_function\n"
     ]
    }
   ],
   "source": [
    "model.fit(train_ds,\n",
    "          epochs=2)\n"
   ]
  },
  {
   "cell_type": "code",
   "execution_count": null,
   "metadata": {},
   "outputs": [],
   "source": [
    "took1 = train_s_ds.take(1)\n",
    "for element in took1.as_numpy_iterator():\n",
    "    print(element)\n",
    "took1 = train_sl_ds.take(1)\n",
    "for element in took1.as_numpy_iterator():\n",
    "    print(element)\n",
    "took1 = train_spl_ds.take(1)\n",
    "for element in took1.as_numpy_iterator():\n",
    "    print(element)"
   ]
  },
  {
   "cell_type": "code",
   "execution_count": 16,
   "metadata": {
    "scrolled": true
   },
   "outputs": [
    {
     "name": "stdout",
     "output_type": "stream",
     "text": [
      "Train for 80305 steps\n",
      "80305/80305 [==============================] - 99s 1ms/step - loss: 0.2098 - mean_squared_error: 0.2098\n"
     ]
    },
    {
     "data": {
      "text/plain": [
       "<tensorflow.python.keras.callbacks.History at 0x7f32157bf6d0>"
      ]
     },
     "execution_count": 16,
     "metadata": {},
     "output_type": "execute_result"
    }
   ],
   "source": [
    "model = tf.keras.Sequential([\n",
    "    tf.keras.layers.Dense(len(INPUT_NAMES),input_shape=(len(INPUT_NAMES),)),\n",
    "    tf.keras.layers.Dense(len(INPUT_NAMES)*2, activation='tanh'),\n",
    "    tf.keras.layers.Dense(len(INPUT_NAMES)*2, activation='tanh'),\n",
    "    tf.keras.layers.Dense(2, activation='tanh'),\n",
    "    tf.keras.layers.Dense(len(INPUT_NAMES)*2, activation='tanh'),\n",
    "    tf.keras.layers.Dense(len(INPUT_NAMES)*2, activation='tanh'),\n",
    "    tf.keras.layers.Dense(len(INPUT_NAMES))])\n",
    "\n",
    "model.compile(optimizer=tf.keras.optimizers.Adam(),\n",
    "                    loss=tf.keras.losses.MeanSquaredError(),\n",
    "                    metrics=[tf.keras.metrics.MeanSquaredError()])\n",
    "tf.print\n",
    "\n",
    "model.fit(train_ss_ds, epochs=1)\n",
    "\n"
   ]
  },
  {
   "cell_type": "code",
   "execution_count": 37,
   "metadata": {},
   "outputs": [
    {
     "name": "stdout",
     "output_type": "stream",
     "text": [
      "[<tf.Tensor 'dense_27/Identity:0' shape=(None, 10) dtype=float32>, <tf.Tensor 'dense_28/Identity:0' shape=(None, 20) dtype=float32>, <tf.Tensor 'dense_29/Identity:0' shape=(None, 20) dtype=float32>, <tf.Tensor 'dense_30/Identity:0' shape=(None, 2) dtype=float32>, <tf.Tensor 'dense_31/Identity:0' shape=(None, 20) dtype=float32>, <tf.Tensor 'dense_32/Identity:0' shape=(None, 20) dtype=float32>, <tf.Tensor 'dense_33/Identity:0' shape=(None, 10) dtype=float32>]\n",
      "[<tf.Tensor: shape=(1, 10), dtype=float32, numpy=\n",
      "array([[-0.273, -0.464, -0.47 , -0.025,  0.037, -0.45 ,  0.029, -0.035,\n",
      "         0.116, -0.016]], dtype=float32)>, <tf.Tensor: shape=(1, 20), dtype=float32, numpy=\n",
      "array([[-0.071,  0.101,  0.009,  0.008,  0.018,  0.043, -0.004,  0.001,\n",
      "        -0.091, -0.01 ,  0.096,  0.019, -0.009, -0.181,  0.02 ,  0.156,\n",
      "        -0.202, -0.011, -0.004, -0.015]], dtype=float32)>, <tf.Tensor: shape=(1, 20), dtype=float32, numpy=\n",
      "array([[-0.002,  0.002,  0.187, -0.023,  0.001,  0.135, -0.003,  0.   ,\n",
      "         0.005,  0.001, -0.001,  0.002,  0.15 ,  0.104,  0.001, -0.165,\n",
      "        -0.513,  0.002,  0.028, -0.013]], dtype=float32)>, <tf.Tensor: shape=(1, 2), dtype=float32, numpy=array([[-0.064, -0.129]], dtype=float32)>, <tf.Tensor: shape=(1, 20), dtype=float32, numpy=\n",
      "array([[ 0.03 , -0.006, -0.018,  0.011,  0.002,  0.   , -0.046,  0.051,\n",
      "        -0.004,  0.022, -0.006, -0.007, -0.011, -0.004,  0.017,  0.007,\n",
      "         0.013, -0.053, -0.057,  0.052]], dtype=float32)>, <tf.Tensor: shape=(1, 20), dtype=float32, numpy=\n",
      "array([[ 0.012, -0.087,  0.051, -0.002,  0.121,  0.058,  0.103,  0.2  ,\n",
      "         0.027,  0.016, -0.022,  0.022, -0.051, -0.18 ,  0.07 , -0.031,\n",
      "        -0.036,  0.031,  0.033, -0.03 ]], dtype=float32)>, <tf.Tensor: shape=(1, 10), dtype=float32, numpy=\n",
      "array([[ 0.382, -0.022,  0.206, -0.153, -0.16 ,  0.282,  0.221, -0.189,\n",
      "         0.254,  0.516]], dtype=float32)>]\n"
     ]
    }
   ],
   "source": [
    "# accessing the output of all layers\n",
    "\n",
    "features_list = [layer.output for layer in model.layers]\n",
    "print(features_list)\n",
    "feat_extraction_model = keras.Model(inputs=model.input, outputs=features_list)\n",
    "\n",
    "img = np.random.random((1,10)).astype('float32')\n",
    "extracted_features = feat_extraction_model(img)\n",
    "print(extracted_features)"
   ]
  },
  {
   "cell_type": "code",
   "execution_count": 129,
   "metadata": {},
   "outputs": [
    {
     "name": "stdout",
     "output_type": "stream",
     "text": [
      "Model: \"sequential_7\"\n",
      "_________________________________________________________________\n",
      "Layer (type)                 Output Shape              Param #   \n",
      "=================================================================\n",
      "dense_23 (Dense)             (None, 10)                110       \n",
      "_________________________________________________________________\n",
      "dense_24 (Dense)             (None, 20)                220       \n",
      "_________________________________________________________________\n",
      "dense_25 (Dense)             (None, 20)                420       \n",
      "_________________________________________________________________\n",
      "dense_26 (Dense)             (None, 2)                 42        \n",
      "_________________________________________________________________\n",
      "dense_27 (Dense)             (None, 20)                60        \n",
      "_________________________________________________________________\n",
      "dense_28 (Dense)             (None, 20)                420       \n",
      "_________________________________________________________________\n",
      "dense_29 (Dense)             (None, 10)                210       \n",
      "=================================================================\n",
      "Total params: 1,482\n",
      "Trainable params: 1,482\n",
      "Non-trainable params: 0\n",
      "_________________________________________________________________\n"
     ]
    }
   ],
   "source": [
    "model.summary()"
   ]
  },
  {
   "cell_type": "code",
   "execution_count": 130,
   "metadata": {},
   "outputs": [
    {
     "name": "stdout",
     "output_type": "stream",
     "text": [
      "tf.Tensor([0.673 0.176], shape=(2,), dtype=float64)\n",
      "[-0.088  0.085]\n",
      "tf.Tensor(1.0, shape=(), dtype=float64)\n"
     ]
    }
   ],
   "source": [
    "example_batch, label_batch = next(iter(train_sl_ds))    \n",
    "\n",
    "\n",
    "# with a Sequential model\n",
    "output = K.function([model.layers[0].input],\n",
    "                    [model.layers[3].output])\n",
    "layer_output = output(example_batch)[0]\n",
    "'''''''''''''''''''''''''''''''Do Stuff'\n",
    "#print(output)\n",
    "print(example_batch[0][:2])\n",
    "print(layer_output[0])\n",
    "print(label_batch[0])"
   ]
  },
  {
   "cell_type": "code",
   "execution_count": 131,
   "metadata": {},
   "outputs": [
    {
     "name": "stdout",
     "output_type": "stream",
     "text": [
      "200/200 [==============================] - 0s 1ms/step - loss: 0.2169 - mean_squared_error: 0.2169\n"
     ]
    }
   ],
   "source": [
    "test_loss, test_acc = model.evaluate(test_ss_ds, verbose=1, steps = 200)"
   ]
  },
  {
   "cell_type": "code",
   "execution_count": null,
   "metadata": {},
   "outputs": [],
   "source": []
  },
  {
   "cell_type": "code",
   "execution_count": null,
   "metadata": {},
   "outputs": [],
   "source": [
    "encoder_input = keras.Input(shape=(28, 28, 1), name='img')\n",
    "x = layers.Conv2D(16, 3, activation='relu')(encoder_input)\n",
    "x = layers.Conv2D(32, 3, activation='relu')(x)\n",
    "x = layers.MaxPooling2D(3)(x)\n",
    "x = layers.Conv2D(32, 3, activation='relu')(x)\n",
    "x = layers.Conv2D(16, 3, activation='relu')(x)\n",
    "encoder_output = layers.GlobalMaxPooling2D()(x)\n",
    "\n",
    "encoder = keras.Model(encoder_input, encoder_output, name='encoder')\n",
    "encoder.summary()\n",
    "\n",
    "x = layers.Reshape((4, 4, 1))(encoder_output)\n",
    "x = layers.Conv2DTranspose(16, 3, activation='relu')(x)\n",
    "x = layers.Conv2DTranspose(32, 3, activation='relu')(x)\n",
    "x = layers.UpSampling2D(3)(x)\n",
    "x = layers.Conv2DTranspose(16, 3, activation='relu')(x)\n",
    "decoder_output = layers.Conv2DTranspose(1, 3, activation='relu')(x)\n",
    "\n",
    "autoencoder = keras.Model(encoder_input, decoder_output, name='autoencoder')\n",
    "autoencoder.summary()\n"
   ]
  },
  {
   "cell_type": "code",
   "execution_count": null,
   "metadata": {},
   "outputs": [],
   "source": [
    "encoder_input = keras.Input(shape=(28, 28, 1), name='original_img')\n",
    "x = layers.Conv2D(16, 3, activation='relu')(encoder_input)\n",
    "x = layers.Conv2D(32, 3, activation='relu')(x)\n",
    "x = layers.MaxPooling2D(3)(x)\n",
    "x = layers.Conv2D(32, 3, activation='relu')(x)\n",
    "x = layers.Conv2D(16, 3, activation='relu')(x)\n",
    "encoder_output = layers.GlobalMaxPooling2D()(x)\n",
    "\n",
    "encoder = keras.Model(encoder_input, encoder_output, name='encoder')\n",
    "encoder.summary()\n",
    "\n",
    "decoder_input = keras.Input(shape=(16,), name='encoded_img')\n",
    "x = layers.Reshape((4, 4, 1))(decoder_input)\n",
    "x = layers.Conv2DTranspose(16, 3, activation='relu')(x)\n",
    "x = layers.Conv2DTranspose(32, 3, activation='relu')(x)\n",
    "x = layers.UpSampling2D(3)(x)\n",
    "x = layers.Conv2DTranspose(16, 3, activation='relu')(x)\n",
    "decoder_output = layers.Conv2DTranspose(1, 3, activation='relu')(x)\n",
    "\n",
    "decoder = keras.Model(decoder_input, decoder_output, name='decoder')\n",
    "decoder.summary()\n",
    "\n",
    "autoencoder_input = keras.Input(shape=(28, 28, 1), name='img')\n",
    "encoded_img = encoder(autoencoder_input)\n",
    "decoded_img = decoder(encoded_img)\n",
    "autoencoder = keras.Model(autoencoder_input, decoded_img, name='autoencoder')\n",
    "autoencoder.summary()\n"
   ]
  }
 ],
 "metadata": {
  "kernelspec": {
   "display_name": "Python 3",
   "language": "python",
   "name": "python3"
  },
  "language_info": {
   "codemirror_mode": {
    "name": "ipython",
    "version": 3
   },
   "file_extension": ".py",
   "mimetype": "text/x-python",
   "name": "python",
   "nbconvert_exporter": "python",
   "pygments_lexer": "ipython3",
   "version": "3.7.4"
  }
 },
 "nbformat": 4,
 "nbformat_minor": 2
}

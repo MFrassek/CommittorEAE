{
 "cells": [
  {
   "cell_type": "code",
   "execution_count": 1,
   "metadata": {},
   "outputs": [
    {
     "name": "stderr",
     "output_type": "stream",
     "text": [
      "Using TensorFlow backend.\n"
     ]
    }
   ],
   "source": [
    "from __future__ import absolute_import, division, print_function, unicode_literals\n",
    "\n",
    "import tensorflow as tf\n",
    "from keras import backend as K\n",
    "from tensorflow import keras\n",
    "import os\n",
    "import time\n",
    "import numpy as np\n",
    "import glob\n",
    "import matplotlib.pyplot as plt\n",
    "import PIL\n",
    "import imageio\n",
    "import random\n",
    "\n",
    "import pydot\n",
    "import math\n",
    "from sklearn.utils import shuffle\n",
    "\n",
    "from IPython import display\n",
    "\n",
    "import pickle\n",
    "\n",
    "np.set_printoptions(precision=3, suppress=True)"
   ]
  },
  {
   "cell_type": "code",
   "execution_count": 2,
   "metadata": {},
   "outputs": [],
   "source": [
    "COLUMN_NAMES = [\"dim1\", \"dim2\", \"dim3\", \"dim4\", \n",
    "                \"dim5\", \"dim6\", \"dim7\", \"dim8\", \n",
    "                \"dim9\", \"dim10\", \"label\"]\n",
    "LABEL_NAME = \"label\"\n",
    "INPUT_NAMES = list(COLUMN_NAMES)\n",
    "INPUT_NAMES.remove(LABEL_NAME)\n",
    "trajectory_list = pickle.load(open(\"N-Dim_Doublewell/trajectory_list.p\", \"rb\"))\n",
    "trajectory_label_list = pickle.load(open(\"N-Dim_Doublewell/trajectory_label_list.p\", \"rb\"))\n",
    "BATCH_SIZE = 64\n",
    "#SHUFFLE_BUFFER_SIZE = 1000000\n",
    "CORES_USED = 3\n",
    "DIMENSIONS = 10\n",
    "# sets a random seed for reproducibility of the shuffling process\n",
    "SEED = 5\n",
    "OFFSET = 5\n"
   ]
  },
  {
   "cell_type": "code",
   "execution_count": 3,
   "metadata": {},
   "outputs": [],
   "source": [
    "# additional section can be used for generation of present/future pairs\n",
    "def generate_offset_snapshot_list(trajectory_list, offset):\n",
    "    # Takes in a list or np.array of trajectories and an offset value and generates two np.arrays with respective new versions\n",
    "    # of the trajectories. \n",
    "    # present_trajectory_list contains all snapshots of the trajectories excluding\n",
    "    # the last n (speficified by offset) of each.\n",
    "    # future_trajectory_list contains all snapshots of the trajectories excluding\n",
    "    # the first n (specified by offset) of each.\n",
    "    # Consequently the both lists can be used as input and desired output of an autoencoder to\n",
    "    # train for future predictive variables.\n",
    "    present_trajectory_list = np.array([trajectory[:-offset] for trajectory in trajectory_list])  \n",
    "    #truncated_present_trajectory_list = \n",
    "    future_trajectory_list = np.array([trajectory[offset:] for trajectory in trajectory_list])\n",
    "    return present_trajectory_list, future_trajectory_list\n",
    "\n",
    "def get_snapshot_and_label_list(trajectory_list, trajectory_label_list, offset = 0, future = False, progress_label = False):\n",
    "    # takes in a list of trajectories and corresponding labels and generates concatenated lists of snapshots, \n",
    "    # snapshot label and snapshot progress labels\n",
    "    # can be used for present/future trajcetory lists by use or offset (same as used for generation of the list)\n",
    "    # and future = True for the future trajectory list\n",
    "    snapshot_list = []\n",
    "    snapshot_label_list = []\n",
    "    for trajectory_nr in range(len(trajectory_list)):\n",
    "        trajectory = trajectory_list[trajectory_nr]\n",
    "        trajectory_label = trajectory_label_list[trajectory_nr]\n",
    "        for snapshot_nr in range(len(trajectory)):\n",
    "            snapshot_list.append(trajectory[snapshot_nr])\n",
    "            if progress_label == False:\n",
    "                snapshot_label_list.append(trajectory_label)\n",
    "            else:\n",
    "                # Calculates the progress along the path for AB paths. If the path label is 1 or 0,\n",
    "                # all snapshot are assigned the same label. If the path label is different (e.g. 0.5),\n",
    "                # indicating a sucessfull transition a progress along the snapshots is calculated based on\n",
    "                # the position within the trajectory and the total trajectory length.\n",
    "                # For present/future lists, the offset needs to be taken into account in the denominator\n",
    "                # If the dataset is a future variant of an offset trajectory list the progress label \n",
    "                # needs to additionally take the offset into account in the nominator.\n",
    "                if trajectory_label == 0.0 or trajectory_label == 1.0:\n",
    "                    snapshot_label_list.append(trajectory_label)\n",
    "                else:\n",
    "                    if future == True:\n",
    "                        snapshot_label_list.append((snapshot_nr + offset)/(len(trajectory) - 1.0 + offset))\n",
    "                    else:\n",
    "                        snapshot_label_list.append(snapshot_nr/(len(trajectory)-1.0 + offset))\n",
    "    return np.array(snapshot_list), np.array(snapshot_label_list)\n",
    "\n",
    "def show_batch(dataset):\n",
    "    for batch, label in dataset.take(1):\n",
    "        for key, value in batch.items():\n",
    "            print(\"{:20s}: {}\".format(key,value.numpy()))\n"
   ]
  },
  {
   "cell_type": "code",
   "execution_count": 4,
   "metadata": {},
   "outputs": [],
   "source": [
    "#snapshot_list, snapshot_label_list = get_snapshot_and_label_list(trajectory_list, trajectory_label_list)\n",
    "\n",
    "# Sets a split size for train and test data set\n",
    "#DATASET_SIZE = len(snapshot_label_list)\n",
    "#TRAIN_SIZE = int(DATASET_SIZE * 0.7)\n",
    "SPLIT_RATIO = 0.7\n",
    "BOTTLENECK_SIZE = 2\n",
    "LABEL_LOSS_WEIGHT = 1.0\n",
    "RECONSTRUCTION_LOSS_WEIGHT = 1.0"
   ]
  },
  {
   "cell_type": "code",
   "execution_count": 5,
   "metadata": {},
   "outputs": [],
   "source": [
    "def shuffled_train_test_split(trajectory_list, trajectory_label_list, split_ratio, offset = 0, progress_label = False):\n",
    "    assert isinstance(split_ratio, float), \"Split ratio needs to be a of type float\"\n",
    "    if offset == 0 or offset == None:\n",
    "        snapshot_list, snapshot_label_list = get_snapshot_and_label_list(trajectory_list, trajectory_label_list, progress_label=progress_label)\n",
    "        snapshot_list, snapshot_label_list = shuffle(snapshot_list, snapshot_label_list)\n",
    "        train_size = int(len(snapshot_label_list) * split_ratio)\n",
    "        train_snapshot_list = snapshot_list[:train_size].copy()\n",
    "        test_snapshot_list = snapshot_list[train_size:].copy()\n",
    "        train_snapshot_label_list = snapshot_label_list[:train_size].copy()\n",
    "        test_snapshot_label_list = snapshot_label_list[train_size:].copy()\n",
    "        \n",
    "        return train_snapshot_list, train_snapshot_label_list, test_snapshot_list, test_snapshot_label_list\n",
    "    else:\n",
    "        present_trajectory_list, future_trajectory_list = generate_offset_snapshot_list(trajectory_list, offset)\n",
    "        present_snapshot_list, _ = get_snapshot_and_label_list(\n",
    "            present_trajectory_list, trajectory_label_list, offset)\n",
    "        future_snapshot_list, future_snapshot_label_list = get_snapshot_and_label_list(\n",
    "            future_trajectory_list, trajectory_label_list, offset, future = True, progress_label=progress_label)\n",
    "        present_snapshot_list, future_snapshot_list, future_snapshot_label_list = shuffle(\n",
    "            present_snapshot_list, future_snapshot_list, future_snapshot_label_list)\n",
    "        train_size = int(len(future_snapshot_label_list) * split_ratio)\n",
    "        \n",
    "        train_present_snapshot_list = present_snapshot_list[:train_size].copy()\n",
    "        test_present_snapshot_list = present_snapshot_list[train_size:].copy()\n",
    "        train_future_snapshot_list = future_snapshot_list[:train_size].copy()\n",
    "        test_future_snapshot_list = future_snapshot_list[train_size:].copy()\n",
    "        train_future_snapshot_label_list = future_snapshot_label_list[:train_size].copy()\n",
    "        test_future_snapshot_label_list = future_snapshot_label_list[train_size:].copy()   \n",
    "        return train_present_snapshot_list, train_future_snapshot_list, train_future_snapshot_label_list, test_present_snapshot_list, test_future_snapshot_list, test_future_snapshot_label_list\n",
    "\n",
    "\n",
    "\n",
    "train_snapshot_list, train_snapshot_label_list, test_snapshot_list, test_snapshot_label_list = shuffled_train_test_split(\n",
    "    trajectory_list, trajectory_label_list, SPLIT_RATIO, offset = 0, progress_label=False)\n",
    "#train_present_snapshot_list, train_future_snapshot_list, train_future_snapshot_label_list, test_present_snapshot_list, test_future_snapshot_list, test_future_snapshot_label_list =shuffled_train_test_split(\n",
    "#    trajectory_list, trajectory_label_list, SPLIT_RATIO, offset = OFFSET, progress_label = False)\n",
    "\n",
    "DATASET_SIZE = len(train_snapshot_list) + len(test_snapshot_list)"
   ]
  },
  {
   "cell_type": "code",
   "execution_count": 6,
   "metadata": {},
   "outputs": [],
   "source": [
    "# generates the dataset by feeding in a tuple, of dictionaries (alternative would be a tuble of lists)\n",
    "train_ds = tf.data.Dataset.from_tensor_slices(({\"input_snapshots\": train_snapshot_list},\n",
    "                                               {\"label\": train_snapshot_label_list, \n",
    "                                                \"reconstruction\": train_snapshot_list})).shuffle(DATASET_SIZE).batch(BATCH_SIZE)\n",
    "test_ds = tf.data.Dataset.from_tensor_slices(({\"input_snapshots\": test_snapshot_list},\n",
    "                                               {\"label\": test_snapshot_label_list, \n",
    "                                                \"reconstruction\": test_snapshot_list})).shuffle(DATASET_SIZE).batch(BATCH_SIZE)\n",
    "#train_ds = tf.data.Dataset.from_tensor_slices(({\"input_snapshots\": train_present_snapshot_list},\n",
    "#                                               {\"label\": train_future_snapshot_label_list, \n",
    "#                                                \"reconstruction\": train_future_snapshot_list})).shuffle(DATASET_SIZE).batch(BATCH_SIZE)\n",
    "#test_ds = tf.data.Dataset.from_tensor_slices(({\"input_snapshots\": test_present_snapshot_list},\n",
    "#                                               {\"label\": test_future_snapshot_label_list, \n",
    "#                                                \"reconstruction\": test_future_snapshot_list})).shuffle(DATASET_SIZE).batch(BATCH_SIZE)\n",
    "\n",
    "#ds = tf.data.Dataset.from_tensor_slices(({\"input_snapshots\": snapshot_list},\n",
    "#                                        {\"label\": snapshot_label_list, \n",
    "#                                         \"reconstruction\": snapshot_list})).shuffle(DATASET_SIZE)\n",
    "#train_ds = ds.take(TRAIN_SIZE).batch(BATCH_SIZE)\n",
    "#test_ds = ds.skip(TRAIN_SIZE).batch(BATCH_SIZE)"
   ]
  },
  {
   "cell_type": "code",
   "execution_count": 7,
   "metadata": {},
   "outputs": [
    {
     "data": {
      "image/png": "[encoded data removed]",
      "text/plain": [
       "<IPython.core.display.Image object>"
      ]
     },
     "metadata": {},
     "output_type": "display_data"
    }
   ],
   "source": [
    "\"\"\"encoder_input = keras.Input(shape=(28, 28, 1), name='original_img')\n",
    "x = keras.layers.Conv2D(16, 3, activation='relu')(encoder_input)\n",
    "x = keras.layers.Conv2D(32, 3, activation='relu')(x)\n",
    "x = keras.layers.MaxPooling2D(3)(x)\n",
    "x = keras.layers.Conv2D(32, 3, activation='relu')(x)\n",
    "x = keras.layers.Conv2D(16, 3, activation='relu')(x)\n",
    "encoder_output = keras.layers.GlobalMaxPooling2D()(x)\n",
    "\n",
    "encoder = keras.Model(encoder_input, encoder_output, name='encoder')\n",
    "encoder.summary()\n",
    "\n",
    "decoder_input = keras.Input(shape=(16,), name='encoded_img')\n",
    "x = keras.layers.Reshape((4, 4, 1))(decoder_input)\n",
    "x = keras.layers.Conv2DTranspose(16, 3, activation='relu')(x)\n",
    "x = keras.layers.Conv2DTranspose(32, 3, activation='relu')(x)\n",
    "x = keras.layers.UpSampling2D(3)(x)\n",
    "x = keras.layers.Conv2DTranspose(16, 3, activation='relu')(x)\n",
    "decoder_output = keras.layers.Conv2DTranspose(1, 3, activation='relu')(x)\n",
    "\n",
    "decoder = keras.Model(decoder_input, decoder_output, name='decoder')\n",
    "decoder.summary()\n",
    "\n",
    "autoencoder_input = keras.Input(shape=(28, 28, 1), name='img')\n",
    "encoded_img = encoder(autoencoder_input)\n",
    "decoded_img = decoder(encoded_img)\n",
    "autoencoder = keras.Model(autoencoder_input, decoded_img, name='autoencoder')\n",
    "autoencoder.summary()\"\"\"\n",
    "\n",
    "encoder_input = keras.Input(shape=(DIMENSIONS,),name=\"input_snapshots\")\n",
    "x = keras.layers.Dense(DIMENSIONS, activation= 'tanh')(encoder_input)\n",
    "x = keras.layers.Dense(DIMENSIONS*2, activation='tanh')(x)\n",
    "x = keras.layers.Dense(DIMENSIONS*2, activation='tanh')(x)\n",
    "encoder_output = keras.layers.Dense(BOTTLENECK_SIZE, activation='tanh', name='bottleneck')(x)\n",
    "\n",
    "encoder = keras.Model(encoder_input, encoder_output, name =\"encoder\")\n",
    "#encoder.summary()\n",
    "\n",
    "decoder_input = keras.Input(shape=(BOTTLENECK_SIZE,), name =\"encoded_snapshots\")\n",
    "\n",
    "x1 = keras.layers.Dense(DIMENSIONS*2, activation='tanh')(decoder_input)\n",
    "x1 = keras.layers.Dense(DIMENSIONS, activation='tanh')(x1)\n",
    "decoder_output_1 = keras.layers.Dense(1, activation='tanh',name=\"label\")(x1)\n",
    "decoder_1 = keras.Model(decoder_input, decoder_output_1, name=\"label\")\n",
    "#decoder_1.summary()\n",
    "\n",
    "x2 = keras.layers.Dense(DIMENSIONS*2, activation='tanh')(decoder_input)\n",
    "x2 = keras.layers.Dense(DIMENSIONS*2, activation='tanh')(x2)\n",
    "decoder_output_2 = keras.layers.Dense(DIMENSIONS, activation='tanh',name=\"reconstruction\")(x2)\n",
    "decoder_2 = keras.Model(decoder_input, decoder_output_2, name=\"reconstruction\")\n",
    "#decoder_2.summary()\n",
    "\n",
    "autoencoder_input = keras.Input(shape=(DIMENSIONS,), name=\"input_snapshots\")\n",
    "encoded_snaphot = encoder(autoencoder_input)\n",
    "label_snapshot = decoder_1(encoded_snaphot)\n",
    "reconstructed_snapshot = decoder_2(encoded_snaphot)\n",
    "autoencoder = keras.Model(inputs=autoencoder_input, outputs=[label_snapshot,reconstructed_snapshot])\n",
    "\n",
    "model_layout = keras.utils.plot_model(autoencoder, 'multi_input_and_output_model.png', show_shapes=True)\n",
    "display.display(model_layout)\n",
    "#display.display(keras.utils.plot_model(encoder, 'encoder.png', show_shapes=True))\n",
    "#display.display(keras.utils.plot_model(decoder_1, 'decoder_1.png', show_shapes=True))\n",
    "#display.display(keras.utils.plot_model(decoder_2, 'decoder_2.png', show_shapes=True))\n"
   ]
  },
  {
   "cell_type": "code",
   "execution_count": 8,
   "metadata": {},
   "outputs": [],
   "source": [
    "autoencoder.compile(optimizer=keras.optimizers.RMSprop(1e-3),\n",
    "              loss={'label':keras.losses.MeanAbsoluteError(),\n",
    "                      'reconstruction': keras.losses.MeanAbsoluteError()},\n",
    "              loss_weights=[LABEL_LOSS_WEIGHT, RECONSTRUCTION_LOSS_WEIGHT])"
   ]
  },
  {
   "cell_type": "code",
   "execution_count": 9,
   "metadata": {},
   "outputs": [
    {
     "name": "stdout",
     "output_type": "stream",
     "text": [
      "Train for 2522 steps\n",
      "Epoch 1/10\n",
      "2522/2522 [==============================] - 5s 2ms/step - loss: 0.4475 - label_loss: 0.0540 - reconstruction_loss: 0.3935\n",
      "Epoch 2/10\n",
      "2522/2522 [==============================] - 5s 2ms/step - loss: 0.4262 - label_loss: 0.0391 - reconstruction_loss: 0.3872\n",
      "Epoch 3/10\n",
      "2522/2522 [==============================] - 5s 2ms/step - loss: 0.4232 - label_loss: 0.0374 - reconstruction_loss: 0.3858\n",
      "Epoch 4/10\n",
      "2522/2522 [==============================] - 5s 2ms/step - loss: 0.4168 - label_loss: 0.0356 - reconstruction_loss: 0.3812\n",
      "Epoch 5/10\n",
      "2522/2522 [==============================] - 5s 2ms/step - loss: 0.4106 - label_loss: 0.0341 - reconstruction_loss: 0.3765\n",
      "Epoch 6/10\n",
      "2522/2522 [==============================] - 4s 2ms/step - loss: 0.4092 - label_loss: 0.0336 - reconstruction_loss: 0.3756\n",
      "Epoch 7/10\n",
      "2522/2522 [==============================] - 5s 2ms/step - loss: 0.4085 - label_loss: 0.0333 - reconstruction_loss: 0.3752\n",
      "Epoch 8/10\n",
      "2522/2522 [==============================] - 5s 2ms/step - loss: 0.4082 - label_loss: 0.0332 - reconstruction_loss: 0.3750\n",
      "Epoch 9/10\n",
      "2522/2522 [==============================] - 5s 2ms/step - loss: 0.4079 - label_loss: 0.0331 - reconstruction_loss: 0.3747\n",
      "Epoch 10/10\n",
      "2522/2522 [==============================] - 5s 2ms/step - loss: 0.4079 - label_loss: 0.0333 - reconstruction_loss: 0.3746\n"
     ]
    },
    {
     "data": {
      "text/plain": [
       "<tensorflow.python.keras.callbacks.History at 0x7f39dc5ad190>"
      ]
     },
     "execution_count": 9,
     "metadata": {},
     "output_type": "execute_result"
    }
   ],
   "source": [
    "autoencoder.fit(train_ds,epochs=10)\n"
   ]
  },
  {
   "cell_type": "code",
   "execution_count": 52,
   "metadata": {},
   "outputs": [
    {
     "name": "stdout",
     "output_type": "stream",
     "text": [
      "1080/1080 [==============================] - 2s 1ms/step - loss: 0.4076 - label_loss: 0.0324 - reconstruction_loss: 0.3752\n"
     ]
    },
    {
     "data": {
      "text/plain": [
       "[0.4075679966696986, 0.03240565, 0.3751626]"
      ]
     },
     "execution_count": 52,
     "metadata": {},
     "output_type": "execute_result"
    }
   ],
   "source": [
    "STEP_NUMBER = int(len(test_snapshot_list)/BATCH_SIZE)\n",
    "autoencoder.evaluate(test_ds, verbose=1, steps = STEP_NUMBER)"
   ]
  },
  {
   "cell_type": "code",
   "execution_count": 38,
   "metadata": {},
   "outputs": [],
   "source": [
    "def map_generated_labels(model, x_list, y_list, dimensions, additional_dim_val, x_var_pos, y_var_pos):\n",
    "    assert x_var_pos != y_var_pos, \"x_var_pos and y_var_pos need to differ\"\n",
    "    label_map = []\n",
    "    for x in x_list:\n",
    "        label_current_row = []\n",
    "        for y in y_list:\n",
    "            label_current_row.append(model.predict([[x if x_var_pos == pos_nr else y if y_var_pos == pos_nr else additional_dim_val for pos_nr in range(dimensions)]])[0][0][0])\n",
    "        label_map.append(label_current_row)\n",
    "    return np.array(label_map)"
   ]
  },
  {
   "cell_type": "code",
   "execution_count": 12,
   "metadata": {},
   "outputs": [],
   "source": [
    "def map_given_labels_efficiently(snapshot_list, snapshot_label_list, x_list, y_list, x_var_pos, y_var_pos):\n",
    "    x_nr = len(x_list)\n",
    "    y_nr = len(y_list)\n",
    "    min_x = min(x_list)\n",
    "    max_x = max(x_list)\n",
    "    min_y = min(y_list)\n",
    "    max_y = max(y_list)\n",
    "    # generate a list of lists of lists to store all labels in\n",
    "    label_map = [[[] for y in y_list] for x in x_list]\n",
    "    # sort the labels of each snapshot to the corresponding \"positions\" in the grid (by sorting them in the list)\n",
    "    for snapshot_nr in range(len(snapshot_list)):\n",
    "        x_snap = snapshot_list[snapshot_nr][x_var_pos]\n",
    "        y_snap = snapshot_list[snapshot_nr][y_var_pos]\n",
    "        # int to be able to use for iteration, round to round to closest full number, \n",
    "        # i-min_x to offset to start at 0, /2.0*(x-nr-1) to rescale\n",
    "        x_int = int(round((x_snap - min_x)/2.0*(x_nr-1)))\n",
    "        y_int = int(round((y_snap - min_y)/2.0*(y_nr-1)))\n",
    "        label_map[x_int][y_int].append(snapshot_label_list[snapshot_nr])\n",
    "\n",
    "    for row_ind in range(len(label_map)):\n",
    "        for col_ind in range(len(label_map[row_ind])):\n",
    "            if len(label_map[row_ind][col_ind]) > 0:\n",
    "                label_map[row_ind][col_ind] = np.mean(label_map[row_ind][col_ind])\n",
    "            else:\n",
    "                label_map[row_ind][col_ind] = float('NaN')\n",
    "    return label_map"
   ]
  },
  {
   "cell_type": "code",
   "execution_count": 13,
   "metadata": {},
   "outputs": [],
   "source": [
    "def plot_heatmap(label_map, title, x_name, y_name, vmin, vmax):\n",
    "    plt.close()\n",
    "    # use transpose to rotate the map into the right orientation\n",
    "    # use [::-1] to invert the new y_axis\n",
    "    fig, ax = plt.subplots()\n",
    "    plt.imshow(np.transpose(label_map)[::-1], cmap='coolwarm', interpolation='nearest', vmin=vmin, vmax=vmax)\n",
    "    #plt.axis('off')\n",
    "    plt.tick_params(\n",
    "        axis='both',          # changes apply to the x-axis\n",
    "        which='both',      # both major and minor ticks are affected\n",
    "        bottom=False,      # ticks along the bottom edge are off\n",
    "        top=False,         # ticks along the top edge are off\n",
    "        labelbottom=False, # labels along the bottom edge are off\n",
    "        left = False,\n",
    "        labelleft= False)     \n",
    "    plt.xlabel(\"{}\".format(x_name))\n",
    "    plt.ylabel(\"{}\".format(y_name))\n",
    "    plt.savefig(title)\n",
    "    plt.show()"
   ]
  },
  {
   "cell_type": "code",
   "execution_count": 15,
   "metadata": {},
   "outputs": [
    {
     "name": "stdout",
     "output_type": "stream",
     "text": [
      "0 1\n"
     ]
    },
    {
     "data": {
      "image/png": "[encoded data removed]",
      "text/plain": [
       "<Figure size 432x288 with 1 Axes>"
      ]
     },
     "metadata": {},
     "output_type": "display_data"
    },
    {
     "data": {
      "image/png": "[encoded data removed]",
      "text/plain": [
       "<Figure size 432x288 with 1 Axes>"
      ]
     },
     "metadata": {},
     "output_type": "display_data"
    }
   ],
   "source": [
    "RESOLUTION = 21\n",
    "for i in range(2):\n",
    "    for j in range(2):\n",
    "        if j > i:\n",
    "            print(i, j)\n",
    "            label_map_generated = map_generated_labels(autoencoder, np.linspace(-1,1,RESOLUTION), np.linspace(-1,1, RESOLUTION), DIMENSIONS, 0, i, j)\n",
    "            label_map_given = map_given_labels_efficiently(train_snapshot_list, train_snapshot_label_list, np.linspace(-1,1,RESOLUTION), np.linspace(-1,1,RESOLUTION), i, j)\n",
    "            plot_heatmap(label_map_generated, \"{}{}_21_label_map_generated.png\".format(i,j), \"x{}\".format(i), \"x{}\".format(j), 0, 1)\n",
    "            plot_heatmap(label_map_given, \"{}{}_21_label_map_given.png\".format(i,j), \"x{}\".format(i), \"x{}\".format(j), 0, 1)"
   ]
  },
  {
   "cell_type": "code",
   "execution_count": 16,
   "metadata": {},
   "outputs": [],
   "source": [
    "def map_generated_bottleneck(model, x_list, y_list, dimensions, additional_dim_val, x_var_pos, y_var_pos, bottlenek_node_nr):\n",
    "    assert x_var_pos != y_var_pos, \"x_var_pos and y_var_pos need to differ\"\n",
    "    output_map = [[] for i in range(bottlenek_node_nr)]\n",
    "    for x in x_list:\n",
    "        output_current_row = [[] for i in range(bottlenek_node_nr)]\n",
    "        for y in y_list:\n",
    "            prediction = model.predict([[x if x_var_pos == pos_nr else y if y_var_pos == pos_nr else additional_dim_val for pos_nr in range(dimensions)]])[0]\n",
    "            for subrow_nr in range(bottlenek_node_nr):\n",
    "                output_current_row[subrow_nr].append(prediction[subrow_nr])      \n",
    "        for subarray_nr in range(bottlenek_node_nr):\n",
    "            output_map[subarray_nr].append(output_current_row[subarray_nr])\n",
    "    return np.array(output_map)\n",
    "\n",
    "bottleneck_map_generated = map_generated_bottleneck(encoder, np.linspace(-1,1,RESOLUTION), np.linspace(-1,1, RESOLUTION), DIMENSIONS, 0, 0, 1, 2)\n",
    "\n"
   ]
  },
  {
   "cell_type": "code",
   "execution_count": 17,
   "metadata": {},
   "outputs": [
    {
     "data": {
      "image/png": "[encoded data removed]",
      "text/plain": [
       "<Figure size 432x288 with 1 Axes>"
      ]
     },
     "metadata": {},
     "output_type": "display_data"
    },
    {
     "data": {
      "image/png": "[encoded data removed]",
      "text/plain": [
       "<Figure size 432x288 with 1 Axes>"
      ]
     },
     "metadata": {},
     "output_type": "display_data"
    }
   ],
   "source": [
    "plot_heatmap(bottleneck_map_generated[0], \"{}{}_21_bottleneck_map_generated_b0.png\".format(0,1), \"x0\", \"x1\", -1, 1)\n",
    "#plot_heatmap(bottleneck_map_generated[0], \"{}{}_21_bottleneck_map_generated_b0_unscaled_colorcode.png\".format(0,1), \"x0\", \"x1\", None, None)\n",
    "plot_heatmap(bottleneck_map_generated[1], \"{}{}_21_bottleneck_map_generated_b1.png\".format(0,1), \"x0\", \"x1\", -1, 1)\n",
    "#plot_heatmap(bottleneck_map_generated[1], \"{}{}_21_bottleneck_map_generated_b1_unscaled_colocode.png\".format(0,1), \"x0\", \"x1\", None, None)"
   ]
  },
  {
   "cell_type": "code",
   "execution_count": 18,
   "metadata": {},
   "outputs": [
    {
     "data": {
      "image/png": "[encoded data removed]",
      "text/plain": [
       "<Figure size 432x288 with 1 Axes>"
      ]
     },
     "metadata": {},
     "output_type": "display_data"
    }
   ],
   "source": [
    "def map_generated_label_from_bn(model, x_list, y_list, dimensions, additional_dim_val, x_var_pos, y_var_pos):\n",
    "    assert x_var_pos != y_var_pos, \"x_var_pos and y_var_pos need to differ\"\n",
    "    label_map = []\n",
    "    for x in x_list:\n",
    "        label_current_row = []\n",
    "        for y in y_list:\n",
    "            label_current_row.append(model.predict([[x if x_var_pos == pos_nr else y if y_var_pos == pos_nr else additional_dim_val for pos_nr in range(dimensions)]])[0][0])\n",
    "        label_map.append(label_current_row)\n",
    "    return np.array(label_map)\n",
    " \n",
    "label_map_from_bn = map_generated_label_from_bn(decoder_1, np.linspace(-1,1,RESOLUTION), np.linspace(-1,1, RESOLUTION), BOTTLENECK_SIZE, 0, 0, 1)\n",
    "plot_heatmap(label_map_from_bn, \"{}{}_21_label_map_from_bn.png\".format(0,1), \"b0\", \"b1\", 0, 1)\n"
   ]
  },
  {
   "cell_type": "code",
   "execution_count": 19,
   "metadata": {},
   "outputs": [],
   "source": [
    "# misusing map generated_bottleneck here, since it has the same functionality of generating an array of maps for each output\n",
    "reconstructed_map_from_bn = map_generated_bottleneck(decoder_2, np.linspace(-1,1,RESOLUTION), np.linspace(-1,1, RESOLUTION), BOTTLENECK_SIZE, 0, 0, 1, 10)\n",
    "\n",
    "\n",
    "\n"
   ]
  },
  {
   "cell_type": "code",
   "execution_count": 20,
   "metadata": {},
   "outputs": [
    {
     "data": {
      "image/png": "[encoded data removed]",
      "text/plain": [
       "<Figure size 432x288 with 1 Axes>"
      ]
     },
     "metadata": {},
     "output_type": "display_data"
    },
    {
     "data": {
      "image/png": "[encoded data removed]",
      "text/plain": [
       "<Figure size 432x288 with 1 Axes>"
      ]
     },
     "metadata": {},
     "output_type": "display_data"
    },
    {
     "data": {
      "image/png": "[encoded data removed]",
      "text/plain": [
       "<Figure size 432x288 with 1 Axes>"
      ]
     },
     "metadata": {},
     "output_type": "display_data"
    },
    {
     "data": {
      "image/png": "[encoded data removed]",
      "text/plain": [
       "<Figure size 432x288 with 1 Axes>"
      ]
     },
     "metadata": {},
     "output_type": "display_data"
    },
    {
     "data": {
      "image/png": "[encoded data removed]",
      "text/plain": [
       "<Figure size 432x288 with 1 Axes>"
      ]
     },
     "metadata": {},
     "output_type": "display_data"
    },
    {
     "data": {
      "image/png": "[encoded data removed]",
      "text/plain": [
       "<Figure size 432x288 with 1 Axes>"
      ]
     },
     "metadata": {},
     "output_type": "display_data"
    },
    {
     "data": {
      "image/png": "[encoded data removed]",
      "text/plain": [
       "<Figure size 432x288 with 1 Axes>"
      ]
     },
     "metadata": {},
     "output_type": "display_data"
    },
    {
     "data": {
      "image/png": "[encoded data removed]",
      "text/plain": [
       "<Figure size 432x288 with 1 Axes>"
      ]
     },
     "metadata": {},
     "output_type": "display_data"
    },
    {
     "data": {
      "image/png": "[encoded data removed]",
      "text/plain": [
       "<Figure size 432x288 with 1 Axes>"
      ]
     },
     "metadata": {},
     "output_type": "display_data"
    },
    {
     "data": {
      "image/png": "[encoded data removed]",
      "text/plain": [
       "<Figure size 432x288 with 1 Axes>"
      ]
     },
     "metadata": {},
     "output_type": "display_data"
    }
   ],
   "source": [
    "plot_heatmap(reconstructed_map_from_bn[0], \"{}{}_21_label_map_from_bn_0.png\".format(0,1), \"b0\", \"b1\", -1, 1)\n",
    "#plot_heatmap(reconstructed_map_from_bn[0], \"{}{}_21_label_map_from_bn_0_unscaled.png\".format(0,1), \"b0\", \"b1\", None, None)\n",
    "plot_heatmap(reconstructed_map_from_bn[1], \"{}{}_21_label_map_from_bn_1.png\".format(0,1), \"b0\", \"b1\", -1, 1)\n",
    "#plot_heatmap(reconstructed_map_from_bn[1], \"{}{}_21_label_map_from_bn_1_unscaled.png\".format(0,1), \"b0\", \"b1\", None, None)\n",
    "plot_heatmap(reconstructed_map_from_bn[2], \"{}{}_21_label_map_from_bn_2.png\".format(0,1), \"b0\", \"b1\", -1, 1)\n",
    "#plot_heatmap(reconstructed_map_from_bn[2], \"{}{}_21_label_map_from_bn_2_unscaled.png\".format(0,1), \"b0\", \"b1\", None, None)\n",
    "plot_heatmap(reconstructed_map_from_bn[3], \"{}{}_21_label_map_from_bn_3.png\".format(0,1), \"b0\", \"b1\", -1, 1)\n",
    "#plot_heatmap(reconstructed_map_from_bn[3], \"{}{}_21_label_map_from_bn_3_unscaled.png\".format(0,1), \"b0\", \"b1\", None, None)\n",
    "plot_heatmap(reconstructed_map_from_bn[4], \"{}{}_21_label_map_from_bn_4.png\".format(0,1), \"b0\", \"b1\", -1, 1)\n",
    "#plot_heatmap(reconstructed_map_from_bn[4], \"{}{}_21_label_map_from_bn_4_unscaled.png\".format(0,1), \"b0\", \"b1\", None, None)\n",
    "plot_heatmap(reconstructed_map_from_bn[5], \"{}{}_21_label_map_from_bn_5.png\".format(0,1), \"b0\", \"b1\", -1, 1)\n",
    "#plot_heatmap(reconstructed_map_from_bn[5], \"{}{}_21_label_map_from_bn_5_unscaled.png\".format(0,1), \"b0\", \"b1\", None, None)\n",
    "plot_heatmap(reconstructed_map_from_bn[6], \"{}{}_21_label_map_from_bn_6.png\".format(0,1), \"b0\", \"b1\", -1, 1)\n",
    "#plot_heatmap(reconstructed_map_from_bn[6], \"{}{}_21_label_map_from_bn_6_unscaled.png\".format(0,1), \"b0\", \"b1\", None, None)\n",
    "plot_heatmap(reconstructed_map_from_bn[7], \"{}{}_21_label_map_from_bn_7.png\".format(0,1), \"b0\", \"b1\", -1, 1)\n",
    "#plot_heatmap(reconstructed_map_from_bn[7], \"{}{}_21_label_map_from_bn_7_unscaled.png\".format(0,1), \"b0\", \"b1\", None, None)\n",
    "plot_heatmap(reconstructed_map_from_bn[8], \"{}{}_21_label_map_from_bn_8.png\".format(0,1), \"b0\", \"b1\", -1, 1)\n",
    "#plot_heatmap(reconstructed_map_from_bn[8], \"{}{}_21_label_map_from_bn_8_unscaled.png\".format(0,1), \"b0\", \"b1\", None, None)\n",
    "plot_heatmap(reconstructed_map_from_bn[9], \"{}{}_21_label_map_from_bn_9.png\".format(0,1), \"b0\", \"b1\", -1, 1)\n",
    "#plot_heatmap(reconstructed_map_from_bn[9], \"{}{}_21_label_map_from_bn_9_unscaled.png\".format(0,1), \"b0\", \"b1\", None, None)"
   ]
  },
  {
   "cell_type": "code",
   "execution_count": 93,
   "metadata": {},
   "outputs": [],
   "source": [
    "\"\"\"# modify original numpy arrays, generate new datasets and use that for the comparison \n",
    "def input_perturbation_efficiently(model, test_ds, snapshot_list, snapshot_label_list, perturbation, check_vars, repetitions):\n",
    "    orig_t_loss, orig_l_loss, orig_r_loss = model.evaluate(test_ds, verbose=0, steps= 1000)\n",
    "    meta_loss_list = []\n",
    "    for repetition in range(repetitions):\n",
    "        print(\"Repetition {}.\".format(repetition+1))\n",
    "        loss_list = [[],[],[]]\n",
    "        for variable_nr in check_vars:\n",
    "            print(\"\\tPerturbing variable {}.\".format(variable_nr))\n",
    "            #print(snapshot_list)\n",
    "            perturbed_snapshot_list = snapshot_list.copy()\n",
    "            # generates random perturbation scaling array, with values uniformly distributed around 1 \n",
    "            # ranging from 1 - perturbation to 1 + perturbation\n",
    "            rand_array = (np.random.rand(len(snapshot_list), 1)-0.5)*(2*perturbation)+1\n",
    "            # multiply corresponding column of the dataset with perturbation scaling array\n",
    "            perturbed_snapshot_list[:,variable_nr] = perturbed_snapshot_list[:,variable_nr]*rand_array[:,0]\n",
    "            # make a new perturbed Dataset to feed into the previously trained model\n",
    "            perturbed_ds = tf.data.Dataset.from_tensor_slices(({\"input_snapshots\": perturbed_snapshot_list},\n",
    "                                            {\"label\":snapshot_label_list, \n",
    "                                             \"reconstruction\":snapshot_list})).shuffle(DATASET_SIZE)\n",
    "            perturbed_test_ds = perturbed_ds.skip(TRAIN_SIZE).batch(BATCH_SIZE)\n",
    "            # calculate the different losses with the new dataset\n",
    "            pert_t_loss, pert_l_loss, pert_r_loss = model.evaluate(perturbed_test_ds, verbose=0, steps = 1000)\n",
    "            # append the losses to a collective list for later comparison\n",
    "            loss_list[0].append(max(0,pert_t_loss-orig_t_loss))\n",
    "            loss_list[1].append(max(0,pert_l_loss-orig_l_loss))\n",
    "            loss_list[2].append(max(0,pert_r_loss-orig_r_loss))\n",
    "        for row_nr in range(len(loss_list)):\n",
    "            full_loss = sum(loss_list[row_nr])\n",
    "            for col_nr in range(len(loss_list[row_nr])):\n",
    "                if full_loss > 0:\n",
    "                    loss_list[row_nr][col_nr] = loss_list[row_nr][col_nr]/full_loss\n",
    "                else:\n",
    "                    loss_list[row_nr][col_nr] = 0\n",
    "        meta_loss_list.append(np.array(loss_list))\n",
    "    return np.array(sum(meta_loss_list)/repetitions)\"\"\"\n",
    "pass"
   ]
  },
  {
   "cell_type": "code",
   "execution_count": 80,
   "metadata": {},
   "outputs": [
    {
     "name": "stdout",
     "output_type": "stream",
     "text": [
      "Repetition 1.\n",
      "\tPerturbing variable 0.\n",
      "\tPerturbing variable 1.\n",
      "\tPerturbing variable 2.\n",
      "\tPerturbing variable 3.\n",
      "\tPerturbing variable 4.\n",
      "\tPerturbing variable 5.\n",
      "\tPerturbing variable 6.\n",
      "\tPerturbing variable 7.\n",
      "\tPerturbing variable 8.\n",
      "\tPerturbing variable 9.\n",
      "Repetition 2.\n",
      "\tPerturbing variable 0.\n",
      "\tPerturbing variable 1.\n",
      "\tPerturbing variable 2.\n",
      "\tPerturbing variable 3.\n",
      "\tPerturbing variable 4.\n",
      "\tPerturbing variable 5.\n",
      "\tPerturbing variable 6.\n",
      "\tPerturbing variable 7.\n",
      "\tPerturbing variable 8.\n",
      "\tPerturbing variable 9.\n",
      "Repetition 3.\n",
      "\tPerturbing variable 0.\n",
      "\tPerturbing variable 1.\n",
      "\tPerturbing variable 2.\n",
      "\tPerturbing variable 3.\n",
      "\tPerturbing variable 4.\n",
      "\tPerturbing variable 5.\n",
      "\tPerturbing variable 6.\n",
      "\tPerturbing variable 7.\n",
      "\tPerturbing variable 8.\n",
      "\tPerturbing variable 9.\n",
      "Repetition 4.\n",
      "\tPerturbing variable 0.\n",
      "\tPerturbing variable 1.\n",
      "\tPerturbing variable 2.\n",
      "\tPerturbing variable 3.\n",
      "\tPerturbing variable 4.\n",
      "\tPerturbing variable 5.\n",
      "\tPerturbing variable 6.\n",
      "\tPerturbing variable 7.\n",
      "\tPerturbing variable 8.\n",
      "\tPerturbing variable 9.\n",
      "Repetition 5.\n",
      "\tPerturbing variable 0.\n",
      "\tPerturbing variable 1.\n",
      "\tPerturbing variable 2.\n",
      "\tPerturbing variable 3.\n",
      "\tPerturbing variable 4.\n",
      "\tPerturbing variable 5.\n",
      "\tPerturbing variable 6.\n",
      "\tPerturbing variable 7.\n",
      "\tPerturbing variable 8.\n",
      "\tPerturbing variable 9.\n",
      "Repetition 6.\n",
      "\tPerturbing variable 0.\n",
      "\tPerturbing variable 1.\n",
      "\tPerturbing variable 2.\n",
      "\tPerturbing variable 3.\n",
      "\tPerturbing variable 4.\n",
      "\tPerturbing variable 5.\n",
      "\tPerturbing variable 6.\n",
      "\tPerturbing variable 7.\n",
      "\tPerturbing variable 8.\n",
      "\tPerturbing variable 9.\n",
      "Repetition 7.\n",
      "\tPerturbing variable 0.\n",
      "\tPerturbing variable 1.\n",
      "\tPerturbing variable 2.\n",
      "\tPerturbing variable 3.\n",
      "\tPerturbing variable 4.\n",
      "\tPerturbing variable 5.\n",
      "\tPerturbing variable 6.\n",
      "\tPerturbing variable 7.\n",
      "\tPerturbing variable 8.\n",
      "\tPerturbing variable 9.\n",
      "Repetition 8.\n",
      "\tPerturbing variable 0.\n",
      "\tPerturbing variable 1.\n",
      "\tPerturbing variable 2.\n",
      "\tPerturbing variable 3.\n",
      "\tPerturbing variable 4.\n",
      "\tPerturbing variable 5.\n",
      "\tPerturbing variable 6.\n",
      "\tPerturbing variable 7.\n",
      "\tPerturbing variable 8.\n",
      "\tPerturbing variable 9.\n",
      "Repetition 9.\n",
      "\tPerturbing variable 0.\n",
      "\tPerturbing variable 1.\n",
      "\tPerturbing variable 2.\n",
      "\tPerturbing variable 3.\n",
      "\tPerturbing variable 4.\n",
      "\tPerturbing variable 5.\n",
      "\tPerturbing variable 6.\n",
      "\tPerturbing variable 7.\n",
      "\tPerturbing variable 8.\n",
      "\tPerturbing variable 9.\n",
      "Repetition 10.\n",
      "\tPerturbing variable 0.\n",
      "\tPerturbing variable 1.\n",
      "\tPerturbing variable 2.\n",
      "\tPerturbing variable 3.\n",
      "\tPerturbing variable 4.\n",
      "\tPerturbing variable 5.\n",
      "\tPerturbing variable 6.\n",
      "\tPerturbing variable 7.\n",
      "\tPerturbing variable 8.\n",
      "\tPerturbing variable 9.\n"
     ]
    }
   ],
   "source": [
    "class PerturbDataset(object):\n",
    "    def __init__(self, perturb_along, perturbation):\n",
    "        self.perturb_along = perturb_along\n",
    "        self.perturbation = perturbation\n",
    "        \n",
    "    def __call__(self, features, labels):\n",
    "        perturb_along = self.perturb_along\n",
    "        perturbation = self.perturbation\n",
    "        # iterates over all keys of the features (here only 1)\n",
    "        # generates an array with only value \"1\" in all columns except for the perturbed column\n",
    "        # which contains random values between 1 - perturbation and 1 + perturbation\n",
    "        # multiplies the input with that matrix to perturb exactly that column  of the input uniformly\n",
    "        for key in features.keys():\n",
    "            rand_array = (np.random.rand(BATCH_SIZE, 1)-0.5)*(2*perturbation)+1\n",
    "            mult_array = np.ones((BATCH_SIZE, DIMENSIONS))\n",
    "            mult_array[:,perturb_along] = mult_array[:,perturb_along]*rand_array[:,0]\n",
    "            features[key] = features[key] * mult_array\n",
    "        \n",
    "        return features, labels\n",
    "    \n",
    "def input_perturbation_most_efficient(model, test_ds, perturbation, check_vars, repetitions):\n",
    "    orig_t_loss, orig_l_loss, orig_r_loss = model.evaluate(test_ds, verbose=0, steps = STEP_NUMBER)\n",
    "    meta_loss_list = []\n",
    "    for repetition in range(repetitions):\n",
    "        print(\"Repetition {}.\".format(repetition+1))\n",
    "        loss_list = [[],[],[]]\n",
    "        for variable_nr in check_vars:\n",
    "            print(\"\\tPerturbing variable {}.\".format(variable_nr))\n",
    "            perturbed_test_ds = test_ds.map(PerturbDataset(variable_nr, perturbation))\n",
    "            # calculate the different losses with the new dataset\n",
    "            pert_t_loss, pert_l_loss, pert_r_loss = model.evaluate(perturbed_test_ds, verbose=0, steps = STEP_NUMBER)\n",
    "            # append the losses to a collective list for later comparison\n",
    "            loss_list[0].append(max(0,pert_t_loss-orig_t_loss))\n",
    "            loss_list[1].append(max(0,pert_l_loss-orig_l_loss))\n",
    "            loss_list[2].append(max(0,pert_r_loss-orig_r_loss))\n",
    "        for row_nr in range(len(loss_list)):\n",
    "            full_loss = sum(loss_list[row_nr])\n",
    "            for col_nr in range(len(loss_list[row_nr])):\n",
    "                if full_loss > 0:\n",
    "                    loss_list[row_nr][col_nr] = loss_list[row_nr][col_nr]/full_loss\n",
    "                else:\n",
    "                    loss_list[row_nr][col_nr] = 0\n",
    "        meta_loss_list.append(np.array(loss_list))\n",
    "    return np.array(sum(meta_loss_list)/repetitions)\n",
    "\n",
    "perturbed_loss_list = input_perturbation_most_efficient(autoencoder, test_ds, 0.5, range(10), 10)"
   ]
  },
  {
   "cell_type": "code",
   "execution_count": 81,
   "metadata": {},
   "outputs": [],
   "source": [
    "def plot_input_importance(loss_list, loss_type, name, perturbation):\n",
    "    variable_nr = len(loss_list[0])\n",
    "    plt.bar(range(variable_nr),loss_list[loss_type])\n",
    "    if perturbation == None:\n",
    "        plt.savefig(\"{}_{}.png\".format(name,loss_type))        \n",
    "    else:\n",
    "        plt.savefig(\"{}_{}_pert_{}.png\".format(name,loss_type,perturbation))\n",
    "    plt.close()\n",
    "\n",
    "plot_input_importance(pertubred_loss_list,0,\"Input_perturbation\",\"0.5\")\n",
    "plot_input_importance(pertubred_loss_list,1,\"Input_perturbation\",\"0.5\")\n",
    "plot_input_importance(pertubred_loss_list,2,\"Input_perturbation\",\"0.5\")\n"
   ]
  },
  {
   "cell_type": "code",
   "execution_count": 82,
   "metadata": {},
   "outputs": [],
   "source": [
    "def get_column_mean_of_batched_ds(dataset):\n",
    "#    for batch, label in ds.take(1):\n",
    "#        assert len(batch[\"input_snapshots\"].shape) > 1, \"Dataset needs to be batched before using this function\"\n",
    "    # takes all batches and concatenates them back together to get a big list of snapshots\n",
    "    # np.mean is then used to calculate the mean of each column\n",
    "    return np.mean(np.concatenate(np.array([batch[\"input_snapshots\"].numpy() for batch, label in dataset])),axis = 0)\n",
    "\n",
    "class TakeColumnMean(object):\n",
    "    def __init__(self, take_mean_along, column_mean, dimensions):\n",
    "        self.take_mean_along = take_mean_along\n",
    "        self.column_mean = column_mean\n",
    "        self.dimensions = dimensions\n",
    "        \n",
    "    def __call__(self, features, labels):\n",
    "        take_mean_along = self.take_mean_along\n",
    "        column_mean = self.column_mean\n",
    "        dimensions = self.dimensions\n",
    "        # iterates over all keys of the features (here only 1)\n",
    "        # generates an array with only value \"1\" in all columns except for the perturbed column\n",
    "        # which contains random values between 1 - perturbation and 1 + perturbation\n",
    "        # multiplies the input with that matrix to perturb exactly that column  of the input uniformly\n",
    "        for key in features.keys():\n",
    "            mult_array = np.ones((BATCH_SIZE, dimensions))\n",
    "            add_array = np.zeros((BATCH_SIZE, dimensions))\n",
    "            mult_array[:,take_mean_along] = 0.0\n",
    "            add_array[:,take_mean_along] = column_mean\n",
    "            features[key] = features[key] * mult_array\n",
    "            features[key] = features[key] + add_array\n",
    "        return features, labels\n",
    "\n",
    "def improved_stepwise(model, test_ds, check_vars, repetitions):\n",
    "    if repetitions > 1:\n",
    "        \"Evaluation occurs on the basis of all batches of size BATCH_SIZE, thereby yielding a reliably result even at only one repetition.\"\n",
    "    orig_t_loss, orig_l_loss, orig_r_loss = model.evaluate(test_ds, verbose=0, steps = STEP_NUMBER)\n",
    "    meta_loss_list = []\n",
    "    mean_value_array = get_column_mean_of_batched_ds(test_ds)\n",
    "    for repetition in range(repetitions):\n",
    "        print(\"Repetition {}.\".format(repetition+1))\n",
    "        loss_list = [[],[],[]]\n",
    "        test_ds_list = []\n",
    "        for variable_nr in check_vars:\n",
    "            print(\"\\tPerturbing variable {}.\".format(variable_nr))\n",
    "            m_col_test_ds = test_ds.map(TakeColumnMean(variable_nr, mean_value_array[variable_nr],DIMENSIONS))\n",
    "            test_ds_list.append(m_col_test_ds)\n",
    "            # calculate the different losses with the new dataset\n",
    "            m_col_t_loss, m_col_l_loss, m_col_r_loss = model.evaluate(m_col_test_ds, verbose=0, steps = STEP_NUMBER)\n",
    "            # append the losses to a collective list for later comparison\n",
    "            loss_list[0].append(max(0,m_col_t_loss-orig_t_loss))\n",
    "            loss_list[1].append(max(0,m_col_l_loss-orig_l_loss))\n",
    "            loss_list[2].append(max(0,m_col_r_loss-orig_r_loss))\n",
    "        for row_nr in range(len(loss_list)):\n",
    "            full_loss = sum(loss_list[row_nr])\n",
    "            for col_nr in range(len(loss_list[row_nr])):\n",
    "                if full_loss > 0:\n",
    "                    loss_list[row_nr][col_nr] = loss_list[row_nr][col_nr]/full_loss\n",
    "                else:\n",
    "                    loss_list[row_nr][col_nr] = 0\n",
    "        meta_loss_list.append(np.array(loss_list))\n",
    "    return np.array(sum(meta_loss_list)/repetitions), test_ds_list"
   ]
  },
  {
   "cell_type": "code",
   "execution_count": 72,
   "metadata": {},
   "outputs": [
    {
     "name": "stdout",
     "output_type": "stream",
     "text": [
      "Repetition 1.\n",
      "\tPerturbing variable 0.\n",
      "\tPerturbing variable 1.\n",
      "\tPerturbing variable 2.\n",
      "\tPerturbing variable 3.\n",
      "\tPerturbing variable 4.\n",
      "\tPerturbing variable 5.\n",
      "\tPerturbing variable 6.\n",
      "\tPerturbing variable 7.\n",
      "\tPerturbing variable 8.\n",
      "\tPerturbing variable 9.\n",
      "[array([[0.911, 0.001, 0.   , 0.088, 0.   , 0.   , 0.   , 0.   , 0.   ,\n",
      "        0.   ],\n",
      "       [0.998, 0.002, 0.   , 0.   , 0.   , 0.   , 0.   , 0.   , 0.   ,\n",
      "        0.   ],\n",
      "       [0.436, 0.   , 0.   , 0.563, 0.   , 0.   , 0.   , 0.   , 0.   ,\n",
      "        0.   ]])]\n"
     ]
    }
   ],
   "source": [
    "mean_loss_list, test_ds_list = improved_stepwise(autoencoder, test_ds, range(10), 1)\n"
   ]
  },
  {
   "cell_type": "code",
   "execution_count": 79,
   "metadata": {},
   "outputs": [],
   "source": [
    "plot_input_importance(mean_loss_list,1,\"Stepwise\", None)\n"
   ]
  },
  {
   "cell_type": "code",
   "execution_count": 83,
   "metadata": {},
   "outputs": [
    {
     "name": "stdout",
     "output_type": "stream",
     "text": [
      "[[ 0.015 -0.419]\n",
      " [-0.071 -0.6  ]\n",
      " [-0.391 -0.178]\n",
      " ...\n",
      " [ 0.387  0.475]\n",
      " [ 0.399  0.264]\n",
      " [-0.004 -0.322]]\n"
     ]
    }
   ],
   "source": [
    "print(encoder.predict(test_ds))"
   ]
  },
  {
   "cell_type": "code",
   "execution_count": 91,
   "metadata": {},
   "outputs": [
    {
     "name": "stdout",
     "output_type": "stream",
     "text": [
      "<BatchDataset shapes: ({encoded_snapshots: (None, 2)}, {label: (None,)}), types: ({encoded_snapshots: tf.float32}, {label: tf.float64})>\n"
     ]
    },
    {
     "data": {
      "text/plain": [
       "0.4968751705079167"
      ]
     },
     "execution_count": 91,
     "metadata": {},
     "output_type": "execute_result"
    }
   ],
   "source": [
    "test_bn_ds = tf.data.Dataset.from_tensor_slices(({\"encoded_snapshots\": encoder.predict(test_ds)},\n",
    "                                            {\"label\": test_snapshot_label_list})).shuffle(DATASET_SIZE).batch(BATCH_SIZE)\n",
    "print(test_bn_ds)\n",
    "decoder_1.compile(optimizer=keras.optimizers.RMSprop(1e-3),\n",
    "              loss={'label':keras.losses.MeanAbsoluteError()})\n",
    "features_list = [layer.output for layer in encoder.layers]\n",
    "#print(features_list)\n",
    "decoder_1.evaluate(test_bn_ds, verbose=0, steps = STEP_NUMBER)"
   ]
  },
  {
   "cell_type": "code",
   "execution_count": 86,
   "metadata": {},
   "outputs": [
    {
     "ename": "RuntimeError",
     "evalue": "You must compile your model before training/testing. Use `model.compile(optimizer, loss)`.",
     "output_type": "error",
     "traceback": [
      "\u001b[0;31m---------------------------------------------------------------------------\u001b[0m",
      "\u001b[0;31mRuntimeError\u001b[0m                              Traceback (most recent call last)",
      "\u001b[0;32m<ipython-input-86-a4378bdb11e7>\u001b[0m in \u001b[0;36m<module>\u001b[0;34m\u001b[0m\n\u001b[1;32m     30\u001b[0m     \u001b[0;32mreturn\u001b[0m \u001b[0mnp\u001b[0m\u001b[0;34m.\u001b[0m\u001b[0marray\u001b[0m\u001b[0;34m(\u001b[0m\u001b[0msum\u001b[0m\u001b[0;34m(\u001b[0m\u001b[0mmeta_loss_list\u001b[0m\u001b[0;34m)\u001b[0m\u001b[0;34m/\u001b[0m\u001b[0mrepetitions\u001b[0m\u001b[0;34m)\u001b[0m\u001b[0;34m\u001b[0m\u001b[0;34m\u001b[0m\u001b[0m\n\u001b[1;32m     31\u001b[0m \u001b[0;34m\u001b[0m\u001b[0m\n\u001b[0;32m---> 32\u001b[0;31m \u001b[0mloss_list\u001b[0m \u001b[0;34m=\u001b[0m \u001b[0mimproved_stepwise_bn\u001b[0m\u001b[0;34m(\u001b[0m\u001b[0mdecoder_1\u001b[0m\u001b[0;34m,\u001b[0m \u001b[0mtest_bn_ds\u001b[0m\u001b[0;34m,\u001b[0m \u001b[0mrange\u001b[0m\u001b[0;34m(\u001b[0m\u001b[0;36m2\u001b[0m\u001b[0;34m)\u001b[0m\u001b[0;34m,\u001b[0m \u001b[0;36m10\u001b[0m\u001b[0;34m)\u001b[0m\u001b[0;34m\u001b[0m\u001b[0;34m\u001b[0m\u001b[0m\n\u001b[0m\u001b[1;32m     33\u001b[0m \u001b[0;34m\u001b[0m\u001b[0m\n\u001b[1;32m     34\u001b[0m \u001b[0;34m\u001b[0m\u001b[0m\n",
      "\u001b[0;32m<ipython-input-86-a4378bdb11e7>\u001b[0m in \u001b[0;36mimproved_stepwise_bn\u001b[0;34m(model, test_ds, check_vars, repetitions)\u001b[0m\n\u001b[1;32m      7\u001b[0m \u001b[0;34m\u001b[0m\u001b[0m\n\u001b[1;32m      8\u001b[0m \u001b[0;32mdef\u001b[0m \u001b[0mimproved_stepwise_bn\u001b[0m\u001b[0;34m(\u001b[0m\u001b[0mmodel\u001b[0m\u001b[0;34m,\u001b[0m \u001b[0mtest_ds\u001b[0m\u001b[0;34m,\u001b[0m \u001b[0mcheck_vars\u001b[0m\u001b[0;34m,\u001b[0m \u001b[0mrepetitions\u001b[0m\u001b[0;34m)\u001b[0m\u001b[0;34m:\u001b[0m\u001b[0;34m\u001b[0m\u001b[0;34m\u001b[0m\u001b[0m\n\u001b[0;32m----> 9\u001b[0;31m     \u001b[0morig_l_loss\u001b[0m \u001b[0;34m=\u001b[0m \u001b[0mmodel\u001b[0m\u001b[0;34m.\u001b[0m\u001b[0mevaluate\u001b[0m\u001b[0;34m(\u001b[0m\u001b[0mtest_ds\u001b[0m\u001b[0;34m,\u001b[0m \u001b[0mverbose\u001b[0m\u001b[0;34m=\u001b[0m\u001b[0;36m0\u001b[0m\u001b[0;34m,\u001b[0m \u001b[0msteps\u001b[0m \u001b[0;34m=\u001b[0m \u001b[0mSTEP_NUMBER\u001b[0m\u001b[0;34m)\u001b[0m\u001b[0;34m\u001b[0m\u001b[0;34m\u001b[0m\u001b[0m\n\u001b[0m\u001b[1;32m     10\u001b[0m     \u001b[0mmeta_loss_list\u001b[0m \u001b[0;34m=\u001b[0m \u001b[0;34m[\u001b[0m\u001b[0;34m]\u001b[0m\u001b[0;34m\u001b[0m\u001b[0;34m\u001b[0m\u001b[0m\n\u001b[1;32m     11\u001b[0m     \u001b[0mmean_value_array\u001b[0m \u001b[0;34m=\u001b[0m \u001b[0mget_column_mean_of_batched_ds\u001b[0m\u001b[0;34m(\u001b[0m\u001b[0mtest_ds\u001b[0m\u001b[0;34m)\u001b[0m\u001b[0;34m\u001b[0m\u001b[0;34m\u001b[0m\u001b[0m\n",
      "\u001b[0;32m~/anaconda3/lib/python3.7/site-packages/tensorflow_core/python/keras/engine/training.py\u001b[0m in \u001b[0;36mevaluate\u001b[0;34m(self, x, y, batch_size, verbose, sample_weight, steps, callbacks, max_queue_size, workers, use_multiprocessing)\u001b[0m\n\u001b[1;32m    913\u001b[0m     \"\"\"\n\u001b[1;32m    914\u001b[0m     \u001b[0m_keras_api_gauge\u001b[0m\u001b[0;34m.\u001b[0m\u001b[0mget_cell\u001b[0m\u001b[0;34m(\u001b[0m\u001b[0;34m'evaluate'\u001b[0m\u001b[0;34m)\u001b[0m\u001b[0;34m.\u001b[0m\u001b[0mset\u001b[0m\u001b[0;34m(\u001b[0m\u001b[0;32mTrue\u001b[0m\u001b[0;34m)\u001b[0m\u001b[0;34m\u001b[0m\u001b[0;34m\u001b[0m\u001b[0m\n\u001b[0;32m--> 915\u001b[0;31m     \u001b[0mself\u001b[0m\u001b[0;34m.\u001b[0m\u001b[0m_assert_compile_was_called\u001b[0m\u001b[0;34m(\u001b[0m\u001b[0;34m)\u001b[0m\u001b[0;34m\u001b[0m\u001b[0;34m\u001b[0m\u001b[0m\n\u001b[0m\u001b[1;32m    916\u001b[0m     \u001b[0mself\u001b[0m\u001b[0;34m.\u001b[0m\u001b[0m_check_call_args\u001b[0m\u001b[0;34m(\u001b[0m\u001b[0;34m'evaluate'\u001b[0m\u001b[0;34m)\u001b[0m\u001b[0;34m\u001b[0m\u001b[0;34m\u001b[0m\u001b[0m\n\u001b[1;32m    917\u001b[0m \u001b[0;34m\u001b[0m\u001b[0m\n",
      "\u001b[0;32m~/anaconda3/lib/python3.7/site-packages/tensorflow_core/python/keras/engine/training.py\u001b[0m in \u001b[0;36m_assert_compile_was_called\u001b[0;34m(self)\u001b[0m\n\u001b[1;32m   2826\u001b[0m     \u001b[0;31m# (i.e. whether the model is built and its inputs/outputs are set).\u001b[0m\u001b[0;34m\u001b[0m\u001b[0;34m\u001b[0m\u001b[0;34m\u001b[0m\u001b[0m\n\u001b[1;32m   2827\u001b[0m     \u001b[0;32mif\u001b[0m \u001b[0;32mnot\u001b[0m \u001b[0mself\u001b[0m\u001b[0;34m.\u001b[0m\u001b[0moptimizer\u001b[0m\u001b[0;34m:\u001b[0m\u001b[0;34m\u001b[0m\u001b[0;34m\u001b[0m\u001b[0m\n\u001b[0;32m-> 2828\u001b[0;31m       raise RuntimeError('You must compile your model before '\n\u001b[0m\u001b[1;32m   2829\u001b[0m                          \u001b[0;34m'training/testing. '\u001b[0m\u001b[0;34m\u001b[0m\u001b[0;34m\u001b[0m\u001b[0m\n\u001b[1;32m   2830\u001b[0m                          'Use `model.compile(optimizer, loss)`.')\n",
      "\u001b[0;31mRuntimeError\u001b[0m: You must compile your model before training/testing. Use `model.compile(optimizer, loss)`."
     ]
    }
   ],
   "source": [
    "def get_column_mean_of_batched_ds(dataset):\n",
    "#    for batch, label in ds.take(1):\n",
    "#        assert len(batch[\"input_snapshots\"].shape) > 1, \"Dataset needs to be batched before using this function\"\n",
    "    # takes all batches and concatenates them back together to get a big list of snapshots\n",
    "    # np.mean is then used to calculate the mean of each column\n",
    "    return np.mean(np.concatenate(np.array([batch[\"encoded_snapshots\"].numpy() for batch, label in dataset])),axis = 0)\n",
    "\n",
    "def improved_stepwise_bn(model, test_ds, check_vars, repetitions):\n",
    "    orig_l_loss = model.evaluate(test_ds, verbose=0, steps = STEP_NUMBER)\n",
    "    meta_loss_list = []\n",
    "    mean_value_array = get_column_mean_of_batched_ds(test_ds)\n",
    "    for repetition in range(repetitions):\n",
    "        print(\"Repetition {}.\".format(repetition+1))\n",
    "        loss_list = [[]]\n",
    "        for variable_nr in check_vars:\n",
    "            print(\"\\tPerturbing variable {}.\".format(variable_nr))\n",
    "            m_col_test_ds = test_ds.map(TakeColumnMean(variable_nr, mean_value_array[variable_nr],BOTTLENECK_SIZE))\n",
    "            # calculate the different losses with the new dataset\n",
    "            m_col_l_loss = model.evaluate(m_col_test_ds, verbose=0, steps = STEP_NUMBER)\n",
    "            # append the losses to a collective list for later comparison\n",
    "            loss_list[0].append(max(0,m_col_l_loss-orig_l_loss))\n",
    "        for row_nr in range(len(loss_list)):\n",
    "            full_loss = sum(loss_list[row_nr])\n",
    "            for col_nr in range(len(loss_list[row_nr])):\n",
    "                if full_loss > 0:\n",
    "                    loss_list[row_nr][col_nr] = loss_list[row_nr][col_nr]/full_loss\n",
    "                else:\n",
    "                    loss_list[row_nr][col_nr] = 0\n",
    "        meta_loss_list.append(np.array(loss_list))\n",
    "    return np.array(sum(meta_loss_list)/repetitions)\n",
    "\n",
    "loss_list = improved_stepwise_bn(decoder_1, test_bn_ds, range(2), 10)\n",
    "\n",
    "\n",
    "\"\"\"\n",
    "Trying to map the train_ds in such a way that the input is replaced by the output of the bottleneck\n",
    "Currently the fact that predict returns unbatched results appears to be the problem\n",
    "\"\"\""
   ]
  },
  {
   "cell_type": "code",
   "execution_count": 79,
   "metadata": {},
   "outputs": [
    {
     "name": "stdout",
     "output_type": "stream",
     "text": [
      "[[0.  0.8]]\n"
     ]
    }
   ],
   "source": [
    "print(loss_list)\n",
    "plot_input_importance(loss_list,0,\"Stepwise_bn\", None)"
   ]
  },
  {
   "cell_type": "code",
   "execution_count": 84,
   "metadata": {},
   "outputs": [
    {
     "name": "stdout",
     "output_type": "stream",
     "text": [
      "WARNING:tensorflow:Model was constructed with shape Tensor(\"input_snapshots_1:0\", shape=(None, 10), dtype=float32) for input (None, 10), but it was re-called on a Tensor with incompatible shape ().\n",
      "WARNING:tensorflow:Model was constructed with shape Tensor(\"input_snapshots:0\", shape=(None, 10), dtype=float32) for input (None, 10), but it was re-called on a Tensor with incompatible shape ().\n"
     ]
    },
    {
     "ename": "InvalidArgumentError",
     "evalue": "In[0] is not a matrix. Instead it has shape [] [Op:MatMul]",
     "output_type": "error",
     "traceback": [
      "\u001b[0;31m---------------------------------------------------------------------------\u001b[0m",
      "\u001b[0;31mInvalidArgumentError\u001b[0m                      Traceback (most recent call last)",
      "\u001b[0;32m<ipython-input-84-5087911ff852>\u001b[0m in \u001b[0;36m<module>\u001b[0;34m\u001b[0m\n\u001b[0;32m----> 1\u001b[0;31m \u001b[0mprint\u001b[0m\u001b[0;34m(\u001b[0m\u001b[0mautoencoder\u001b[0m\u001b[0;34m(\u001b[0m\u001b[0;34m[\u001b[0m\u001b[0;36m0\u001b[0m\u001b[0;34m,\u001b[0m\u001b[0;36m0\u001b[0m\u001b[0;34m]\u001b[0m\u001b[0;34m)\u001b[0m\u001b[0;34m)\u001b[0m\u001b[0;34m\u001b[0m\u001b[0;34m\u001b[0m\u001b[0m\n\u001b[0m",
      "\u001b[0;32m~/anaconda3/lib/python3.7/site-packages/tensorflow_core/python/keras/engine/base_layer.py\u001b[0m in \u001b[0;36m__call__\u001b[0;34m(self, inputs, *args, **kwargs)\u001b[0m\n\u001b[1;32m    820\u001b[0m           with base_layer_utils.autocast_context_manager(\n\u001b[1;32m    821\u001b[0m               self._compute_dtype):\n\u001b[0;32m--> 822\u001b[0;31m             \u001b[0moutputs\u001b[0m \u001b[0;34m=\u001b[0m \u001b[0mself\u001b[0m\u001b[0;34m.\u001b[0m\u001b[0mcall\u001b[0m\u001b[0;34m(\u001b[0m\u001b[0mcast_inputs\u001b[0m\u001b[0;34m,\u001b[0m \u001b[0;34m*\u001b[0m\u001b[0margs\u001b[0m\u001b[0;34m,\u001b[0m \u001b[0;34m**\u001b[0m\u001b[0mkwargs\u001b[0m\u001b[0;34m)\u001b[0m\u001b[0;34m\u001b[0m\u001b[0;34m\u001b[0m\u001b[0m\n\u001b[0m\u001b[1;32m    823\u001b[0m           \u001b[0mself\u001b[0m\u001b[0;34m.\u001b[0m\u001b[0m_handle_activity_regularization\u001b[0m\u001b[0;34m(\u001b[0m\u001b[0minputs\u001b[0m\u001b[0;34m,\u001b[0m \u001b[0moutputs\u001b[0m\u001b[0;34m)\u001b[0m\u001b[0;34m\u001b[0m\u001b[0;34m\u001b[0m\u001b[0m\n\u001b[1;32m    824\u001b[0m           \u001b[0mself\u001b[0m\u001b[0;34m.\u001b[0m\u001b[0m_set_mask_metadata\u001b[0m\u001b[0;34m(\u001b[0m\u001b[0minputs\u001b[0m\u001b[0;34m,\u001b[0m \u001b[0moutputs\u001b[0m\u001b[0;34m,\u001b[0m \u001b[0minput_masks\u001b[0m\u001b[0;34m)\u001b[0m\u001b[0;34m\u001b[0m\u001b[0;34m\u001b[0m\u001b[0m\n",
      "\u001b[0;32m~/anaconda3/lib/python3.7/site-packages/tensorflow_core/python/keras/engine/network.py\u001b[0m in \u001b[0;36mcall\u001b[0;34m(self, inputs, training, mask)\u001b[0m\n\u001b[1;32m    715\u001b[0m     return self._run_internal_graph(\n\u001b[1;32m    716\u001b[0m         \u001b[0minputs\u001b[0m\u001b[0;34m,\u001b[0m \u001b[0mtraining\u001b[0m\u001b[0;34m=\u001b[0m\u001b[0mtraining\u001b[0m\u001b[0;34m,\u001b[0m \u001b[0mmask\u001b[0m\u001b[0;34m=\u001b[0m\u001b[0mmask\u001b[0m\u001b[0;34m,\u001b[0m\u001b[0;34m\u001b[0m\u001b[0;34m\u001b[0m\u001b[0m\n\u001b[0;32m--> 717\u001b[0;31m         convert_kwargs_to_constants=base_layer_utils.call_context().saving)\n\u001b[0m\u001b[1;32m    718\u001b[0m \u001b[0;34m\u001b[0m\u001b[0m\n\u001b[1;32m    719\u001b[0m   \u001b[0;32mdef\u001b[0m \u001b[0mcompute_output_shape\u001b[0m\u001b[0;34m(\u001b[0m\u001b[0mself\u001b[0m\u001b[0;34m,\u001b[0m \u001b[0minput_shape\u001b[0m\u001b[0;34m)\u001b[0m\u001b[0;34m:\u001b[0m\u001b[0;34m\u001b[0m\u001b[0;34m\u001b[0m\u001b[0m\n",
      "\u001b[0;32m~/anaconda3/lib/python3.7/site-packages/tensorflow_core/python/keras/engine/network.py\u001b[0m in \u001b[0;36m_run_internal_graph\u001b[0;34m(self, inputs, training, mask, convert_kwargs_to_constants)\u001b[0m\n\u001b[1;32m    889\u001b[0m \u001b[0;34m\u001b[0m\u001b[0m\n\u001b[1;32m    890\u001b[0m           \u001b[0;31m# Compute outputs.\u001b[0m\u001b[0;34m\u001b[0m\u001b[0;34m\u001b[0m\u001b[0;34m\u001b[0m\u001b[0m\n\u001b[0;32m--> 891\u001b[0;31m           \u001b[0moutput_tensors\u001b[0m \u001b[0;34m=\u001b[0m \u001b[0mlayer\u001b[0m\u001b[0;34m(\u001b[0m\u001b[0mcomputed_tensors\u001b[0m\u001b[0;34m,\u001b[0m \u001b[0;34m**\u001b[0m\u001b[0mkwargs\u001b[0m\u001b[0;34m)\u001b[0m\u001b[0;34m\u001b[0m\u001b[0;34m\u001b[0m\u001b[0m\n\u001b[0m\u001b[1;32m    892\u001b[0m \u001b[0;34m\u001b[0m\u001b[0m\n\u001b[1;32m    893\u001b[0m           \u001b[0;31m# Update tensor_dict.\u001b[0m\u001b[0;34m\u001b[0m\u001b[0;34m\u001b[0m\u001b[0;34m\u001b[0m\u001b[0m\n",
      "\u001b[0;32m~/anaconda3/lib/python3.7/site-packages/tensorflow_core/python/keras/engine/base_layer.py\u001b[0m in \u001b[0;36m__call__\u001b[0;34m(self, inputs, *args, **kwargs)\u001b[0m\n\u001b[1;32m    820\u001b[0m           with base_layer_utils.autocast_context_manager(\n\u001b[1;32m    821\u001b[0m               self._compute_dtype):\n\u001b[0;32m--> 822\u001b[0;31m             \u001b[0moutputs\u001b[0m \u001b[0;34m=\u001b[0m \u001b[0mself\u001b[0m\u001b[0;34m.\u001b[0m\u001b[0mcall\u001b[0m\u001b[0;34m(\u001b[0m\u001b[0mcast_inputs\u001b[0m\u001b[0;34m,\u001b[0m \u001b[0;34m*\u001b[0m\u001b[0margs\u001b[0m\u001b[0;34m,\u001b[0m \u001b[0;34m**\u001b[0m\u001b[0mkwargs\u001b[0m\u001b[0;34m)\u001b[0m\u001b[0;34m\u001b[0m\u001b[0;34m\u001b[0m\u001b[0m\n\u001b[0m\u001b[1;32m    823\u001b[0m           \u001b[0mself\u001b[0m\u001b[0;34m.\u001b[0m\u001b[0m_handle_activity_regularization\u001b[0m\u001b[0;34m(\u001b[0m\u001b[0minputs\u001b[0m\u001b[0;34m,\u001b[0m \u001b[0moutputs\u001b[0m\u001b[0;34m)\u001b[0m\u001b[0;34m\u001b[0m\u001b[0;34m\u001b[0m\u001b[0m\n\u001b[1;32m    824\u001b[0m           \u001b[0mself\u001b[0m\u001b[0;34m.\u001b[0m\u001b[0m_set_mask_metadata\u001b[0m\u001b[0;34m(\u001b[0m\u001b[0minputs\u001b[0m\u001b[0;34m,\u001b[0m \u001b[0moutputs\u001b[0m\u001b[0;34m,\u001b[0m \u001b[0minput_masks\u001b[0m\u001b[0;34m)\u001b[0m\u001b[0;34m\u001b[0m\u001b[0;34m\u001b[0m\u001b[0m\n",
      "\u001b[0;32m~/anaconda3/lib/python3.7/site-packages/tensorflow_core/python/keras/engine/network.py\u001b[0m in \u001b[0;36mcall\u001b[0;34m(self, inputs, training, mask)\u001b[0m\n\u001b[1;32m    715\u001b[0m     return self._run_internal_graph(\n\u001b[1;32m    716\u001b[0m         \u001b[0minputs\u001b[0m\u001b[0;34m,\u001b[0m \u001b[0mtraining\u001b[0m\u001b[0;34m=\u001b[0m\u001b[0mtraining\u001b[0m\u001b[0;34m,\u001b[0m \u001b[0mmask\u001b[0m\u001b[0;34m=\u001b[0m\u001b[0mmask\u001b[0m\u001b[0;34m,\u001b[0m\u001b[0;34m\u001b[0m\u001b[0;34m\u001b[0m\u001b[0m\n\u001b[0;32m--> 717\u001b[0;31m         convert_kwargs_to_constants=base_layer_utils.call_context().saving)\n\u001b[0m\u001b[1;32m    718\u001b[0m \u001b[0;34m\u001b[0m\u001b[0m\n\u001b[1;32m    719\u001b[0m   \u001b[0;32mdef\u001b[0m \u001b[0mcompute_output_shape\u001b[0m\u001b[0;34m(\u001b[0m\u001b[0mself\u001b[0m\u001b[0;34m,\u001b[0m \u001b[0minput_shape\u001b[0m\u001b[0;34m)\u001b[0m\u001b[0;34m:\u001b[0m\u001b[0;34m\u001b[0m\u001b[0;34m\u001b[0m\u001b[0m\n",
      "\u001b[0;32m~/anaconda3/lib/python3.7/site-packages/tensorflow_core/python/keras/engine/network.py\u001b[0m in \u001b[0;36m_run_internal_graph\u001b[0;34m(self, inputs, training, mask, convert_kwargs_to_constants)\u001b[0m\n\u001b[1;32m    889\u001b[0m \u001b[0;34m\u001b[0m\u001b[0m\n\u001b[1;32m    890\u001b[0m           \u001b[0;31m# Compute outputs.\u001b[0m\u001b[0;34m\u001b[0m\u001b[0;34m\u001b[0m\u001b[0;34m\u001b[0m\u001b[0m\n\u001b[0;32m--> 891\u001b[0;31m           \u001b[0moutput_tensors\u001b[0m \u001b[0;34m=\u001b[0m \u001b[0mlayer\u001b[0m\u001b[0;34m(\u001b[0m\u001b[0mcomputed_tensors\u001b[0m\u001b[0;34m,\u001b[0m \u001b[0;34m**\u001b[0m\u001b[0mkwargs\u001b[0m\u001b[0;34m)\u001b[0m\u001b[0;34m\u001b[0m\u001b[0;34m\u001b[0m\u001b[0m\n\u001b[0m\u001b[1;32m    892\u001b[0m \u001b[0;34m\u001b[0m\u001b[0m\n\u001b[1;32m    893\u001b[0m           \u001b[0;31m# Update tensor_dict.\u001b[0m\u001b[0;34m\u001b[0m\u001b[0;34m\u001b[0m\u001b[0;34m\u001b[0m\u001b[0m\n",
      "\u001b[0;32m~/anaconda3/lib/python3.7/site-packages/tensorflow_core/python/keras/engine/base_layer.py\u001b[0m in \u001b[0;36m__call__\u001b[0;34m(self, inputs, *args, **kwargs)\u001b[0m\n\u001b[1;32m    820\u001b[0m           with base_layer_utils.autocast_context_manager(\n\u001b[1;32m    821\u001b[0m               self._compute_dtype):\n\u001b[0;32m--> 822\u001b[0;31m             \u001b[0moutputs\u001b[0m \u001b[0;34m=\u001b[0m \u001b[0mself\u001b[0m\u001b[0;34m.\u001b[0m\u001b[0mcall\u001b[0m\u001b[0;34m(\u001b[0m\u001b[0mcast_inputs\u001b[0m\u001b[0;34m,\u001b[0m \u001b[0;34m*\u001b[0m\u001b[0margs\u001b[0m\u001b[0;34m,\u001b[0m \u001b[0;34m**\u001b[0m\u001b[0mkwargs\u001b[0m\u001b[0;34m)\u001b[0m\u001b[0;34m\u001b[0m\u001b[0;34m\u001b[0m\u001b[0m\n\u001b[0m\u001b[1;32m    823\u001b[0m           \u001b[0mself\u001b[0m\u001b[0;34m.\u001b[0m\u001b[0m_handle_activity_regularization\u001b[0m\u001b[0;34m(\u001b[0m\u001b[0minputs\u001b[0m\u001b[0;34m,\u001b[0m \u001b[0moutputs\u001b[0m\u001b[0;34m)\u001b[0m\u001b[0;34m\u001b[0m\u001b[0;34m\u001b[0m\u001b[0m\n\u001b[1;32m    824\u001b[0m           \u001b[0mself\u001b[0m\u001b[0;34m.\u001b[0m\u001b[0m_set_mask_metadata\u001b[0m\u001b[0;34m(\u001b[0m\u001b[0minputs\u001b[0m\u001b[0;34m,\u001b[0m \u001b[0moutputs\u001b[0m\u001b[0;34m,\u001b[0m \u001b[0minput_masks\u001b[0m\u001b[0;34m)\u001b[0m\u001b[0;34m\u001b[0m\u001b[0;34m\u001b[0m\u001b[0m\n",
      "\u001b[0;32m~/anaconda3/lib/python3.7/site-packages/tensorflow_core/python/keras/layers/core.py\u001b[0m in \u001b[0;36mcall\u001b[0;34m(self, inputs)\u001b[0m\n\u001b[1;32m   1140\u001b[0m         \u001b[0moutputs\u001b[0m \u001b[0;34m=\u001b[0m \u001b[0msparse_ops\u001b[0m\u001b[0;34m.\u001b[0m\u001b[0msparse_tensor_dense_matmul\u001b[0m\u001b[0;34m(\u001b[0m\u001b[0minputs\u001b[0m\u001b[0;34m,\u001b[0m \u001b[0mself\u001b[0m\u001b[0;34m.\u001b[0m\u001b[0mkernel\u001b[0m\u001b[0;34m)\u001b[0m\u001b[0;34m\u001b[0m\u001b[0;34m\u001b[0m\u001b[0m\n\u001b[1;32m   1141\u001b[0m       \u001b[0;32melse\u001b[0m\u001b[0;34m:\u001b[0m\u001b[0;34m\u001b[0m\u001b[0;34m\u001b[0m\u001b[0m\n\u001b[0;32m-> 1142\u001b[0;31m         \u001b[0moutputs\u001b[0m \u001b[0;34m=\u001b[0m \u001b[0mgen_math_ops\u001b[0m\u001b[0;34m.\u001b[0m\u001b[0mmat_mul\u001b[0m\u001b[0;34m(\u001b[0m\u001b[0minputs\u001b[0m\u001b[0;34m,\u001b[0m \u001b[0mself\u001b[0m\u001b[0;34m.\u001b[0m\u001b[0mkernel\u001b[0m\u001b[0;34m)\u001b[0m\u001b[0;34m\u001b[0m\u001b[0;34m\u001b[0m\u001b[0m\n\u001b[0m\u001b[1;32m   1143\u001b[0m     \u001b[0;32mif\u001b[0m \u001b[0mself\u001b[0m\u001b[0;34m.\u001b[0m\u001b[0muse_bias\u001b[0m\u001b[0;34m:\u001b[0m\u001b[0;34m\u001b[0m\u001b[0;34m\u001b[0m\u001b[0m\n\u001b[1;32m   1144\u001b[0m       \u001b[0moutputs\u001b[0m \u001b[0;34m=\u001b[0m \u001b[0mnn\u001b[0m\u001b[0;34m.\u001b[0m\u001b[0mbias_add\u001b[0m\u001b[0;34m(\u001b[0m\u001b[0moutputs\u001b[0m\u001b[0;34m,\u001b[0m \u001b[0mself\u001b[0m\u001b[0;34m.\u001b[0m\u001b[0mbias\u001b[0m\u001b[0;34m)\u001b[0m\u001b[0;34m\u001b[0m\u001b[0;34m\u001b[0m\u001b[0m\n",
      "\u001b[0;32m~/anaconda3/lib/python3.7/site-packages/tensorflow_core/python/ops/gen_math_ops.py\u001b[0m in \u001b[0;36mmat_mul\u001b[0;34m(a, b, transpose_a, transpose_b, name)\u001b[0m\n\u001b[1;32m   5614\u001b[0m         \u001b[0;32mpass\u001b[0m  \u001b[0;31m# Add nodes to the TensorFlow graph.\u001b[0m\u001b[0;34m\u001b[0m\u001b[0;34m\u001b[0m\u001b[0m\n\u001b[1;32m   5615\u001b[0m     \u001b[0;32mexcept\u001b[0m \u001b[0m_core\u001b[0m\u001b[0;34m.\u001b[0m\u001b[0m_NotOkStatusException\u001b[0m \u001b[0;32mas\u001b[0m \u001b[0me\u001b[0m\u001b[0;34m:\u001b[0m\u001b[0;34m\u001b[0m\u001b[0;34m\u001b[0m\u001b[0m\n\u001b[0;32m-> 5616\u001b[0;31m       \u001b[0m_ops\u001b[0m\u001b[0;34m.\u001b[0m\u001b[0mraise_from_not_ok_status\u001b[0m\u001b[0;34m(\u001b[0m\u001b[0me\u001b[0m\u001b[0;34m,\u001b[0m \u001b[0mname\u001b[0m\u001b[0;34m)\u001b[0m\u001b[0;34m\u001b[0m\u001b[0;34m\u001b[0m\u001b[0m\n\u001b[0m\u001b[1;32m   5617\u001b[0m   \u001b[0;31m# Add nodes to the TensorFlow graph.\u001b[0m\u001b[0;34m\u001b[0m\u001b[0;34m\u001b[0m\u001b[0;34m\u001b[0m\u001b[0m\n\u001b[1;32m   5618\u001b[0m   \u001b[0;32mif\u001b[0m \u001b[0mtranspose_a\u001b[0m \u001b[0;32mis\u001b[0m \u001b[0;32mNone\u001b[0m\u001b[0;34m:\u001b[0m\u001b[0;34m\u001b[0m\u001b[0;34m\u001b[0m\u001b[0m\n",
      "\u001b[0;32m~/anaconda3/lib/python3.7/site-packages/tensorflow_core/python/framework/ops.py\u001b[0m in \u001b[0;36mraise_from_not_ok_status\u001b[0;34m(e, name)\u001b[0m\n\u001b[1;32m   6604\u001b[0m   \u001b[0mmessage\u001b[0m \u001b[0;34m=\u001b[0m \u001b[0me\u001b[0m\u001b[0;34m.\u001b[0m\u001b[0mmessage\u001b[0m \u001b[0;34m+\u001b[0m \u001b[0;34m(\u001b[0m\u001b[0;34m\" name: \"\u001b[0m \u001b[0;34m+\u001b[0m \u001b[0mname\u001b[0m \u001b[0;32mif\u001b[0m \u001b[0mname\u001b[0m \u001b[0;32mis\u001b[0m \u001b[0;32mnot\u001b[0m \u001b[0;32mNone\u001b[0m \u001b[0;32melse\u001b[0m \u001b[0;34m\"\"\u001b[0m\u001b[0;34m)\u001b[0m\u001b[0;34m\u001b[0m\u001b[0;34m\u001b[0m\u001b[0m\n\u001b[1;32m   6605\u001b[0m   \u001b[0;31m# pylint: disable=protected-access\u001b[0m\u001b[0;34m\u001b[0m\u001b[0;34m\u001b[0m\u001b[0;34m\u001b[0m\u001b[0m\n\u001b[0;32m-> 6606\u001b[0;31m   \u001b[0msix\u001b[0m\u001b[0;34m.\u001b[0m\u001b[0mraise_from\u001b[0m\u001b[0;34m(\u001b[0m\u001b[0mcore\u001b[0m\u001b[0;34m.\u001b[0m\u001b[0m_status_to_exception\u001b[0m\u001b[0;34m(\u001b[0m\u001b[0me\u001b[0m\u001b[0;34m.\u001b[0m\u001b[0mcode\u001b[0m\u001b[0;34m,\u001b[0m \u001b[0mmessage\u001b[0m\u001b[0;34m)\u001b[0m\u001b[0;34m,\u001b[0m \u001b[0;32mNone\u001b[0m\u001b[0;34m)\u001b[0m\u001b[0;34m\u001b[0m\u001b[0;34m\u001b[0m\u001b[0m\n\u001b[0m\u001b[1;32m   6607\u001b[0m   \u001b[0;31m# pylint: enable=protected-access\u001b[0m\u001b[0;34m\u001b[0m\u001b[0;34m\u001b[0m\u001b[0;34m\u001b[0m\u001b[0m\n\u001b[1;32m   6608\u001b[0m \u001b[0;34m\u001b[0m\u001b[0m\n",
      "\u001b[0;32m~/anaconda3/lib/python3.7/site-packages/six.py\u001b[0m in \u001b[0;36mraise_from\u001b[0;34m(value, from_value)\u001b[0m\n",
      "\u001b[0;31mInvalidArgumentError\u001b[0m: In[0] is not a matrix. Instead it has shape [] [Op:MatMul]"
     ]
    }
   ],
   "source": [
    "print(autoencoder([0,0]))"
   ]
  },
  {
   "cell_type": "code",
   "execution_count": 107,
   "metadata": {},
   "outputs": [
    {
     "name": "stdout",
     "output_type": "stream",
     "text": [
      "[[-0.738  0.041]]\n",
      "[[-0.738  0.041]]\n"
     ]
    }
   ],
   "source": [
    "# accessing the output of all layers\n",
    "\n",
    "features_list = [layer.output for layer in encoder.layers]\n",
    "#print(features_list)\n",
    "feat_extraction_model = keras.Model(inputs=encoder.input, outputs=features_list[-1])\n",
    "\n",
    "img = np.random.random((1,10)).astype('float32')\n",
    "print(encoder(img).numpy())\n",
    "extracted_features = feat_extraction_model(img)\n",
    "print(extracted_features.numpy())"
   ]
  },
  {
   "cell_type": "code",
   "execution_count": 130,
   "metadata": {},
   "outputs": [
    {
     "name": "stdout",
     "output_type": "stream",
     "text": [
      "tf.Tensor([0.673 0.176], shape=(2,), dtype=float64)\n",
      "[-0.088  0.085]\n",
      "tf.Tensor(1.0, shape=(), dtype=float64)\n"
     ]
    }
   ],
   "source": [
    "example_batch, label_batch = next(iter(train_sl_ds))    \n",
    "\n",
    "\n",
    "# with a Sequential model\n",
    "output = K.function([model.layers[0].input],\n",
    "                    [model.layers[3].output])\n",
    "layer_output = output(example_batch)[0]\n",
    "#print(output)\n",
    "print(example_batch[0][:2])\n",
    "print(layer_output[0])\n",
    "print(label_batch[0])"
   ]
  }
 ],
 "metadata": {
  "kernelspec": {
   "display_name": "Python 3",
   "language": "python",
   "name": "python3"
  },
  "language_info": {
   "codemirror_mode": {
    "name": "ipython",
    "version": 3
   },
   "file_extension": ".py",
   "mimetype": "text/x-python",
   "name": "python",
   "nbconvert_exporter": "python",
   "pygments_lexer": "ipython3",
   "version": "3.7.4"
  }
 },
 "nbformat": 4,
 "nbformat_minor": 2
}

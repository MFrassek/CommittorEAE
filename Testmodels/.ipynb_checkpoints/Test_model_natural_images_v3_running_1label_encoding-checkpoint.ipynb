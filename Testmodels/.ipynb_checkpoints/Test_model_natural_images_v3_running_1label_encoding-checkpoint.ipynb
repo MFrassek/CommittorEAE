{
 "cells": [
  {
   "cell_type": "code",
   "execution_count": 1,
   "metadata": {},
   "outputs": [],
   "source": [
    "import tensorflow as tf\n",
    "import IPython.display as display\n",
    "from PIL import Image\n",
    "import numpy as np\n",
    "import matplotlib.pyplot as plt\n",
    "import os\n",
    "import pathlib"
   ]
  },
  {
   "cell_type": "code",
   "execution_count": 14,
   "metadata": {},
   "outputs": [
    {
     "name": "stdout",
     "output_type": "stream",
     "text": [
      "6899\n",
      "['7' '5' '0' '2' '4' '3' '1' '6']\n"
     ]
    },
    {
     "data": {
      "text/plain": [
       "'\\n#slow method\\n\\n#rescale maps to a range between 0 and 1 | validation_split determines the size of the validation set\\nimage_generator = tf.keras.preprocessing.image.ImageDataGenerator(rescale=1./255, validation_split=0.25)\\n#generating the training and test set with the argument \"subset\", \\n#requires validation_split to be defined in the ImageDataGenerator\\ntrain_data_gen = image_generator.flow_from_directory(directory=str(data_dir),\\n                                                     batch_size=BATCH_SIZE,\\n                                                     shuffle=True,\\n                                                     target_size=(IMG_HEIGHT, IMG_WIDTH),\\n                                                     classes = list(CLASS_NAMES),\\n                                                     subset=\\'training\\')\\ntest_data_gen = image_generator.flow_from_directory(directory=str(data_dir),\\n                                                     batch_size=BATCH_SIZE,\\n                                                     shuffle=True,\\n                                                     target_size=(IMG_HEIGHT, IMG_WIDTH),\\n                                                     classes = list(CLASS_NAMES),\\n                                                     subset=\\'validation\\')\\ndef show_batch(image_batch, label_batch):\\n    plt.figure(figsize=(10,10))\\n    for n in range(25):\\n        ax = plt.subplot(5,5,n+1)\\n        plt.imshow(image_batch[n])\\n        plt.title(CLASS_NAMES[label_batch[n]==1][0].title())\\n        plt.axis(\\'off\\')\\n        \\n\\ntrain_image_batch, train_label_batch = next(train_data_gen)\\ntest_image_batch, test_label_batch = next(test_data_gen)\\nprint(train_image_batch.shape)\\n#show_batch(image_batch, label_batch)\\n'"
      ]
     },
     "execution_count": 14,
     "metadata": {},
     "output_type": "execute_result"
    }
   ],
   "source": [
    "AUTOTUNE = tf.data.experimental.AUTOTUNE\n",
    "FOLDER_NAME = \"natural_images\"\n",
    "data_dir = pathlib.Path(str(FOLDER_NAME))\n",
    "image_count = len(list(data_dir.glob('*/*.jpg')))\n",
    "print(image_count)\n",
    "CLASS_NAMES = np.array([item.name for item in data_dir.glob('*') if item.name != \"LICENSE.txt\"])\n",
    "print(CLASS_NAMES)\n",
    "\n",
    "BATCH_SIZE = 1000\n",
    "IMG_HEIGHT = 128\n",
    "IMG_WIDTH = 128\n",
    "BUFFER_SIZE = image_count\n",
    "TRAIN_SIZE = int(image_count * 0.7)\n",
    "# is the next line necessary?\n",
    "STEPS_PER_EPOCH = np.ceil(image_count/BATCH_SIZE)\n",
    "\n",
    "\"\"\"\n",
    "#slow method\n",
    "\n",
    "#rescale maps to a range between 0 and 1 | validation_split determines the size of the validation set\n",
    "image_generator = tf.keras.preprocessing.image.ImageDataGenerator(rescale=1./255, validation_split=0.25)\n",
    "#generating the training and test set with the argument \"subset\", \n",
    "#requires validation_split to be defined in the ImageDataGenerator\n",
    "train_data_gen = image_generator.flow_from_directory(directory=str(data_dir),\n",
    "                                                     batch_size=BATCH_SIZE,\n",
    "                                                     shuffle=True,\n",
    "                                                     target_size=(IMG_HEIGHT, IMG_WIDTH),\n",
    "                                                     classes = list(CLASS_NAMES),\n",
    "                                                     subset='training')\n",
    "test_data_gen = image_generator.flow_from_directory(directory=str(data_dir),\n",
    "                                                     batch_size=BATCH_SIZE,\n",
    "                                                     shuffle=True,\n",
    "                                                     target_size=(IMG_HEIGHT, IMG_WIDTH),\n",
    "                                                     classes = list(CLASS_NAMES),\n",
    "                                                     subset='validation')\n",
    "def show_batch(image_batch, label_batch):\n",
    "    plt.figure(figsize=(10,10))\n",
    "    for n in range(25):\n",
    "        ax = plt.subplot(5,5,n+1)\n",
    "        plt.imshow(image_batch[n])\n",
    "        plt.title(CLASS_NAMES[label_batch[n]==1][0].title())\n",
    "        plt.axis('off')\n",
    "        \n",
    "\n",
    "train_image_batch, train_label_batch = next(train_data_gen)\n",
    "test_image_batch, test_label_batch = next(test_data_gen)\n",
    "print(train_image_batch.shape)\n",
    "#show_batch(image_batch, label_batch)\n",
    "\"\"\""
   ]
  },
  {
   "cell_type": "code",
   "execution_count": 15,
   "metadata": {},
   "outputs": [],
   "source": [
    "#better method\n",
    "\n",
    "list_ds = tf.data.Dataset.list_files(str(data_dir/'*/*')).shuffle(BUFFER_SIZE)\n",
    "train_list_ds = list_ds.take(TRAIN_SIZE)\n",
    "test_list_ds = list_ds.skip(TRAIN_SIZE)\n",
    "\n",
    "def get_label(file_path):\n",
    "    # convert the path to a list of path components\n",
    "    parts = tf.strings.split(file_path, os.path.sep)\n",
    "    # The second to last is the class-directory\n",
    "#    return parts[-2] == CLASS_NAMES\n",
    "    # return the class directory (second to last element in the path) as an integer\n",
    "    return int(parts[-2])\n",
    "def decode_img(img):\n",
    "    # convert the compressed string to a 3D uint8 tensor\n",
    "    img = tf.image.decode_jpeg(img, channels=3)\n",
    "    # Use `convert_image_dtype` to convert to floats in the [0,1] range.\n",
    "    img = tf.image.convert_image_dtype(img, tf.float32)\n",
    "    # resize the image to the desired size.\n",
    "    return tf.image.resize(img, [IMG_WIDTH, IMG_HEIGHT])\n",
    "def process_path(file_path):\n",
    "    label = get_label(file_path)\n",
    "    # load the raw data from the file as a string\n",
    "    img = tf.io.read_file(file_path)\n",
    "    img = decode_img(img)\n",
    "    return img, label\n",
    "\n",
    "# Set `num_parallel_calls` so multiple images are loaded/processed in parallel.\n",
    "train_labeled_ds = train_list_ds.map(process_path, num_parallel_calls=AUTOTUNE)\n",
    "test_labeled_ds = train_list_ds.map(process_path, num_parallel_calls=AUTOTUNE)\n",
    "#for image, label in labeled_ds.take(1):\n",
    "#    print(\"Image shape: \", image.numpy().shape)\n",
    "#    print(\"Label: \", label.numpy())\n",
    "    \n",
    "def prepare_for_training(ds, cache=True, shuffle_buffer_size=BUFFER_SIZE):\n",
    "    # This is a small dataset, only load it once, and keep it in memory.\n",
    "    # use `.cache(filename)` to cache preprocessing work for datasets that don't\n",
    "    # fit in memory.\n",
    "    if cache:\n",
    "        if isinstance(cache, str):\n",
    "            ds = ds.cache(cache)\n",
    "    else:\n",
    "        ds = ds.cache()\n",
    "\n",
    "    ds = ds.shuffle(buffer_size=shuffle_buffer_size)\n",
    "\n",
    "    # Repeat forever\n",
    "    ds = ds.repeat()\n",
    "    ds = ds.batch(BATCH_SIZE)\n",
    "\n",
    "    # `prefetch` lets the dataset fetch batches in the background while the model\n",
    "    # is training.\n",
    "    ds = ds.prefetch(buffer_size=AUTOTUNE)\n",
    "\n",
    "    return ds"
   ]
  },
  {
   "cell_type": "code",
   "execution_count": 16,
   "metadata": {},
   "outputs": [],
   "source": [
    "train_ds = prepare_for_training(train_labeled_ds)\n",
    "test_ds = prepare_for_training(test_labeled_ds)\n",
    "\n",
    "train_image_batch, train_label_batch = next(iter(train_ds))\n",
    "test_image_batch, test_label_batch = next(iter(test_ds))"
   ]
  },
  {
   "cell_type": "code",
   "execution_count": 17,
   "metadata": {},
   "outputs": [
    {
     "name": "stdout",
     "output_type": "stream",
     "text": [
      "Train on 1000 samples\n",
      "Epoch 1/10\n",
      "1000/1000 [==============================] - 3s 3ms/sample - loss: 35.2962 - sparse_categorical_accuracy: 0.2400\n",
      "Epoch 2/10\n",
      "1000/1000 [==============================] - 2s 2ms/sample - loss: 8.8055 - sparse_categorical_accuracy: 0.3770\n",
      "Epoch 3/10\n",
      "1000/1000 [==============================] - 2s 2ms/sample - loss: 8.6115 - sparse_categorical_accuracy: 0.3710\n",
      "Epoch 4/10\n",
      "1000/1000 [==============================] - 2s 2ms/sample - loss: 5.9586 - sparse_categorical_accuracy: 0.4420\n",
      "Epoch 5/10\n",
      "1000/1000 [==============================] - 2s 2ms/sample - loss: 5.2860 - sparse_categorical_accuracy: 0.4800\n",
      "Epoch 6/10\n",
      "1000/1000 [==============================] - 2s 2ms/sample - loss: 3.8252 - sparse_categorical_accuracy: 0.5290\n",
      "Epoch 7/10\n",
      "1000/1000 [==============================] - 2s 2ms/sample - loss: 4.4662 - sparse_categorical_accuracy: 0.5170\n",
      "Epoch 8/10\n",
      "1000/1000 [==============================] - 2s 2ms/sample - loss: 3.3356 - sparse_categorical_accuracy: 0.5450\n",
      "Epoch 9/10\n",
      "1000/1000 [==============================] - 2s 2ms/sample - loss: 3.1020 - sparse_categorical_accuracy: 0.5480\n",
      "Epoch 10/10\n",
      "1000/1000 [==============================] - 2s 2ms/sample - loss: 2.2368 - sparse_categorical_accuracy: 0.6220\n",
      "\n",
      "1000/1000 - 0s - loss: 4.1384 - sparse_categorical_accuracy: 0.4660\n",
      "\n",
      "Test accuracy: 0.466\n"
     ]
    }
   ],
   "source": [
    "model = tf.keras.Sequential([\n",
    "    tf.keras.layers.Flatten(input_shape=(IMG_HEIGHT, IMG_WIDTH, 3)),\n",
    "    tf.keras.layers.Dense(128, activation='relu'),\n",
    "    tf.keras.layers.Dense(8, activation='softmax')\n",
    "])\n",
    "\n",
    "model.compile(optimizer=tf.keras.optimizers.RMSprop(),\n",
    "                loss=tf.keras.losses.SparseCategoricalCrossentropy(),\n",
    "                metrics=[tf.keras.metrics.SparseCategoricalAccuracy()])\n",
    "\n",
    "model.fit(train_image_batch, train_label_batch, epochs=10)\n",
    "print()\n",
    "test_loss, test_acc = model.evaluate(test_image_batch,  test_label_batch, verbose=2)\n",
    "print('\\nTest accuracy:', test_acc)\n",
    "\n"
   ]
  },
  {
   "cell_type": "code",
   "execution_count": null,
   "metadata": {},
   "outputs": [],
   "source": []
  }
 ],
 "metadata": {
  "kernelspec": {
   "display_name": "Python 3",
   "language": "python",
   "name": "python3"
  },
  "language_info": {
   "codemirror_mode": {
    "name": "ipython",
    "version": 3
   },
   "file_extension": ".py",
   "mimetype": "text/x-python",
   "name": "python",
   "nbconvert_exporter": "python",
   "pygments_lexer": "ipython3",
   "version": "3.7.4"
  }
 },
 "nbformat": 4,
 "nbformat_minor": 2
}

{
 "cells": [
  {
   "cell_type": "code",
   "execution_count": 1,
   "metadata": {},
   "outputs": [],
   "source": [
    "from __future__ import absolute_import, division, print_function, unicode_literals\n",
    "import numpy as np\n",
    "import pickle\n",
    "from sklearn.utils import shuffle\n",
    "import tensorflow as tf\n",
    "from tensorflow import keras\n",
    "\n",
    "from IPython import display\n",
    "import matplotlib.pyplot as plt\n",
    "\n",
    "#import time\n",
    "np.set_printoptions(precision=3, suppress=True)"
   ]
  },
  {
   "cell_type": "code",
   "execution_count": 2,
   "metadata": {},
   "outputs": [],
   "source": [
    "COLUMN_NAMES = [\"dim1\", \"dim2\", \"dim3\", \"dim4\", \n",
    "                \"dim5\", \"dim6\", \"dim7\", \"dim8\", \n",
    "                \"dim9\", \"dim10\", \"label\"]\n",
    "LABEL_NAME = \"label\"\n",
    "INPUT_NAMES = list(COLUMN_NAMES)\n",
    "INPUT_NAMES.remove(LABEL_NAME)\n",
    "trajectory_list = pickle.load(open(\"N-Dim_Doublewell/trajectory_list.p\", \"rb\"))\n",
    "trajectory_label_list = pickle.load(open(\"N-Dim_Doublewell/trajectory_label_list.p\", \"rb\"))\n",
    "BATCH_SIZE = 64\n",
    "#SHUFFLE_BUFFER_SIZE = 1000000\n",
    "CORES_USED = 3\n",
    "DIMENSIONS = 10\n",
    "# sets a random seed for reproducibility of the shuffling process\n",
    "SEED = 5\n",
    "OFFSET = 5\n",
    "DROP_REMAINDER = True"
   ]
  },
  {
   "cell_type": "code",
   "execution_count": 3,
   "metadata": {},
   "outputs": [],
   "source": [
    "# additional section can be used for generation of present/future pairs\n",
    "def generate_offset_snapshot_list(trajectory_list, offset):\n",
    "    # Takes in a list or np.array of trajectories and an offset value and generates two np.arrays with respective new versions\n",
    "    # of the trajectories. \n",
    "    # present_trajectory_list contains all snapshots of the trajectories excluding\n",
    "    # the last n (speficified by offset) of each.\n",
    "    # future_trajectory_list contains all snapshots of the trajectories excluding\n",
    "    # the first n (specified by offset) of each.\n",
    "    # Consequently the both lists can be used as input and desired output of an autoencoder to\n",
    "    # train for future predictive variables.\n",
    "    present_trajectory_list = np.array([trajectory[:-offset] for trajectory in trajectory_list])  \n",
    "    #truncated_present_trajectory_list = \n",
    "    future_trajectory_list = np.array([trajectory[offset:] for trajectory in trajectory_list])\n",
    "    return present_trajectory_list, future_trajectory_list\n",
    "\n",
    "def get_snapshot_and_label_list(trajectory_list, trajectory_label_list, offset = 0, future = False, progress_label = False):\n",
    "    # takes in a list of trajectories and corresponding labels and generates concatenated lists of snapshots, \n",
    "    # snapshot label and snapshot progress labels\n",
    "    # can be used for present/future trajcetory lists by use or offset (same as used for generation of the list)\n",
    "    # and future = True for the future trajectory list\n",
    "    snapshot_list = []\n",
    "    snapshot_label_list = []\n",
    "    for trajectory_nr in range(len(trajectory_list)):\n",
    "        trajectory = trajectory_list[trajectory_nr]\n",
    "        trajectory_label = trajectory_label_list[trajectory_nr]\n",
    "        for snapshot_nr in range(len(trajectory)):\n",
    "            snapshot_list.append(trajectory[snapshot_nr])\n",
    "            if progress_label == False:\n",
    "                snapshot_label_list.append(trajectory_label)\n",
    "            else:\n",
    "                # Calculates the progress along the path for AB paths. If the path label is 1 or 0,\n",
    "                # all snapshot are assigned the same label. If the path label is different (e.g. 0.5),\n",
    "                # indicating a sucessfull transition a progress along the snapshots is calculated based on\n",
    "                # the position within the trajectory and the total trajectory length.\n",
    "                # For present/future lists, the offset needs to be taken into account in the denominator\n",
    "                # If the dataset is a future variant of an offset trajectory list the progress label \n",
    "                # needs to additionally take the offset into account in the nominator.\n",
    "                if trajectory_label == 0.0 or trajectory_label == 1.0:\n",
    "                    snapshot_label_list.append(trajectory_label)\n",
    "                else:\n",
    "                    if future == True:\n",
    "                        snapshot_label_list.append((snapshot_nr + offset)/(len(trajectory) - 1.0 + offset))\n",
    "                    else:\n",
    "                        snapshot_label_list.append(snapshot_nr/(len(trajectory)-1.0 + offset))\n",
    "    return np.array(snapshot_list), np.array(snapshot_label_list)\n",
    "\n",
    "def show_batch(dataset):\n",
    "    for batch, label in dataset.take(1):\n",
    "        for key, value in batch.items():\n",
    "            print(\"{:20s}: {}\".format(key,value.numpy()))\n"
   ]
  },
  {
   "cell_type": "code",
   "execution_count": 4,
   "metadata": {},
   "outputs": [],
   "source": [
    "#snapshot_list, snapshot_label_list = get_snapshot_and_label_list(trajectory_list, trajectory_label_list)\n",
    "\n",
    "# Sets a split size for train and test data set\n",
    "#DATASET_SIZE = len(snapshot_label_list)\n",
    "#TRAIN_SIZE = int(DATASET_SIZE * 0.7)\n",
    "SPLIT_RATIO = 0.7\n",
    "BOTTLENECK_SIZE = 2\n",
    "LABEL_LOSS_WEIGHT = 1.0\n",
    "RECONSTRUCTION_LOSS_WEIGHT = 1.0"
   ]
  },
  {
   "cell_type": "code",
   "execution_count": 18,
   "metadata": {},
   "outputs": [],
   "source": [
    "def shuffled_train_test_split(trajectory_list, trajectory_label_list, split_ratio, offset = 0, progress_label = False):\n",
    "    assert isinstance(split_ratio, float), \"Split ratio needs to be a of type float\"\n",
    "    if offset == 0 or offset == None:\n",
    "        snapshot_list, snapshot_label_list = get_snapshot_and_label_list(trajectory_list, \\\n",
    "                trajectory_label_list, progress_label = progress_label)\n",
    "        snapshot_list, snapshot_label_list = shuffle(snapshot_list, snapshot_label_list)\n",
    "        train_size = int(len(snapshot_label_list) * split_ratio)\n",
    "        train_snapshot_list = snapshot_list[:train_size].copy()\n",
    "        test_snapshot_list = snapshot_list[train_size:].copy()\n",
    "        train_snapshot_label_list = snapshot_label_list[:train_size].copy()\n",
    "        test_snapshot_label_list = snapshot_label_list[train_size:].copy()\n",
    "        \n",
    "        return train_snapshot_list, train_snapshot_label_list, test_snapshot_list, test_snapshot_label_list\n",
    "    else:\n",
    "        present_trajectory_list, future_trajectory_list = generate_offset_snapshot_list(trajectory_list, offset)\n",
    "        present_snapshot_list, _ = get_snapshot_and_label_list(\n",
    "                present_trajectory_list, trajectory_label_list, offset)\n",
    "        future_snapshot_list, future_snapshot_label_list = get_snapshot_and_label_list(\n",
    "                future_trajectory_list, trajectory_label_list, offset, future = True, \\\n",
    "                progress_label = progress_label)\n",
    "        present_snapshot_list, future_snapshot_list, future_snapshot_label_list = shuffle(\n",
    "                present_snapshot_list, future_snapshot_list, future_snapshot_label_list)\n",
    "        train_size = int(len(future_snapshot_label_list) * split_ratio)\n",
    "        \n",
    "        train_present_snapshot_list = present_snapshot_list[:train_size].copy()\n",
    "        test_present_snapshot_list = present_snapshot_list[train_size:].copy()\n",
    "        train_future_snapshot_list = future_snapshot_list[:train_size].copy()\n",
    "        test_future_snapshot_list = future_snapshot_list[train_size:].copy()\n",
    "        train_future_snapshot_label_list = future_snapshot_label_list[:train_size].copy()\n",
    "        test_future_snapshot_label_list = future_snapshot_label_list[train_size:].copy()   \n",
    "        return train_present_snapshot_list, train_future_snapshot_list, \\\n",
    "                train_future_snapshot_label_list, test_present_snapshot_list, \\\n",
    "                test_future_snapshot_list, test_future_snapshot_label_list\n",
    "\n",
    "def generate_ds(trajectory_list, trajectory_label_list, split_ratio, offset = 0, progress_label = False):\n",
    "    if offset == 0 or offset == None:\n",
    "        train_snapshot_list, train_snapshot_label_list, \\\n",
    "                test_snapshot_list, test_snapshot_label_list = shuffled_train_test_split(\n",
    "                        trajectory_list, trajectory_label_list, split_ratio, offset = 0, progress_label = False)\n",
    "        dataset_size = len(train_snapshot_list) + len(test_snapshot_list)\n",
    "        # generates the dataset by feeding in a tuple, of dictionaries (alternative would be a tuble of lists)\n",
    "        train_ds = tf.data.Dataset.from_tensor_slices(({\"input_snapshots\": train_snapshot_list},\n",
    "                {\"label\": train_snapshot_label_list, \n",
    "                \"reconstruction\": train_snapshot_list})).shuffle(dataset_size)\n",
    "        test_ds = tf.data.Dataset.from_tensor_slices(({\"input_snapshots\": test_snapshot_list},\n",
    "                {\"label\": test_snapshot_label_list, \n",
    "                \"reconstruction\": test_snapshot_list})).shuffle(dataset_size)\n",
    "        step_number = int(len(test_snapshot_list)/BATCH_SIZE)\n",
    "        \n",
    "        return dataset_size, step_number, train_ds, test_ds, train_snapshot_list, \\\n",
    "                [], train_snapshot_label_list, test_snapshot_list, \\\n",
    "                [], test_snapshot_label_list\n",
    "    else:\n",
    "        train_snapshot_list, train_future_snapshot_list, train_future_snapshot_label_list, \\\n",
    "                test_snapshot_list, test_future_snapshot_list, test_future_snapshot_label_list = shuffled_train_test_split(\n",
    "                        trajectory_list, trajectory_label_list, split_ratio, offset = offset, \\\n",
    "                        progress_label = False)\n",
    "        dataset_size = len(train_snapshot_list) + len(test_snapshot_list)\n",
    "        # generates the dataset by feeding in a tuple, of dictionaries (alternative would be a tuble of lists)\n",
    "        train_ds = tf.data.Dataset.from_tensor_slices(({\"input_snapshots\": train_snapshot_list},\n",
    "                {\"label\": train_future_snapshot_label_list, \n",
    "                \"reconstruction\": train_future_snapshot_list})).shuffle(dataset_size)\n",
    "        test_ds = tf.data.Dataset.from_tensor_slices(({\"input_snapshots\": test_snapshot_list},\n",
    "                {\"label\": test_future_snapshot_label_list, \n",
    "                \"reconstruction\": test_future_snapshot_list})).shuffle(dataset_size)\n",
    "        step_number = int(len(test_present_snapshot_list)/BATCH_SIZE)\n",
    "    \n",
    "        return dataset_size, step_number, train_ds, test_ds, train_snapshot_list, \\\n",
    "                train_future_snapshot_list, train_future_snapshot_label_list, test_snapshot_list, \\\n",
    "                test_future_snapshot_list, test_future_snapshot_label_list\n",
    "                \n",
    "\n",
    "DATASET_SIZE, STEP_NUMBER, train_ds, test_ds, train_snapshot_list, train_future_snapshot_list, \\\n",
    "        train_snapshot_label_list, test_snapshot_list, test_future_snapshot_list, \\\n",
    "        test_snapshot_label_list = generate_ds(trajectory_list, \\\n",
    "                trajectory_label_list, SPLIT_RATIO, offset = 0, progress_label = False)\n",
    "\n",
    "train_ds_batch = train_ds.batch(BATCH_SIZE, drop_remainder=DROP_REMAINDER)\n",
    "test_ds_batch = test_ds.batch(BATCH_SIZE, drop_remainder=DROP_REMAINDER)"
   ]
  },
  {
   "cell_type": "code",
   "execution_count": 19,
   "metadata": {},
   "outputs": [
    {
     "data": {
      "image/png": "[encoded data removed]",
      "text/plain": [
       "<IPython.core.display.Image object>"
      ]
     },
     "metadata": {},
     "output_type": "display_data"
    }
   ],
   "source": [
    "encoder_input = keras.Input(shape=(DIMENSIONS,),name=\"input_snapshots\")\n",
    "x = keras.layers.Dense(DIMENSIONS, activation= 'tanh')(encoder_input)\n",
    "x = keras.layers.Dense(DIMENSIONS*2, activation='tanh')(x)\n",
    "x = keras.layers.Dense(DIMENSIONS*2, activation='tanh')(x)\n",
    "encoder_output = keras.layers.Dense(BOTTLENECK_SIZE, activation='tanh', name='bottleneck')(x)\n",
    "\n",
    "encoder = keras.Model(encoder_input, encoder_output, name =\"encoder\")\n",
    "#encoder.summary()\n",
    "\n",
    "decoder_input = keras.Input(shape=(BOTTLENECK_SIZE,), name =\"encoded_snapshots\")\n",
    "\n",
    "x1 = keras.layers.Dense(DIMENSIONS*2, activation='tanh')(decoder_input)\n",
    "x1 = keras.layers.Dense(DIMENSIONS, activation='tanh')(x1)\n",
    "decoder_output_1 = keras.layers.Dense(1, activation='tanh',name=\"label\")(x1)\n",
    "decoder_1 = keras.Model(decoder_input, decoder_output_1, name=\"label\")\n",
    "#decoder_1.summary()\n",
    "\n",
    "x2 = keras.layers.Dense(DIMENSIONS*2, activation='tanh')(decoder_input)\n",
    "x2 = keras.layers.Dense(DIMENSIONS*2, activation='tanh')(x2)\n",
    "decoder_output_2 = keras.layers.Dense(DIMENSIONS, activation='tanh',name=\"reconstruction\")(x2)\n",
    "decoder_2 = keras.Model(decoder_input, decoder_output_2, name=\"reconstruction\")\n",
    "#decoder_2.summary()\n",
    "\n",
    "autoencoder_input = keras.Input(shape=(DIMENSIONS,), name=\"input_snapshots\")\n",
    "encoded_snaphot = encoder(autoencoder_input)\n",
    "label_snapshot = decoder_1(encoded_snaphot)\n",
    "reconstructed_snapshot = decoder_2(encoded_snaphot)\n",
    "autoencoder = keras.Model(inputs=autoencoder_input, outputs=[label_snapshot,reconstructed_snapshot])\n",
    "\n",
    "model_layout = keras.utils.plot_model(autoencoder, 'multi_input_and_output_model.png', show_shapes=True)\n",
    "display.display(model_layout)\n",
    "#display.display(keras.utils.plot_model(encoder, 'encoder.png', show_shapes=True))\n",
    "#display.display(keras.utils.plot_model(decoder_1, 'decoder_1.png', show_shapes=True))\n",
    "#display.display(keras.utils.plot_model(decoder_2, 'decoder_2.png', show_shapes=True))\n"
   ]
  },
  {
   "cell_type": "code",
   "execution_count": 20,
   "metadata": {},
   "outputs": [],
   "source": [
    "autoencoder.compile(optimizer=keras.optimizers.RMSprop(1e-3),\n",
    "              loss={'label':keras.losses.MeanAbsoluteError(),\n",
    "                      'reconstruction': keras.losses.MeanAbsoluteError()},\n",
    "              loss_weights=[LABEL_LOSS_WEIGHT, RECONSTRUCTION_LOSS_WEIGHT])"
   ]
  },
  {
   "cell_type": "code",
   "execution_count": 21,
   "metadata": {},
   "outputs": [
    {
     "name": "stdout",
     "output_type": "stream",
     "text": [
      "Train for 2521 steps\n",
      "Epoch 1/3\n",
      "2521/2521 [==============================] - 5s 2ms/step - loss: 0.4537 - label_loss: 0.0600 - reconstruction_loss: 0.3937\n",
      "Epoch 2/3\n",
      "2521/2521 [==============================] - 5s 2ms/step - loss: 0.4294 - label_loss: 0.0415 - reconstruction_loss: 0.3880\n",
      "Epoch 3/3\n",
      "2521/2521 [==============================] - 5s 2ms/step - loss: 0.4277 - label_loss: 0.0404 - reconstruction_loss: 0.3873\n"
     ]
    },
    {
     "data": {
      "text/plain": [
       "<tensorflow.python.keras.callbacks.History at 0x7fcbc42f4c90>"
      ]
     },
     "execution_count": 21,
     "metadata": {},
     "output_type": "execute_result"
    }
   ],
   "source": [
    "autoencoder.fit(train_ds_batch,epochs=3)\n",
    "#set back to 0 for proper tests\n"
   ]
  },
  {
   "cell_type": "code",
   "execution_count": 22,
   "metadata": {},
   "outputs": [
    {
     "name": "stdout",
     "output_type": "stream",
     "text": [
      "1080/1080 [==============================] - 1s 1ms/step - loss: 0.4270 - label_loss: 0.0403 - reconstruction_loss: 0.3868\n"
     ]
    },
    {
     "data": {
      "text/plain": [
       "[0.42704669013619423, 0.04026953, 0.38677722]"
      ]
     },
     "execution_count": 22,
     "metadata": {},
     "output_type": "execute_result"
    }
   ],
   "source": [
    "autoencoder.evaluate(test_ds_batch, verbose=1, steps = STEP_NUMBER)"
   ]
  },
  {
   "cell_type": "code",
   "execution_count": 37,
   "metadata": {},
   "outputs": [],
   "source": [
    "def map_generated_labels(model, x_list, y_list, dimensions, additional_dim_val, x_var_pos, y_var_pos):\n",
    "    assert x_var_pos != y_var_pos, \"x_var_pos and y_var_pos need to differ\"\n",
    "    label_map = []\n",
    "    for x in x_list:\n",
    "        label_current_row = []\n",
    "        for y in y_list:\n",
    "            label_current_row.append(model.predict([[x if x_var_pos == pos_nr else y if \\\n",
    "                    y_var_pos == pos_nr else additional_dim_val for pos_nr in range(dimensions)]])[0][0][0])\n",
    "        label_map.append(label_current_row)\n",
    "    return np.array(label_map)"
   ]
  },
  {
   "cell_type": "code",
   "execution_count": 38,
   "metadata": {},
   "outputs": [],
   "source": [
    "def map_given_labels_efficiently(snapshot_list, snapshot_label_list, x_list, y_list, x_var_pos, y_var_pos):\n",
    "    x_nr = len(x_list)\n",
    "    y_nr = len(y_list)\n",
    "    min_x = min(x_list)\n",
    "    max_x = max(x_list)\n",
    "    min_y = min(y_list)\n",
    "    max_y = max(y_list)\n",
    "    # generate a list of lists of lists to store all labels in\n",
    "    label_map = [[[] for y in y_list] for x in x_list]\n",
    "    # sort the labels of each snapshot to the corresponding \"positions\" in the grid (by sorting them in the list)\n",
    "    for snapshot_nr in range(len(snapshot_list)):\n",
    "        x_snap = snapshot_list[snapshot_nr][x_var_pos]\n",
    "        y_snap = snapshot_list[snapshot_nr][y_var_pos]\n",
    "        # int to be able to use for iteration, round to round to closest full number, \n",
    "        # i-min_x to offset to start at 0, /2.0*(x-nr-1) to rescale\n",
    "        x_int = int(round((x_snap - min_x)/2.0*(x_nr-1)))\n",
    "        y_int = int(round((y_snap - min_y)/2.0*(y_nr-1)))\n",
    "        label_map[x_int][y_int].append(snapshot_label_list[snapshot_nr])\n",
    "\n",
    "    for row_ind in range(len(label_map)):\n",
    "        for col_ind in range(len(label_map[row_ind])):\n",
    "            if len(label_map[row_ind][col_ind]) > 0:\n",
    "                label_map[row_ind][col_ind] = np.mean(label_map[row_ind][col_ind])\n",
    "            else:\n",
    "                label_map[row_ind][col_ind] = float('NaN')\n",
    "    return label_map"
   ]
  },
  {
   "cell_type": "code",
   "execution_count": 39,
   "metadata": {},
   "outputs": [],
   "source": [
    "def plot_heatmap(label_map, title, x_name, y_name, vmin, vmax):\n",
    "    plt.close()\n",
    "    # use transpose to rotate the map into the right orientation\n",
    "    # use [::-1] to invert the new y_axis\n",
    "    fig, ax = plt.subplots()\n",
    "    plt.imshow(np.transpose(label_map)[::-1], cmap='coolwarm', interpolation='nearest', vmin=vmin, vmax=vmax)\n",
    "    #plt.axis('off')\n",
    "    plt.tick_params(\n",
    "        axis='both',          # changes apply to the x-axis\n",
    "        which='both',      # both major and minor ticks are affected\n",
    "        bottom=False,      # ticks along the bottom edge are off\n",
    "        top=False,         # ticks along the top edge are off\n",
    "        labelbottom=False, # labels along the bottom edge are off\n",
    "        left = False,\n",
    "        labelleft= False)     \n",
    "    plt.xlabel(\"{}\".format(x_name))\n",
    "    plt.ylabel(\"{}\".format(y_name))\n",
    "    plt.savefig(title)\n",
    "    plt.show()"
   ]
  },
  {
   "cell_type": "code",
   "execution_count": 40,
   "metadata": {},
   "outputs": [
    {
     "name": "stdout",
     "output_type": "stream",
     "text": [
      "0 1\n"
     ]
    },
    {
     "data": {
      "image/png": "[encoded data removed]",
      "text/plain": [
       "<Figure size 432x288 with 1 Axes>"
      ]
     },
     "metadata": {},
     "output_type": "display_data"
    },
    {
     "data": {
      "image/png": "[encoded data removed]",
      "text/plain": [
       "<Figure size 432x288 with 1 Axes>"
      ]
     },
     "metadata": {},
     "output_type": "display_data"
    }
   ],
   "source": [
    "RESOLUTION = 21\n",
    "for i in range(2):\n",
    "    for j in range(2):\n",
    "        if j > i:\n",
    "            print(i, j)\n",
    "            label_map_generated = map_generated_labels(autoencoder, \\\n",
    "                    np.linspace(-1,1,RESOLUTION), np.linspace(-1,1, RESOLUTION), DIMENSIONS, 0, i, j)\n",
    "            plot_heatmap(label_map_generated, \"{}{}_21_label_map_generated.png\".format(i,j), \\\n",
    "                    \"x{}\".format(i), \"x{}\".format(j), 0, 1)\n",
    "            label_map_given = map_given_labels_efficiently(train_snapshot_list, \\\n",
    "                    train_snapshot_label_list, np.linspace(-1,1,RESOLUTION), np.linspace(-1,1,RESOLUTION), i, j)\n",
    "            plot_heatmap(label_map_given, \"{}{}_21_label_map_given.png\".format(i,j), \\\n",
    "                    \"x{}\".format(i), \"x{}\".format(j), 0, 1)"
   ]
  },
  {
   "cell_type": "code",
   "execution_count": 27,
   "metadata": {},
   "outputs": [],
   "source": [
    "def map_generated_bottleneck(model, x_list, y_list, dimensions, additional_dim_val, x_var_pos, y_var_pos, bottlenek_node_nr):\n",
    "    assert x_var_pos != y_var_pos, \"x_var_pos and y_var_pos need to differ\"\n",
    "    output_map = [[] for i in range(bottlenek_node_nr)]\n",
    "    for x in x_list:\n",
    "        output_current_row = [[] for i in range(bottlenek_node_nr)]\n",
    "        for y in y_list:\n",
    "            prediction = model.predict([[x if x_var_pos == pos_nr else y if \\\n",
    "                    y_var_pos == pos_nr else additional_dim_val for pos_nr in range(dimensions)]])[0]\n",
    "            for subrow_nr in range(bottlenek_node_nr):\n",
    "                output_current_row[subrow_nr].append(prediction[subrow_nr])      \n",
    "        for subarray_nr in range(bottlenek_node_nr):\n",
    "            output_map[subarray_nr].append(output_current_row[subarray_nr])\n",
    "    return np.array(output_map)\n",
    "\n",
    "bottleneck_map_generated = map_generated_bottleneck(encoder, \\\n",
    "        np.linspace(-1,1,RESOLUTION), np.linspace(-1,1, RESOLUTION), DIMENSIONS, 0, 0, 1, 2)\n",
    "\n"
   ]
  },
  {
   "cell_type": "code",
   "execution_count": 28,
   "metadata": {},
   "outputs": [
    {
     "data": {
      "image/png": "[encoded data removed]",
      "text/plain": [
       "<Figure size 432x288 with 1 Axes>"
      ]
     },
     "metadata": {},
     "output_type": "display_data"
    },
    {
     "data": {
      "image/png": "[encoded data removed]",
      "text/plain": [
       "<Figure size 432x288 with 1 Axes>"
      ]
     },
     "metadata": {},
     "output_type": "display_data"
    }
   ],
   "source": [
    "plot_heatmap(bottleneck_map_generated[0], \"{}{}_21_bottleneck_map_generated_b0.png\".format(0,1), \"x0\", \"x1\", -1, 1)\n",
    "plot_heatmap(bottleneck_map_generated[1], \"{}{}_21_bottleneck_map_generated_b1.png\".format(0,1), \"x0\", \"x1\", -1, 1)"
   ]
  },
  {
   "cell_type": "code",
   "execution_count": 29,
   "metadata": {},
   "outputs": [
    {
     "data": {
      "image/png": "[encoded data removed]",
      "text/plain": [
       "<Figure size 432x288 with 1 Axes>"
      ]
     },
     "metadata": {},
     "output_type": "display_data"
    }
   ],
   "source": [
    "def map_generated_label_from_bn(model, x_list, y_list, dimensions, additional_dim_val, x_var_pos, y_var_pos):\n",
    "    assert x_var_pos != y_var_pos, \"x_var_pos and y_var_pos need to differ\"\n",
    "    label_map = []\n",
    "    for x in x_list:\n",
    "        label_current_row = []\n",
    "        for y in y_list:\n",
    "            label_current_row.append(model.predict([[x if x_var_pos == pos_nr else y \\\n",
    "                    if y_var_pos == pos_nr else additional_dim_val for pos_nr in range(dimensions)]])[0][0])\n",
    "        label_map.append(label_current_row)\n",
    "    return np.array(label_map)\n",
    " \n",
    "label_map_from_bn = map_generated_label_from_bn(decoder_1, np.linspace(-1,1,RESOLUTION), \\\n",
    "        np.linspace(-1,1, RESOLUTION), BOTTLENECK_SIZE, 0, 0, 1)\n",
    "plot_heatmap(label_map_from_bn, \"{}{}_21_label_map_from_bn.png\".format(0,1), \"b0\", \"b1\", 0, 1)\n"
   ]
  },
  {
   "cell_type": "code",
   "execution_count": 30,
   "metadata": {},
   "outputs": [],
   "source": [
    "# misusing map generated_bottleneck here, since it has the same functionality of generating an array of maps for each output\n",
    "reconstructed_map_from_bn = map_generated_bottleneck(decoder_2, np.linspace(-1,1,RESOLUTION), \\\n",
    "        np.linspace(-1,1, RESOLUTION), BOTTLENECK_SIZE, 0, 0, 1, 10)\n",
    "\n",
    "\n",
    "\n"
   ]
  },
  {
   "cell_type": "code",
   "execution_count": 31,
   "metadata": {},
   "outputs": [
    {
     "data": {
      "image/png": "[encoded data removed]",
      "text/plain": [
       "<Figure size 432x288 with 1 Axes>"
      ]
     },
     "metadata": {},
     "output_type": "display_data"
    },
    {
     "data": {
      "image/png": "[encoded data removed]",
      "text/plain": [
       "<Figure size 432x288 with 1 Axes>"
      ]
     },
     "metadata": {},
     "output_type": "display_data"
    },
    {
     "data": {
      "image/png": "[encoded data removed]",
      "text/plain": [
       "<Figure size 432x288 with 1 Axes>"
      ]
     },
     "metadata": {},
     "output_type": "display_data"
    },
    {
     "data": {
      "image/png": "[encoded data removed]",
      "text/plain": [
       "<Figure size 432x288 with 1 Axes>"
      ]
     },
     "metadata": {},
     "output_type": "display_data"
    },
    {
     "data": {
      "image/png": "[encoded data removed]",
      "text/plain": [
       "<Figure size 432x288 with 1 Axes>"
      ]
     },
     "metadata": {},
     "output_type": "display_data"
    },
    {
     "data": {
      "image/png": "[encoded data removed]",
      "text/plain": [
       "<Figure size 432x288 with 1 Axes>"
      ]
     },
     "metadata": {},
     "output_type": "display_data"
    },
    {
     "data": {
      "image/png": "[encoded data removed]",
      "text/plain": [
       "<Figure size 432x288 with 1 Axes>"
      ]
     },
     "metadata": {},
     "output_type": "display_data"
    },
    {
     "data": {
      "image/png": "[encoded data removed]",
      "text/plain": [
       "<Figure size 432x288 with 1 Axes>"
      ]
     },
     "metadata": {},
     "output_type": "display_data"
    },
    {
     "data": {
      "image/png": "[encoded data removed]",
      "text/plain": [
       "<Figure size 432x288 with 1 Axes>"
      ]
     },
     "metadata": {},
     "output_type": "display_data"
    },
    {
     "data": {
      "image/png": "[encoded data removed]",
      "text/plain": [
       "<Figure size 432x288 with 1 Axes>"
      ]
     },
     "metadata": {},
     "output_type": "display_data"
    }
   ],
   "source": [
    "plot_heatmap(reconstructed_map_from_bn[0], \"{}{}_21_label_map_from_bn_0.png\".format(0,1), \"b0\", \"b1\", -1, 1)\n",
    "plot_heatmap(reconstructed_map_from_bn[1], \"{}{}_21_label_map_from_bn_1.png\".format(0,1), \"b0\", \"b1\", -1, 1)\n",
    "plot_heatmap(reconstructed_map_from_bn[2], \"{}{}_21_label_map_from_bn_2.png\".format(0,1), \"b0\", \"b1\", -1, 1)\n",
    "plot_heatmap(reconstructed_map_from_bn[3], \"{}{}_21_label_map_from_bn_3.png\".format(0,1), \"b0\", \"b1\", -1, 1)\n",
    "plot_heatmap(reconstructed_map_from_bn[4], \"{}{}_21_label_map_from_bn_4.png\".format(0,1), \"b0\", \"b1\", -1, 1)\n",
    "plot_heatmap(reconstructed_map_from_bn[5], \"{}{}_21_label_map_from_bn_5.png\".format(0,1), \"b0\", \"b1\", -1, 1)\n",
    "plot_heatmap(reconstructed_map_from_bn[6], \"{}{}_21_label_map_from_bn_6.png\".format(0,1), \"b0\", \"b1\", -1, 1)\n",
    "plot_heatmap(reconstructed_map_from_bn[7], \"{}{}_21_label_map_from_bn_7.png\".format(0,1), \"b0\", \"b1\", -1, 1)\n",
    "plot_heatmap(reconstructed_map_from_bn[8], \"{}{}_21_label_map_from_bn_8.png\".format(0,1), \"b0\", \"b1\", -1, 1)\n",
    "plot_heatmap(reconstructed_map_from_bn[9], \"{}{}_21_label_map_from_bn_9.png\".format(0,1), \"b0\", \"b1\", -1, 1)"
   ]
  },
  {
   "cell_type": "code",
   "execution_count": 32,
   "metadata": {},
   "outputs": [],
   "source": [
    "class PerturbColumn(object):\n",
    "    def __init__(self, mod_along, perturbation, dimensions):\n",
    "        self.mod_along = mod_along\n",
    "        self.perturbation = perturbation\n",
    "        self.dimensions = dimensions\n",
    "        \n",
    "    def __call__(self, features, labels):\n",
    "        mod_along = self.mod_along\n",
    "        perturbation = self.perturbation\n",
    "        dimensions = self.dimensions\n",
    "        # iterates over all keys of the features (here only 1)\n",
    "        # generates an mult_array with only value \"1\" in all columns except for the modified column\n",
    "        # which contains random values between 1 - perturbation and 1 + perturbation\n",
    "        # multiplies the input with that matrix to perturb exactly that column of the input uniformly\n",
    "        for key in features.keys():\n",
    "            rand_array = np.random.uniform(1 - perturbation, 1 + perturbation,(BATCH_SIZE, 1))\n",
    "            mult_array = np.ones((BATCH_SIZE, dimensions))\n",
    "            mult_array[:,mod_along] = mult_array[:,mod_along]*rand_array[:,0]\n",
    "            features[key] = features[key] * mult_array\n",
    "        return features, labels"
   ]
  },
  {
   "cell_type": "code",
   "execution_count": 33,
   "metadata": {},
   "outputs": [],
   "source": [
    "def get_column_mean_of_batched_ds(dataset, key):\n",
    "    # takes all batches and concatenates them back together to get a big list of snapshots\n",
    "    # np.mean is then used to calculate the mean of each column\n",
    "    return np.mean(np.concatenate(np.array([batch[key].numpy() for batch, label in dataset])),axis = 0)\n",
    "\n",
    "class SetMeanColumn(object):\n",
    "    def __init__(self, mod_along, column_mean, dimensions):\n",
    "        self.mod_along = mod_along\n",
    "        self.column_mean = column_mean\n",
    "        self.dimensions = dimensions\n",
    "        \n",
    "    def __call__(self, features, labels):\n",
    "        mod_along = self.mod_along\n",
    "        column_mean = self.column_mean\n",
    "        dimensions = self.dimensions\n",
    "        # iterates over all keys of the features (here only 1)\n",
    "        # generates an mult_array with only value \"1\" in all columns except for the modified column\n",
    "        # which contains only zeros\n",
    "        # generates an add_array with only value \"0\" in all columns except for the modified column\n",
    "        # which contains the mean value of the column\n",
    "        # multiplies the input with the mult_array to set the values of the modified column to zero\n",
    "        # adds to the input the add_array to set the values of the modified column to the mean \n",
    "        for key in features.keys():\n",
    "            mult_array = np.ones((BATCH_SIZE, dimensions))\n",
    "            add_array = np.zeros((BATCH_SIZE, dimensions))\n",
    "            mult_array[:,mod_along] = 0.0\n",
    "            add_array[:,mod_along] = column_mean\n",
    "            features[key] = features[key] * mult_array\n",
    "            features[key] = features[key] + add_array\n",
    "        return features, labels"
   ]
  },
  {
   "cell_type": "code",
   "execution_count": 34,
   "metadata": {},
   "outputs": [],
   "source": [
    "class HIPRColumn(object):\n",
    "    def __init__(self, mod_along, min_value, max_value, dimensions):\n",
    "        self.mod_along = mod_along\n",
    "        self.min_value = min_value\n",
    "        self.max_value = max_value\n",
    "        self.dimensions = dimensions\n",
    "    \n",
    "    def __call__(self, features, labels):\n",
    "        mod_along = self.mod_along\n",
    "        min_value = self.min_value\n",
    "        max_value = self.max_value\n",
    "        dimensions = self.dimensions\n",
    "        # iterates over all keys of the features (here only 1)\n",
    "        # generates an mult_array with only value \"1\" in all columns except for the modified column\n",
    "        # which contains only zeros\n",
    "        # generates an add_array with only value \"0\" in all columns except for the modified column\n",
    "        # which contains random values between min_value and max_value\n",
    "        # multiplies the input with the mult_array to set the values of the modified column to zero\n",
    "        # adds to the input the add_array to set the values of the modified column to random values \n",
    "        for key in features.keys():\n",
    "            mult_array = np.ones((BATCH_SIZE, dimensions))\n",
    "            add_array = np.zeros((BATCH_SIZE, dimensions))\n",
    "            rand_array = np.random.uniform(min_value, max_value,(BATCH_SIZE, 1))\n",
    "            mult_array[:,mod_along] = 0.0\n",
    "            add_array[:,mod_along] = rand_array[:,0]            \n",
    "            features[key] = features[key] * mult_array\n",
    "            features[key] = features[key] + add_array\n",
    "        return features, labels"
   ]
  },
  {
   "cell_type": "code",
   "execution_count": 35,
   "metadata": {},
   "outputs": [],
   "source": [
    "from copy import deepcopy \n",
    "def get_columns_from_batched_ds(dataset, key):\n",
    "    # reconstructs the snapshot list based on the batched dataset that is given\n",
    "    # transposes the dataset to have easy access to the columns\n",
    "    # shuffles each column separately\n",
    "    # returns the array back to its orriginal shape with all columns appearing in new permutations\n",
    "    reconstructed_list = np.concatenate(np.array([batch[key].numpy() for batch, label in dataset]))\n",
    "    reconstructed_list = np.transpose(reconstructed_list)\n",
    "    return reconstructed_list\n",
    "\n",
    "class ShuffleColumn(object):\n",
    "    def __init__(self, mod_along, shuffled_column, dimensions):\n",
    "        self.mod_along = mod_along\n",
    "        self.shuffled_column = shuffled_column\n",
    "        self.dimensions = dimensions\n",
    "    \n",
    "    def __call__(self, features, labels):\n",
    "        mod_along = self.mod_along\n",
    "        shuffled_column = shuffle(self.shuffled_column)\n",
    "        dimensions = self.dimensions\n",
    "        # iterates over all keys of the features (here only 1)\n",
    "        # generates an mult_array with only value \"1\" in all columns except for the modified column\n",
    "        # which contains only zeros\n",
    "        # generates an add_array with only value \"0\" in all columns except for the modified column\n",
    "        # which contains shuffled values from the column\n",
    "        # multiplies the input with the mult_array to set the values of the modified column to zero\n",
    "        # adds to the input the add_array to set the values of the modified column to other values from the column \n",
    "        for key in features.keys():\n",
    "            mult_array = np.ones((BATCH_SIZE, dimensions))\n",
    "            add_array = np.zeros((BATCH_SIZE, dimensions))\n",
    "# the generation of the shuffle array seems quite inefficient so far\n",
    "# maybe pick random slices from the column or find way to pop miltiple items at once\n",
    "            shuffle_array = np.transpose([shuffle(shuffled_column)[:BATCH_SIZE]])\n",
    "# unsure whether this actually works\n",
    "#            shuffle_array = np.transpose([shuffled_column[:BATCH_SIZE]])\n",
    "#            shuffled_column = shuffled_column[BATCH_SIZE:]\n",
    "#            shuffled_column = deepcopy(shuffled_column[BATCH_SIZE:])\n",
    "            print(shuffled_column[0])\n",
    "            mult_array[:,mod_along] = 0.0\n",
    "            add_array[:,mod_along] = shuffle_array[:,0]            \n",
    "            features[key] = features[key] * mult_array\n",
    "            features[key] = features[key] + add_array\n",
    "        return features, labels\n",
    "            \n",
    "\n",
    "#print(test_snapshot_list.shape)          \n",
    "#get_shuffled_snapshot_list_from_batched_ds(test_ds, \"input_snapshots\")"
   ]
  },
  {
   "cell_type": "code",
   "execution_count": 36,
   "metadata": {},
   "outputs": [
    {
     "name": "stdout",
     "output_type": "stream",
     "text": [
      "Mode: perturb\n",
      "Repetition 1.\n",
      "\tPerturbing variable 0.\n"
     ]
    },
    {
     "ename": "ValueError",
     "evalue": "in converted code:\n\n    /home/martin/anaconda3/lib/python3.7/site-packages/tensorflow_core/python/keras/engine/training_v2.py:677 map_fn\n        batch_size=None)\n    /home/martin/anaconda3/lib/python3.7/site-packages/tensorflow_core/python/keras/engine/training.py:2410 _standardize_tensors\n        exception_prefix='input')\n    /home/martin/anaconda3/lib/python3.7/site-packages/tensorflow_core/python/keras/engine/training_utils.py:573 standardize_input_data\n        'with shape ' + str(data_shape))\n\n    ValueError: Error when checking input: expected input_snapshots to have 2 dimensions, but got array with shape (64, 64, 10)\n",
     "output_type": "error",
     "traceback": [
      "\u001b[0;31m---------------------------------------------------------------------------\u001b[0m",
      "\u001b[0;31mValueError\u001b[0m                                Traceback (most recent call last)",
      "\u001b[0;32m<ipython-input-36-742d948cc683>\u001b[0m in \u001b[0;36m<module>\u001b[0;34m\u001b[0m\n\u001b[1;32m     65\u001b[0m     \u001b[0mplt\u001b[0m\u001b[0;34m.\u001b[0m\u001b[0mclose\u001b[0m\u001b[0;34m(\u001b[0m\u001b[0;34m)\u001b[0m\u001b[0;34m\u001b[0m\u001b[0;34m\u001b[0m\u001b[0m\n\u001b[1;32m     66\u001b[0m \u001b[0;34m\u001b[0m\u001b[0m\n\u001b[0;32m---> 67\u001b[0;31m \u001b[0mperturbed_loss_list\u001b[0m \u001b[0;34m=\u001b[0m \u001b[0minput_importance\u001b[0m\u001b[0;34m(\u001b[0m\u001b[0;34m\"perturb\"\u001b[0m\u001b[0;34m,\u001b[0m \u001b[0;36m0.5\u001b[0m\u001b[0;34m,\u001b[0m \u001b[0mautoencoder\u001b[0m\u001b[0;34m,\u001b[0m \u001b[0mtest_ds\u001b[0m\u001b[0;34m,\u001b[0m \u001b[0mDIMENSIONS\u001b[0m\u001b[0;34m,\u001b[0m \u001b[0mrange\u001b[0m\u001b[0;34m(\u001b[0m\u001b[0;36m3\u001b[0m\u001b[0;34m)\u001b[0m\u001b[0;34m,\u001b[0m \u001b[0;36m1\u001b[0m\u001b[0;34m)\u001b[0m\u001b[0;34m\u001b[0m\u001b[0;34m\u001b[0m\u001b[0m\n\u001b[0m\u001b[1;32m     68\u001b[0m \u001b[0;31m#plot_input_importance(perturbed_loss_list,1,\"Input_perturbation\",\"0.5\")\u001b[0m\u001b[0;34m\u001b[0m\u001b[0;34m\u001b[0m\u001b[0;34m\u001b[0m\u001b[0m\n\u001b[1;32m     69\u001b[0m \u001b[0mmean_loss_list\u001b[0m \u001b[0;34m=\u001b[0m \u001b[0minput_importance\u001b[0m\u001b[0;34m(\u001b[0m\u001b[0;34m\"mean\"\u001b[0m\u001b[0;34m,\u001b[0m \u001b[0mget_column_mean_of_batched_ds\u001b[0m\u001b[0;34m(\u001b[0m\u001b[0mtest_ds\u001b[0m\u001b[0;34m,\u001b[0m \u001b[0;34m\"input_snapshots\"\u001b[0m\u001b[0;34m)\u001b[0m\u001b[0;34m,\u001b[0m \u001b[0mautoencoder\u001b[0m\u001b[0;34m,\u001b[0m \u001b[0mtest_ds\u001b[0m\u001b[0;34m,\u001b[0m \u001b[0mDIMENSIONS\u001b[0m\u001b[0;34m,\u001b[0m \u001b[0mrange\u001b[0m\u001b[0;34m(\u001b[0m\u001b[0;36m3\u001b[0m\u001b[0;34m)\u001b[0m\u001b[0;34m,\u001b[0m \u001b[0;36m1\u001b[0m\u001b[0;34m)\u001b[0m\u001b[0;34m\u001b[0m\u001b[0;34m\u001b[0m\u001b[0m\n",
      "\u001b[0;32m<ipython-input-36-742d948cc683>\u001b[0m in \u001b[0;36minput_importance\u001b[0;34m(mode, mode_var, model, test_ds, dimensions, check_vars, repetitions)\u001b[0m\n\u001b[1;32m     39\u001b[0m                 \u001b[0mprint\u001b[0m\u001b[0;34m(\u001b[0m\u001b[0mnew_columns\u001b[0m\u001b[0;34m[\u001b[0m\u001b[0mvariable_nr\u001b[0m\u001b[0;34m]\u001b[0m\u001b[0;34m[\u001b[0m\u001b[0;36m64\u001b[0m\u001b[0;34m:\u001b[0m\u001b[0;36m69\u001b[0m\u001b[0;34m]\u001b[0m\u001b[0;34m)\u001b[0m \u001b[0;31m#testing\u001b[0m\u001b[0;34m\u001b[0m\u001b[0;34m\u001b[0m\u001b[0m\n\u001b[1;32m     40\u001b[0m             \u001b[0;31m# calculate the different losses with the new dataset\u001b[0m\u001b[0;34m\u001b[0m\u001b[0;34m\u001b[0m\u001b[0;34m\u001b[0m\u001b[0m\n\u001b[0;32m---> 41\u001b[0;31m             \u001b[0mt_loss\u001b[0m\u001b[0;34m,\u001b[0m \u001b[0ml_loss\u001b[0m\u001b[0;34m,\u001b[0m \u001b[0mr_loss\u001b[0m \u001b[0;34m=\u001b[0m \u001b[0mmodel\u001b[0m\u001b[0;34m.\u001b[0m\u001b[0mevaluate\u001b[0m\u001b[0;34m(\u001b[0m\u001b[0mmod_test_ds\u001b[0m\u001b[0;34m,\u001b[0m \u001b[0mverbose\u001b[0m\u001b[0;34m=\u001b[0m\u001b[0;36m0\u001b[0m\u001b[0;34m,\u001b[0m \u001b[0msteps\u001b[0m \u001b[0;34m=\u001b[0m \u001b[0mSTEP_NUMBER\u001b[0m\u001b[0;34m)\u001b[0m\u001b[0;34m\u001b[0m\u001b[0;34m\u001b[0m\u001b[0m\n\u001b[0m\u001b[1;32m     42\u001b[0m             \u001b[0;31m# append the losses to a collective list for later comparison\u001b[0m\u001b[0;34m\u001b[0m\u001b[0;34m\u001b[0m\u001b[0;34m\u001b[0m\u001b[0m\n\u001b[1;32m     43\u001b[0m             \u001b[0mloss_list\u001b[0m\u001b[0;34m[\u001b[0m\u001b[0;36m0\u001b[0m\u001b[0;34m]\u001b[0m\u001b[0;34m.\u001b[0m\u001b[0mappend\u001b[0m\u001b[0;34m(\u001b[0m\u001b[0mmax\u001b[0m\u001b[0;34m(\u001b[0m\u001b[0;36m0\u001b[0m\u001b[0;34m,\u001b[0m\u001b[0mt_loss\u001b[0m\u001b[0;34m-\u001b[0m\u001b[0morig_t_loss\u001b[0m\u001b[0;34m)\u001b[0m\u001b[0;34m)\u001b[0m\u001b[0;34m\u001b[0m\u001b[0;34m\u001b[0m\u001b[0m\n",
      "\u001b[0;32m~/anaconda3/lib/python3.7/site-packages/tensorflow_core/python/keras/engine/training.py\u001b[0m in \u001b[0;36mevaluate\u001b[0;34m(self, x, y, batch_size, verbose, sample_weight, steps, callbacks, max_queue_size, workers, use_multiprocessing)\u001b[0m\n\u001b[1;32m    928\u001b[0m         \u001b[0mmax_queue_size\u001b[0m\u001b[0;34m=\u001b[0m\u001b[0mmax_queue_size\u001b[0m\u001b[0;34m,\u001b[0m\u001b[0;34m\u001b[0m\u001b[0;34m\u001b[0m\u001b[0m\n\u001b[1;32m    929\u001b[0m         \u001b[0mworkers\u001b[0m\u001b[0;34m=\u001b[0m\u001b[0mworkers\u001b[0m\u001b[0;34m,\u001b[0m\u001b[0;34m\u001b[0m\u001b[0;34m\u001b[0m\u001b[0m\n\u001b[0;32m--> 930\u001b[0;31m         use_multiprocessing=use_multiprocessing)\n\u001b[0m\u001b[1;32m    931\u001b[0m \u001b[0;34m\u001b[0m\u001b[0m\n\u001b[1;32m    932\u001b[0m   def predict(self,\n",
      "\u001b[0;32m~/anaconda3/lib/python3.7/site-packages/tensorflow_core/python/keras/engine/training_v2.py\u001b[0m in \u001b[0;36mevaluate\u001b[0;34m(self, model, x, y, batch_size, verbose, sample_weight, steps, callbacks, max_queue_size, workers, use_multiprocessing, **kwargs)\u001b[0m\n\u001b[1;32m    488\u001b[0m         \u001b[0msample_weight\u001b[0m\u001b[0;34m=\u001b[0m\u001b[0msample_weight\u001b[0m\u001b[0;34m,\u001b[0m \u001b[0msteps\u001b[0m\u001b[0;34m=\u001b[0m\u001b[0msteps\u001b[0m\u001b[0;34m,\u001b[0m \u001b[0mcallbacks\u001b[0m\u001b[0;34m=\u001b[0m\u001b[0mcallbacks\u001b[0m\u001b[0;34m,\u001b[0m\u001b[0;34m\u001b[0m\u001b[0;34m\u001b[0m\u001b[0m\n\u001b[1;32m    489\u001b[0m         \u001b[0mmax_queue_size\u001b[0m\u001b[0;34m=\u001b[0m\u001b[0mmax_queue_size\u001b[0m\u001b[0;34m,\u001b[0m \u001b[0mworkers\u001b[0m\u001b[0;34m=\u001b[0m\u001b[0mworkers\u001b[0m\u001b[0;34m,\u001b[0m\u001b[0;34m\u001b[0m\u001b[0;34m\u001b[0m\u001b[0m\n\u001b[0;32m--> 490\u001b[0;31m         use_multiprocessing=use_multiprocessing, **kwargs)\n\u001b[0m\u001b[1;32m    491\u001b[0m \u001b[0;34m\u001b[0m\u001b[0m\n\u001b[1;32m    492\u001b[0m   def predict(self, model, x, batch_size=None, verbose=0, steps=None,\n",
      "\u001b[0;32m~/anaconda3/lib/python3.7/site-packages/tensorflow_core/python/keras/engine/training_v2.py\u001b[0m in \u001b[0;36m_model_iteration\u001b[0;34m(self, model, mode, x, y, batch_size, verbose, sample_weight, steps, callbacks, max_queue_size, workers, use_multiprocessing, **kwargs)\u001b[0m\n\u001b[1;32m    424\u001b[0m           \u001b[0mmax_queue_size\u001b[0m\u001b[0;34m=\u001b[0m\u001b[0mmax_queue_size\u001b[0m\u001b[0;34m,\u001b[0m\u001b[0;34m\u001b[0m\u001b[0;34m\u001b[0m\u001b[0m\n\u001b[1;32m    425\u001b[0m           \u001b[0mworkers\u001b[0m\u001b[0;34m=\u001b[0m\u001b[0mworkers\u001b[0m\u001b[0;34m,\u001b[0m\u001b[0;34m\u001b[0m\u001b[0;34m\u001b[0m\u001b[0m\n\u001b[0;32m--> 426\u001b[0;31m           use_multiprocessing=use_multiprocessing)\n\u001b[0m\u001b[1;32m    427\u001b[0m       \u001b[0mtotal_samples\u001b[0m \u001b[0;34m=\u001b[0m \u001b[0m_get_total_number_of_samples\u001b[0m\u001b[0;34m(\u001b[0m\u001b[0madapter\u001b[0m\u001b[0;34m)\u001b[0m\u001b[0;34m\u001b[0m\u001b[0;34m\u001b[0m\u001b[0m\n\u001b[1;32m    428\u001b[0m       \u001b[0muse_sample\u001b[0m \u001b[0;34m=\u001b[0m \u001b[0mtotal_samples\u001b[0m \u001b[0;32mis\u001b[0m \u001b[0;32mnot\u001b[0m \u001b[0;32mNone\u001b[0m\u001b[0;34m\u001b[0m\u001b[0;34m\u001b[0m\u001b[0m\n",
      "\u001b[0;32m~/anaconda3/lib/python3.7/site-packages/tensorflow_core/python/keras/engine/training_v2.py\u001b[0m in \u001b[0;36m_process_inputs\u001b[0;34m(model, mode, x, y, batch_size, epochs, sample_weights, class_weights, shuffle, steps, distribution_strategy, max_queue_size, workers, use_multiprocessing)\u001b[0m\n\u001b[1;32m    704\u001b[0m       \u001b[0mmax_queue_size\u001b[0m\u001b[0;34m=\u001b[0m\u001b[0mmax_queue_size\u001b[0m\u001b[0;34m,\u001b[0m\u001b[0;34m\u001b[0m\u001b[0;34m\u001b[0m\u001b[0m\n\u001b[1;32m    705\u001b[0m       \u001b[0mworkers\u001b[0m\u001b[0;34m=\u001b[0m\u001b[0mworkers\u001b[0m\u001b[0;34m,\u001b[0m\u001b[0;34m\u001b[0m\u001b[0;34m\u001b[0m\u001b[0m\n\u001b[0;32m--> 706\u001b[0;31m       use_multiprocessing=use_multiprocessing)\n\u001b[0m\u001b[1;32m    707\u001b[0m \u001b[0;34m\u001b[0m\u001b[0m\n\u001b[1;32m    708\u001b[0m   \u001b[0;32mreturn\u001b[0m \u001b[0madapter\u001b[0m\u001b[0;34m\u001b[0m\u001b[0;34m\u001b[0m\u001b[0m\n",
      "\u001b[0;32m~/anaconda3/lib/python3.7/site-packages/tensorflow_core/python/keras/engine/data_adapter.py\u001b[0m in \u001b[0;36m__init__\u001b[0;34m(self, x, y, sample_weights, standardize_function, **kwargs)\u001b[0m\n\u001b[1;32m    700\u001b[0m \u001b[0;34m\u001b[0m\u001b[0m\n\u001b[1;32m    701\u001b[0m     \u001b[0;32mif\u001b[0m \u001b[0mstandardize_function\u001b[0m \u001b[0;32mis\u001b[0m \u001b[0;32mnot\u001b[0m \u001b[0;32mNone\u001b[0m\u001b[0;34m:\u001b[0m\u001b[0;34m\u001b[0m\u001b[0;34m\u001b[0m\u001b[0m\n\u001b[0;32m--> 702\u001b[0;31m       \u001b[0mx\u001b[0m \u001b[0;34m=\u001b[0m \u001b[0mstandardize_function\u001b[0m\u001b[0;34m(\u001b[0m\u001b[0mx\u001b[0m\u001b[0;34m)\u001b[0m\u001b[0;34m\u001b[0m\u001b[0;34m\u001b[0m\u001b[0m\n\u001b[0m\u001b[1;32m    703\u001b[0m \u001b[0;34m\u001b[0m\u001b[0m\n\u001b[1;32m    704\u001b[0m     \u001b[0;31m# Note that the dataset instance is immutable, its fine to reusing the user\u001b[0m\u001b[0;34m\u001b[0m\u001b[0;34m\u001b[0m\u001b[0;34m\u001b[0m\u001b[0m\n",
      "\u001b[0;32m~/anaconda3/lib/python3.7/site-packages/tensorflow_core/python/keras/engine/training_v2.py\u001b[0m in \u001b[0;36mstandardize_function\u001b[0;34m(dataset)\u001b[0m\n\u001b[1;32m    682\u001b[0m           \u001b[0;32mreturn\u001b[0m \u001b[0mx\u001b[0m\u001b[0;34m,\u001b[0m \u001b[0my\u001b[0m\u001b[0;34m\u001b[0m\u001b[0;34m\u001b[0m\u001b[0m\n\u001b[1;32m    683\u001b[0m         \u001b[0;32mreturn\u001b[0m \u001b[0mx\u001b[0m\u001b[0;34m,\u001b[0m \u001b[0my\u001b[0m\u001b[0;34m,\u001b[0m \u001b[0msample_weights\u001b[0m\u001b[0;34m\u001b[0m\u001b[0;34m\u001b[0m\u001b[0m\n\u001b[0;32m--> 684\u001b[0;31m       \u001b[0;32mreturn\u001b[0m \u001b[0mdataset\u001b[0m\u001b[0;34m.\u001b[0m\u001b[0mmap\u001b[0m\u001b[0;34m(\u001b[0m\u001b[0mmap_fn\u001b[0m\u001b[0;34m,\u001b[0m \u001b[0mnum_parallel_calls\u001b[0m\u001b[0;34m=\u001b[0m\u001b[0mdataset_ops\u001b[0m\u001b[0;34m.\u001b[0m\u001b[0mAUTOTUNE\u001b[0m\u001b[0;34m)\u001b[0m\u001b[0;34m\u001b[0m\u001b[0;34m\u001b[0m\u001b[0m\n\u001b[0m\u001b[1;32m    685\u001b[0m \u001b[0;34m\u001b[0m\u001b[0m\n\u001b[1;32m    686\u001b[0m   \u001b[0;32mif\u001b[0m \u001b[0mmode\u001b[0m \u001b[0;34m==\u001b[0m \u001b[0mModeKeys\u001b[0m\u001b[0;34m.\u001b[0m\u001b[0mPREDICT\u001b[0m\u001b[0;34m:\u001b[0m\u001b[0;34m\u001b[0m\u001b[0;34m\u001b[0m\u001b[0m\n",
      "\u001b[0;32m~/anaconda3/lib/python3.7/site-packages/tensorflow_core/python/data/ops/dataset_ops.py\u001b[0m in \u001b[0;36mmap\u001b[0;34m(self, map_func, num_parallel_calls)\u001b[0m\n\u001b[1;32m   1589\u001b[0m     \u001b[0;32melse\u001b[0m\u001b[0;34m:\u001b[0m\u001b[0;34m\u001b[0m\u001b[0;34m\u001b[0m\u001b[0m\n\u001b[1;32m   1590\u001b[0m       return ParallelMapDataset(\n\u001b[0;32m-> 1591\u001b[0;31m           self, map_func, num_parallel_calls, preserve_cardinality=True)\n\u001b[0m\u001b[1;32m   1592\u001b[0m \u001b[0;34m\u001b[0m\u001b[0m\n\u001b[1;32m   1593\u001b[0m   \u001b[0;32mdef\u001b[0m \u001b[0mflat_map\u001b[0m\u001b[0;34m(\u001b[0m\u001b[0mself\u001b[0m\u001b[0;34m,\u001b[0m \u001b[0mmap_func\u001b[0m\u001b[0;34m)\u001b[0m\u001b[0;34m:\u001b[0m\u001b[0;34m\u001b[0m\u001b[0;34m\u001b[0m\u001b[0m\n",
      "\u001b[0;32m~/anaconda3/lib/python3.7/site-packages/tensorflow_core/python/data/ops/dataset_ops.py\u001b[0m in \u001b[0;36m__init__\u001b[0;34m(self, input_dataset, map_func, num_parallel_calls, use_inter_op_parallelism, preserve_cardinality, use_legacy_function)\u001b[0m\n\u001b[1;32m   3924\u001b[0m         \u001b[0mself\u001b[0m\u001b[0;34m.\u001b[0m\u001b[0m_transformation_name\u001b[0m\u001b[0;34m(\u001b[0m\u001b[0;34m)\u001b[0m\u001b[0;34m,\u001b[0m\u001b[0;34m\u001b[0m\u001b[0;34m\u001b[0m\u001b[0m\n\u001b[1;32m   3925\u001b[0m         \u001b[0mdataset\u001b[0m\u001b[0;34m=\u001b[0m\u001b[0minput_dataset\u001b[0m\u001b[0;34m,\u001b[0m\u001b[0;34m\u001b[0m\u001b[0;34m\u001b[0m\u001b[0m\n\u001b[0;32m-> 3926\u001b[0;31m         use_legacy_function=use_legacy_function)\n\u001b[0m\u001b[1;32m   3927\u001b[0m     self._num_parallel_calls = ops.convert_to_tensor(\n\u001b[1;32m   3928\u001b[0m         num_parallel_calls, dtype=dtypes.int32, name=\"num_parallel_calls\")\n",
      "\u001b[0;32m~/anaconda3/lib/python3.7/site-packages/tensorflow_core/python/data/ops/dataset_ops.py\u001b[0m in \u001b[0;36m__init__\u001b[0;34m(self, func, transformation_name, dataset, input_classes, input_shapes, input_types, input_structure, add_to_graph, use_legacy_function, defun_kwargs)\u001b[0m\n\u001b[1;32m   3145\u001b[0m       \u001b[0;32mwith\u001b[0m \u001b[0mtracking\u001b[0m\u001b[0;34m.\u001b[0m\u001b[0mresource_tracker_scope\u001b[0m\u001b[0;34m(\u001b[0m\u001b[0mresource_tracker\u001b[0m\u001b[0;34m)\u001b[0m\u001b[0;34m:\u001b[0m\u001b[0;34m\u001b[0m\u001b[0;34m\u001b[0m\u001b[0m\n\u001b[1;32m   3146\u001b[0m         \u001b[0;31m# TODO(b/141462134): Switch to using garbage collection.\u001b[0m\u001b[0;34m\u001b[0m\u001b[0;34m\u001b[0m\u001b[0;34m\u001b[0m\u001b[0m\n\u001b[0;32m-> 3147\u001b[0;31m         \u001b[0mself\u001b[0m\u001b[0;34m.\u001b[0m\u001b[0m_function\u001b[0m \u001b[0;34m=\u001b[0m \u001b[0mwrapper_fn\u001b[0m\u001b[0;34m.\u001b[0m\u001b[0m_get_concrete_function_internal\u001b[0m\u001b[0;34m(\u001b[0m\u001b[0;34m)\u001b[0m\u001b[0;34m\u001b[0m\u001b[0;34m\u001b[0m\u001b[0m\n\u001b[0m\u001b[1;32m   3148\u001b[0m \u001b[0;34m\u001b[0m\u001b[0m\n\u001b[1;32m   3149\u001b[0m         \u001b[0;32mif\u001b[0m \u001b[0madd_to_graph\u001b[0m\u001b[0;34m:\u001b[0m\u001b[0;34m\u001b[0m\u001b[0;34m\u001b[0m\u001b[0m\n",
      "\u001b[0;32m~/anaconda3/lib/python3.7/site-packages/tensorflow_core/python/eager/function.py\u001b[0m in \u001b[0;36m_get_concrete_function_internal\u001b[0;34m(self, *args, **kwargs)\u001b[0m\n\u001b[1;32m   2393\u001b[0m     \u001b[0;34m\"\"\"Bypasses error checking when getting a graph function.\"\"\"\u001b[0m\u001b[0;34m\u001b[0m\u001b[0;34m\u001b[0m\u001b[0m\n\u001b[1;32m   2394\u001b[0m     graph_function = self._get_concrete_function_internal_garbage_collected(\n\u001b[0;32m-> 2395\u001b[0;31m         *args, **kwargs)\n\u001b[0m\u001b[1;32m   2396\u001b[0m     \u001b[0;31m# We're returning this concrete function to someone, and they may keep a\u001b[0m\u001b[0;34m\u001b[0m\u001b[0;34m\u001b[0m\u001b[0;34m\u001b[0m\u001b[0m\n\u001b[1;32m   2397\u001b[0m     \u001b[0;31m# reference to the FuncGraph without keeping a reference to the\u001b[0m\u001b[0;34m\u001b[0m\u001b[0;34m\u001b[0m\u001b[0;34m\u001b[0m\u001b[0m\n",
      "\u001b[0;32m~/anaconda3/lib/python3.7/site-packages/tensorflow_core/python/eager/function.py\u001b[0m in \u001b[0;36m_get_concrete_function_internal_garbage_collected\u001b[0;34m(self, *args, **kwargs)\u001b[0m\n\u001b[1;32m   2387\u001b[0m       \u001b[0margs\u001b[0m\u001b[0;34m,\u001b[0m \u001b[0mkwargs\u001b[0m \u001b[0;34m=\u001b[0m \u001b[0;32mNone\u001b[0m\u001b[0;34m,\u001b[0m \u001b[0;32mNone\u001b[0m\u001b[0;34m\u001b[0m\u001b[0;34m\u001b[0m\u001b[0m\n\u001b[1;32m   2388\u001b[0m     \u001b[0;32mwith\u001b[0m \u001b[0mself\u001b[0m\u001b[0;34m.\u001b[0m\u001b[0m_lock\u001b[0m\u001b[0;34m:\u001b[0m\u001b[0;34m\u001b[0m\u001b[0;34m\u001b[0m\u001b[0m\n\u001b[0;32m-> 2389\u001b[0;31m       \u001b[0mgraph_function\u001b[0m\u001b[0;34m,\u001b[0m \u001b[0m_\u001b[0m\u001b[0;34m,\u001b[0m \u001b[0m_\u001b[0m \u001b[0;34m=\u001b[0m \u001b[0mself\u001b[0m\u001b[0;34m.\u001b[0m\u001b[0m_maybe_define_function\u001b[0m\u001b[0;34m(\u001b[0m\u001b[0margs\u001b[0m\u001b[0;34m,\u001b[0m \u001b[0mkwargs\u001b[0m\u001b[0;34m)\u001b[0m\u001b[0;34m\u001b[0m\u001b[0;34m\u001b[0m\u001b[0m\n\u001b[0m\u001b[1;32m   2390\u001b[0m     \u001b[0;32mreturn\u001b[0m \u001b[0mgraph_function\u001b[0m\u001b[0;34m\u001b[0m\u001b[0;34m\u001b[0m\u001b[0m\n\u001b[1;32m   2391\u001b[0m \u001b[0;34m\u001b[0m\u001b[0m\n",
      "\u001b[0;32m~/anaconda3/lib/python3.7/site-packages/tensorflow_core/python/eager/function.py\u001b[0m in \u001b[0;36m_maybe_define_function\u001b[0;34m(self, args, kwargs)\u001b[0m\n\u001b[1;32m   2701\u001b[0m \u001b[0;34m\u001b[0m\u001b[0m\n\u001b[1;32m   2702\u001b[0m       \u001b[0mself\u001b[0m\u001b[0;34m.\u001b[0m\u001b[0m_function_cache\u001b[0m\u001b[0;34m.\u001b[0m\u001b[0mmissed\u001b[0m\u001b[0;34m.\u001b[0m\u001b[0madd\u001b[0m\u001b[0;34m(\u001b[0m\u001b[0mcall_context_key\u001b[0m\u001b[0;34m)\u001b[0m\u001b[0;34m\u001b[0m\u001b[0;34m\u001b[0m\u001b[0m\n\u001b[0;32m-> 2703\u001b[0;31m       \u001b[0mgraph_function\u001b[0m \u001b[0;34m=\u001b[0m \u001b[0mself\u001b[0m\u001b[0;34m.\u001b[0m\u001b[0m_create_graph_function\u001b[0m\u001b[0;34m(\u001b[0m\u001b[0margs\u001b[0m\u001b[0;34m,\u001b[0m \u001b[0mkwargs\u001b[0m\u001b[0;34m)\u001b[0m\u001b[0;34m\u001b[0m\u001b[0;34m\u001b[0m\u001b[0m\n\u001b[0m\u001b[1;32m   2704\u001b[0m       \u001b[0mself\u001b[0m\u001b[0;34m.\u001b[0m\u001b[0m_function_cache\u001b[0m\u001b[0;34m.\u001b[0m\u001b[0mprimary\u001b[0m\u001b[0;34m[\u001b[0m\u001b[0mcache_key\u001b[0m\u001b[0;34m]\u001b[0m \u001b[0;34m=\u001b[0m \u001b[0mgraph_function\u001b[0m\u001b[0;34m\u001b[0m\u001b[0;34m\u001b[0m\u001b[0m\n\u001b[1;32m   2705\u001b[0m       \u001b[0;32mreturn\u001b[0m \u001b[0mgraph_function\u001b[0m\u001b[0;34m,\u001b[0m \u001b[0margs\u001b[0m\u001b[0;34m,\u001b[0m \u001b[0mkwargs\u001b[0m\u001b[0;34m\u001b[0m\u001b[0;34m\u001b[0m\u001b[0m\n",
      "\u001b[0;32m~/anaconda3/lib/python3.7/site-packages/tensorflow_core/python/eager/function.py\u001b[0m in \u001b[0;36m_create_graph_function\u001b[0;34m(self, args, kwargs, override_flat_arg_shapes)\u001b[0m\n\u001b[1;32m   2591\u001b[0m             \u001b[0marg_names\u001b[0m\u001b[0;34m=\u001b[0m\u001b[0marg_names\u001b[0m\u001b[0;34m,\u001b[0m\u001b[0;34m\u001b[0m\u001b[0;34m\u001b[0m\u001b[0m\n\u001b[1;32m   2592\u001b[0m             \u001b[0moverride_flat_arg_shapes\u001b[0m\u001b[0;34m=\u001b[0m\u001b[0moverride_flat_arg_shapes\u001b[0m\u001b[0;34m,\u001b[0m\u001b[0;34m\u001b[0m\u001b[0;34m\u001b[0m\u001b[0m\n\u001b[0;32m-> 2593\u001b[0;31m             capture_by_value=self._capture_by_value),\n\u001b[0m\u001b[1;32m   2594\u001b[0m         \u001b[0mself\u001b[0m\u001b[0;34m.\u001b[0m\u001b[0m_function_attributes\u001b[0m\u001b[0;34m,\u001b[0m\u001b[0;34m\u001b[0m\u001b[0;34m\u001b[0m\u001b[0m\n\u001b[1;32m   2595\u001b[0m         \u001b[0;31m# Tell the ConcreteFunction to clean up its graph once it goes out of\u001b[0m\u001b[0;34m\u001b[0m\u001b[0;34m\u001b[0m\u001b[0;34m\u001b[0m\u001b[0m\n",
      "\u001b[0;32m~/anaconda3/lib/python3.7/site-packages/tensorflow_core/python/framework/func_graph.py\u001b[0m in \u001b[0;36mfunc_graph_from_py_func\u001b[0;34m(name, python_func, args, kwargs, signature, func_graph, autograph, autograph_options, add_control_dependencies, arg_names, op_return_value, collections, capture_by_value, override_flat_arg_shapes)\u001b[0m\n\u001b[1;32m    976\u001b[0m                                           converted_func)\n\u001b[1;32m    977\u001b[0m \u001b[0;34m\u001b[0m\u001b[0m\n\u001b[0;32m--> 978\u001b[0;31m       \u001b[0mfunc_outputs\u001b[0m \u001b[0;34m=\u001b[0m \u001b[0mpython_func\u001b[0m\u001b[0;34m(\u001b[0m\u001b[0;34m*\u001b[0m\u001b[0mfunc_args\u001b[0m\u001b[0;34m,\u001b[0m \u001b[0;34m**\u001b[0m\u001b[0mfunc_kwargs\u001b[0m\u001b[0;34m)\u001b[0m\u001b[0;34m\u001b[0m\u001b[0;34m\u001b[0m\u001b[0m\n\u001b[0m\u001b[1;32m    979\u001b[0m \u001b[0;34m\u001b[0m\u001b[0m\n\u001b[1;32m    980\u001b[0m       \u001b[0;31m# invariant: `func_outputs` contains only Tensors, CompositeTensors,\u001b[0m\u001b[0;34m\u001b[0m\u001b[0;34m\u001b[0m\u001b[0;34m\u001b[0m\u001b[0m\n",
      "\u001b[0;32m~/anaconda3/lib/python3.7/site-packages/tensorflow_core/python/data/ops/dataset_ops.py\u001b[0m in \u001b[0;36mwrapper_fn\u001b[0;34m(*args)\u001b[0m\n\u001b[1;32m   3138\u001b[0m           attributes=defun_kwargs)\n\u001b[1;32m   3139\u001b[0m       \u001b[0;32mdef\u001b[0m \u001b[0mwrapper_fn\u001b[0m\u001b[0;34m(\u001b[0m\u001b[0;34m*\u001b[0m\u001b[0margs\u001b[0m\u001b[0;34m)\u001b[0m\u001b[0;34m:\u001b[0m  \u001b[0;31m# pylint: disable=missing-docstring\u001b[0m\u001b[0;34m\u001b[0m\u001b[0;34m\u001b[0m\u001b[0m\n\u001b[0;32m-> 3140\u001b[0;31m         \u001b[0mret\u001b[0m \u001b[0;34m=\u001b[0m \u001b[0m_wrapper_helper\u001b[0m\u001b[0;34m(\u001b[0m\u001b[0;34m*\u001b[0m\u001b[0margs\u001b[0m\u001b[0;34m)\u001b[0m\u001b[0;34m\u001b[0m\u001b[0;34m\u001b[0m\u001b[0m\n\u001b[0m\u001b[1;32m   3141\u001b[0m         \u001b[0mret\u001b[0m \u001b[0;34m=\u001b[0m \u001b[0mstructure\u001b[0m\u001b[0;34m.\u001b[0m\u001b[0mto_tensor_list\u001b[0m\u001b[0;34m(\u001b[0m\u001b[0mself\u001b[0m\u001b[0;34m.\u001b[0m\u001b[0m_output_structure\u001b[0m\u001b[0;34m,\u001b[0m \u001b[0mret\u001b[0m\u001b[0;34m)\u001b[0m\u001b[0;34m\u001b[0m\u001b[0;34m\u001b[0m\u001b[0m\n\u001b[1;32m   3142\u001b[0m         \u001b[0;32mreturn\u001b[0m \u001b[0;34m[\u001b[0m\u001b[0mops\u001b[0m\u001b[0;34m.\u001b[0m\u001b[0mconvert_to_tensor\u001b[0m\u001b[0;34m(\u001b[0m\u001b[0mt\u001b[0m\u001b[0;34m)\u001b[0m \u001b[0;32mfor\u001b[0m \u001b[0mt\u001b[0m \u001b[0;32min\u001b[0m \u001b[0mret\u001b[0m\u001b[0;34m]\u001b[0m\u001b[0;34m\u001b[0m\u001b[0;34m\u001b[0m\u001b[0m\n",
      "\u001b[0;32m~/anaconda3/lib/python3.7/site-packages/tensorflow_core/python/data/ops/dataset_ops.py\u001b[0m in \u001b[0;36m_wrapper_helper\u001b[0;34m(*args)\u001b[0m\n\u001b[1;32m   3080\u001b[0m         \u001b[0mnested_args\u001b[0m \u001b[0;34m=\u001b[0m \u001b[0;34m(\u001b[0m\u001b[0mnested_args\u001b[0m\u001b[0;34m,\u001b[0m\u001b[0;34m)\u001b[0m\u001b[0;34m\u001b[0m\u001b[0;34m\u001b[0m\u001b[0m\n\u001b[1;32m   3081\u001b[0m \u001b[0;34m\u001b[0m\u001b[0m\n\u001b[0;32m-> 3082\u001b[0;31m       \u001b[0mret\u001b[0m \u001b[0;34m=\u001b[0m \u001b[0mautograph\u001b[0m\u001b[0;34m.\u001b[0m\u001b[0mtf_convert\u001b[0m\u001b[0;34m(\u001b[0m\u001b[0mfunc\u001b[0m\u001b[0;34m,\u001b[0m \u001b[0mag_ctx\u001b[0m\u001b[0;34m)\u001b[0m\u001b[0;34m(\u001b[0m\u001b[0;34m*\u001b[0m\u001b[0mnested_args\u001b[0m\u001b[0;34m)\u001b[0m\u001b[0;34m\u001b[0m\u001b[0;34m\u001b[0m\u001b[0m\n\u001b[0m\u001b[1;32m   3083\u001b[0m       \u001b[0;31m# If `func` returns a list of tensors, `nest.flatten()` and\u001b[0m\u001b[0;34m\u001b[0m\u001b[0;34m\u001b[0m\u001b[0;34m\u001b[0m\u001b[0m\n\u001b[1;32m   3084\u001b[0m       \u001b[0;31m# `ops.convert_to_tensor()` would conspire to attempt to stack\u001b[0m\u001b[0;34m\u001b[0m\u001b[0;34m\u001b[0m\u001b[0;34m\u001b[0m\u001b[0m\n",
      "\u001b[0;32m~/anaconda3/lib/python3.7/site-packages/tensorflow_core/python/autograph/impl/api.py\u001b[0m in \u001b[0;36mwrapper\u001b[0;34m(*args, **kwargs)\u001b[0m\n\u001b[1;32m    235\u001b[0m       \u001b[0;32mexcept\u001b[0m \u001b[0mException\u001b[0m \u001b[0;32mas\u001b[0m \u001b[0me\u001b[0m\u001b[0;34m:\u001b[0m  \u001b[0;31m# pylint:disable=broad-except\u001b[0m\u001b[0;34m\u001b[0m\u001b[0;34m\u001b[0m\u001b[0m\n\u001b[1;32m    236\u001b[0m         \u001b[0;32mif\u001b[0m \u001b[0mhasattr\u001b[0m\u001b[0;34m(\u001b[0m\u001b[0me\u001b[0m\u001b[0;34m,\u001b[0m \u001b[0;34m'ag_error_metadata'\u001b[0m\u001b[0;34m)\u001b[0m\u001b[0;34m:\u001b[0m\u001b[0;34m\u001b[0m\u001b[0;34m\u001b[0m\u001b[0m\n\u001b[0;32m--> 237\u001b[0;31m           \u001b[0;32mraise\u001b[0m \u001b[0me\u001b[0m\u001b[0;34m.\u001b[0m\u001b[0mag_error_metadata\u001b[0m\u001b[0;34m.\u001b[0m\u001b[0mto_exception\u001b[0m\u001b[0;34m(\u001b[0m\u001b[0me\u001b[0m\u001b[0;34m)\u001b[0m\u001b[0;34m\u001b[0m\u001b[0;34m\u001b[0m\u001b[0m\n\u001b[0m\u001b[1;32m    238\u001b[0m         \u001b[0;32melse\u001b[0m\u001b[0;34m:\u001b[0m\u001b[0;34m\u001b[0m\u001b[0;34m\u001b[0m\u001b[0m\n\u001b[1;32m    239\u001b[0m           \u001b[0;32mraise\u001b[0m\u001b[0;34m\u001b[0m\u001b[0;34m\u001b[0m\u001b[0m\n",
      "\u001b[0;31mValueError\u001b[0m: in converted code:\n\n    /home/martin/anaconda3/lib/python3.7/site-packages/tensorflow_core/python/keras/engine/training_v2.py:677 map_fn\n        batch_size=None)\n    /home/martin/anaconda3/lib/python3.7/site-packages/tensorflow_core/python/keras/engine/training.py:2410 _standardize_tensors\n        exception_prefix='input')\n    /home/martin/anaconda3/lib/python3.7/site-packages/tensorflow_core/python/keras/engine/training_utils.py:573 standardize_input_data\n        'with shape ' + str(data_shape))\n\n    ValueError: Error when checking input: expected input_snapshots to have 2 dimensions, but got array with shape (64, 64, 10)\n"
     ]
    }
   ],
   "source": [
    "def input_importance(mode, mode_var, model, test_ds, dimensions, check_vars, repetitions):\n",
    "    orig_t_loss, orig_l_loss, orig_r_loss = model.evaluate(test_ds_batch, verbose=0, steps = STEP_NUMBER)\n",
    "    meta_loss_list = []\n",
    "    # initialization dependent on the mode\n",
    "    if mode == \"perturb\":\n",
    "        perturbation = mode_var\n",
    "    elif mode == \"mean\":\n",
    "        if repetitions > 1:\n",
    "            \"Evaluation occurs on the basis of all batches of size BATCH_SIZE, thereby yielding a reliably result even at only one repetition.\"\n",
    "        mean_value_array = mode_var\n",
    "#        test_ds_list = []\n",
    "    elif mode == \"HIPR\":\n",
    "        min_value = mode_var[0]\n",
    "        max_value = mode_var[1]\n",
    "    elif mode == \"shuffle\":\n",
    "        column_array = mode_var\n",
    "        \n",
    "    print(\"Mode: {}\".format(mode))\n",
    "    for repetition in range(repetitions):\n",
    "        print(\"Repetition {}.\".format(repetition+1))\n",
    "        loss_list = [[],[],[]]\n",
    "        for variable_nr in check_vars:\n",
    "            print(\"\\tPerturbing variable {}.\".format(variable_nr))\n",
    "            # mapping of the dataset depending on the code\n",
    "            if mode == \"perturb\":\n",
    "                mod_test_ds = test_ds.map(PerturbColumn(variable_nr, perturbation, dimensions), CORES_USED).batch(BATCH_SIZE, drop_remainder=True)\n",
    "            elif mode == \"mean\":\n",
    "                mod_test_ds = test_ds.map(SetMeanColumn(variable_nr, mean_value_array[variable_nr], dimensions), CORES_USED).batch(BATCH_SIZE, drop_remainder=True)\n",
    "#                    test_ds_list.append(mod_test_ds)\n",
    "            elif mode == \"HIPR\":\n",
    "                mod_test_ds = test_ds.map(HIPRColumn(variable_nr, min_value, max_value, dimensions), CORES_USED).batch(BATCH_SIZE, drop_remainder=True)\n",
    "                new_columns = get_columns_from_batched_ds(mod_test_ds, \"input_snapshots\")\n",
    "                print(new_columns[variable_nr][:5]) #testing\n",
    "                print(new_columns[variable_nr][64:69]) #testing\n",
    "            elif mode == \"shuffle\":\n",
    "                mod_test_ds = test_ds.map(ShuffleColumn(variable_nr, column_array[variable_nr], dimensions), CORES_USED).batch(BATCH_SIZE, drop_remainder=True)\n",
    "                new_columns = get_columns_from_batched_ds(mod_test_ds, \"input_snapshots\")\n",
    "                print(new_columns[variable_nr][:5]) #testing\n",
    "                print(new_columns[variable_nr][64:69]) #testing\n",
    "            # calculate the different losses with the new dataset\n",
    "            t_loss, l_loss, r_loss = model.evaluate(mod_test_ds, verbose=0, steps = STEP_NUMBER)\n",
    "            # append the losses to a collective list for later comparison\n",
    "            loss_list[0].append(max(0,t_loss-orig_t_loss))\n",
    "            loss_list[1].append(max(0,l_loss-orig_l_loss))\n",
    "            loss_list[2].append(max(0,r_loss-orig_r_loss))\n",
    "        # average over the loss lists\n",
    "        # negative increases of loss are set to zero\n",
    "        for row_nr in range(len(loss_list)):\n",
    "            full_loss = sum(loss_list[row_nr])\n",
    "            for col_nr in range(len(loss_list[row_nr])):\n",
    "                if full_loss > 0:\n",
    "                    loss_list[row_nr][col_nr] = loss_list[row_nr][col_nr]/full_loss\n",
    "                else:\n",
    "                    loss_list[row_nr][col_nr] = 0\n",
    "        meta_loss_list.append(np.array(loss_list))                \n",
    "    return np.array(sum(meta_loss_list)/repetitions)\n",
    "\n",
    "def plot_input_importance(loss_list, loss_type, name, perturbation):\n",
    "    variable_nr = len(loss_list[0])\n",
    "    plt.bar(range(variable_nr),loss_list[loss_type])\n",
    "    if perturbation == None:\n",
    "        plt.savefig(\"{}_{}.png\".format(name,loss_type))        \n",
    "    else:\n",
    "        plt.savefig(\"{}_{}_pert_{}.png\".format(name,loss_type,perturbation))\n",
    "    plt.close()\n",
    "    \n",
    "perturbed_loss_list = input_importance(\"perturb\", 0.5, autoencoder, test_ds, DIMENSIONS, range(3), 1)\n",
    "#plot_input_importance(perturbed_loss_list,1,\"Input_perturbation\",\"0.5\")\n",
    "mean_loss_list = input_importance(\"mean\", get_column_mean_of_batched_ds(test_ds, \"input_snapshots\"), autoencoder, test_ds, DIMENSIONS, range(3), 1)\n",
    "#plot_input_importance(mean_loss_list,1,\"Stepwise\", None)\n",
    "hipr_loss_list = input_importance(\"HIPR\", [-0.9,0.9], autoencoder, test_ds, DIMENSIONS, range(3), 3)\n",
    "#plot_input_importance(hipr_loss_list,1,\"HIPR\", None)\n",
    "shuffle_loss_list = input_importance(\"shuffle\", get_columns_from_batched_ds(test_ds, \"input_snapshots\"), autoencoder, test_ds, DIMENSIONS, range(1), 1)\n",
    "#plot_input_importance(shuffle_loss_list,1,\"Shuffle\", None)"
   ]
  },
  {
   "cell_type": "code",
   "execution_count": null,
   "metadata": {},
   "outputs": [],
   "source": [
    "print(encoder.predict(test_ds))"
   ]
  },
  {
   "cell_type": "code",
   "execution_count": 28,
   "metadata": {},
   "outputs": [
    {
     "name": "stdout",
     "output_type": "stream",
     "text": [
      "<BatchDataset shapes: ({encoded_snapshots: (None, 2)}, {label: (None,)}), types: ({encoded_snapshots: tf.float32}, {label: tf.float64})>\n"
     ]
    },
    {
     "data": {
      "text/plain": [
       "0.49960995233721206"
      ]
     },
     "execution_count": 28,
     "metadata": {},
     "output_type": "execute_result"
    }
   ],
   "source": [
    "test_bn_ds = tf.data.Dataset.from_tensor_slices(({\"encoded_snapshots\": encoder.predict(test_ds)},\n",
    "                                            {\"label\": test_snapshot_label_list})).shuffle(DATASET_SIZE)\n",
    "test_bn_ds_batched = test_bn_ds.batch(BATCH_SIZE, drop_remainder= DROP_REMAINDER)\n",
    "print(test_bn_ds)\n",
    "decoder_1.compile(optimizer=keras.optimizers.RMSprop(1e-3),\n",
    "              loss={'label':keras.losses.MeanAbsoluteError()})\n",
    "features_list = [layer.output for layer in encoder.layers]\n",
    "#print(features_list)\n",
    "decoder_1.evaluate(test_bn_ds, verbose=0, steps = STEP_NUMBER)"
   ]
  },
  {
   "cell_type": "code",
   "execution_count": 33,
   "metadata": {},
   "outputs": [
    {
     "name": "stdout",
     "output_type": "stream",
     "text": [
      "Repetition 1.\n",
      "\tPerturbing variable 0.\n",
      "\tPerturbing variable 1.\n",
      "Repetition 2.\n",
      "\tPerturbing variable 0.\n",
      "\tPerturbing variable 1.\n",
      "Repetition 3.\n",
      "\tPerturbing variable 0.\n",
      "\tPerturbing variable 1.\n",
      "Repetition 4.\n",
      "\tPerturbing variable 0.\n",
      "\tPerturbing variable 1.\n",
      "Repetition 5.\n",
      "\tPerturbing variable 0.\n",
      "\tPerturbing variable 1.\n",
      "Repetition 6.\n",
      "\tPerturbing variable 0.\n",
      "\tPerturbing variable 1.\n",
      "Repetition 7.\n",
      "\tPerturbing variable 0.\n",
      "\tPerturbing variable 1.\n",
      "Repetition 8.\n",
      "\tPerturbing variable 0.\n",
      "\tPerturbing variable 1.\n",
      "Repetition 9.\n",
      "\tPerturbing variable 0.\n",
      "\tPerturbing variable 1.\n",
      "Repetition 10.\n",
      "\tPerturbing variable 0.\n",
      "\tPerturbing variable 1.\n",
      "[array([[0, 0]]), array([[0, 0]]), array([[0, 0]]), array([[0, 0]]), array([[0, 0]]), array([[0, 0]]), array([[0, 0]]), array([[0, 0]]), array([[0, 0]]), array([[0, 0]])]\n"
     ]
    },
    {
     "data": {
      "text/plain": [
       "'\\nTrying to map the train_ds in such a way that the input is replaced by the output of the bottleneck\\nCurrently the fact that predict returns unbatched results appears to be the problem\\n'"
      ]
     },
     "execution_count": 33,
     "metadata": {},
     "output_type": "execute_result"
    }
   ],
   "source": [
    "\n",
    "def improved_stepwise_bn(model, test_ds, check_vars, repetitions):\n",
    "    orig_l_loss = model.evaluate(test_ds, verbose=0, steps = STEP_NUMBER)\n",
    "    meta_loss_list = []\n",
    "    mean_value_array = get_column_mean_of_batched_ds(test_ds, \"encoded_snapshots\")\n",
    "    for repetition in range(repetitions):\n",
    "        print(\"Repetition {}.\".format(repetition+1))\n",
    "        loss_list = [[]]\n",
    "        for variable_nr in check_vars:\n",
    "            print(\"\\tPerturbing variable {}.\".format(variable_nr))\n",
    "            m_col_test_ds = test_ds.map(TakeColumnMean(variable_nr, mean_value_array[variable_nr],BOTTLENECK_SIZE))\n",
    "            # calculate the different losses with the new dataset\n",
    "            m_col_l_loss = model.evaluate(m_col_test_ds, verbose=0, steps = STEP_NUMBER)\n",
    "            # append the losses to a collective list for later comparison\n",
    "            loss_list[0].append(max(0,m_col_l_loss-orig_l_loss))\n",
    "        for row_nr in range(len(loss_list)):\n",
    "            full_loss = sum(loss_list[row_nr])\n",
    "            for col_nr in range(len(loss_list[row_nr])):\n",
    "                if full_loss > 0:\n",
    "                    loss_list[row_nr][col_nr] = loss_list[row_nr][col_nr]/full_loss\n",
    "                else:\n",
    "                    loss_list[row_nr][col_nr] = 0\n",
    "        meta_loss_list.append(np.array(loss_list))\n",
    "    print(meta_loss_list)\n",
    "    return np.array(sum(meta_loss_list)/repetitions)\n",
    "\n",
    "loss_list = improved_stepwise_bn(decoder_1, test_bn_ds, range(2), 10)\n",
    "\n",
    "\n",
    "\"\"\"\n",
    "Trying to map the train_ds in such a way that the input is replaced by the output of the bottleneck\n",
    "Currently the fact that predict returns unbatched results appears to be the problem\n",
    "\"\"\""
   ]
  },
  {
   "cell_type": "code",
   "execution_count": 32,
   "metadata": {},
   "outputs": [
    {
     "name": "stdout",
     "output_type": "stream",
     "text": [
      "[[0. 0.]]\n"
     ]
    }
   ],
   "source": [
    "print(loss_list)\n",
    "plot_input_importance(loss_list,0,\"Stepwise_bn\", None)"
   ]
  },
  {
   "cell_type": "code",
   "execution_count": 46,
   "metadata": {},
   "outputs": [
    {
     "name": "stdout",
     "output_type": "stream",
     "text": [
      "[[ 0.172 -0.771]]\n",
      "[[ 0.172 -0.771]]\n"
     ]
    }
   ],
   "source": [
    "# accessing the output of all layers\n",
    "\n",
    "features_list = [layer.output for layer in encoder.layers]\n",
    "#print(features_list)\n",
    "feat_extraction_model = keras.Model(inputs=encoder.input, outputs=features_list[-1])\n",
    "\n",
    "img = np.random.random((1,10)).astype('float32')\n",
    "print(encoder(img).numpy())\n",
    "extracted_features = feat_extraction_model(img)\n",
    "print(extracted_features.numpy())"
   ]
  },
  {
   "cell_type": "code",
   "execution_count": 48,
   "metadata": {},
   "outputs": [
    {
     "ename": "NameError",
     "evalue": "name 'K' is not defined",
     "output_type": "error",
     "traceback": [
      "\u001b[0;31m---------------------------------------------------------------------------\u001b[0m",
      "\u001b[0;31mNameError\u001b[0m                                 Traceback (most recent call last)",
      "\u001b[0;32m<ipython-input-48-19847f6f7487>\u001b[0m in \u001b[0;36m<module>\u001b[0;34m\u001b[0m\n\u001b[1;32m      3\u001b[0m \u001b[0;34m\u001b[0m\u001b[0m\n\u001b[1;32m      4\u001b[0m \u001b[0;31m# with a Sequential model\u001b[0m\u001b[0;34m\u001b[0m\u001b[0;34m\u001b[0m\u001b[0;34m\u001b[0m\u001b[0m\n\u001b[0;32m----> 5\u001b[0;31m output = K.function([model.layers[0].input],\n\u001b[0m\u001b[1;32m      6\u001b[0m                     [model.layers[3].output])\n\u001b[1;32m      7\u001b[0m \u001b[0mlayer_output\u001b[0m \u001b[0;34m=\u001b[0m \u001b[0moutput\u001b[0m\u001b[0;34m(\u001b[0m\u001b[0mexample_batch\u001b[0m\u001b[0;34m)\u001b[0m\u001b[0;34m[\u001b[0m\u001b[0;36m0\u001b[0m\u001b[0;34m]\u001b[0m\u001b[0;34m\u001b[0m\u001b[0;34m\u001b[0m\u001b[0m\n",
      "\u001b[0;31mNameError\u001b[0m: name 'K' is not defined"
     ]
    }
   ],
   "source": [
    "from keras import backend as K\n",
    "\n",
    "example_batch, label_batch = next(iter(train_ds))    \n",
    "\n",
    "\n",
    "# with a Sequential model\n",
    "output = K.function([model.layers[0].input],\n",
    "                    [model.layers[3].output])\n",
    "layer_output = output(example_batch)[0]\n",
    "#print(output)\n",
    "print(example_batch[0][:2])\n",
    "print(layer_output[0])\n",
    "print(label_batch[0])"
   ]
  },
  {
   "cell_type": "code",
   "execution_count": null,
   "metadata": {},
   "outputs": [],
   "source": [
    "\"\"\"\n",
    "def get_shuffled_columns_from_batched_ds(dataset, key):\n",
    "    # reconstructs the snapshot list based on the batched dataset that is given\n",
    "    # transposes the dataset to have easy access to the columns\n",
    "    # shuffles each column separately\n",
    "    # returns the array back to its orriginal shape with all columns appearing in new permutations\n",
    "    reconstructed_list = np.concatenate(np.array([batch[key].numpy() for batch, label in dataset]))\n",
    "    reconstructed_list = np.transpose(reconstructed_list)\n",
    "    for column_nr in range(len(reconstructed_list)):\n",
    "        reconstructed_list[column_nr] = shuffle(reconstructed_list[column_nr])\n",
    "    reconstructed_list\n",
    "    return reconstructed_list\n",
    "\n",
    "# modify original numpy arrays, generate new datasets and use that for the comparison \n",
    "def input_perturbation_efficiently(model, test_ds, snapshot_list, snapshot_label_list, perturbation, check_vars, repetitions):\n",
    "    orig_t_loss, orig_l_loss, orig_r_loss = model.evaluate(test_ds, verbose=0, steps= 1000)\n",
    "    meta_loss_list = []\n",
    "    for repetition in range(repetitions):\n",
    "        print(\"Repetition {}.\".format(repetition+1))\n",
    "        loss_list = [[],[],[]]\n",
    "        for variable_nr in check_vars:\n",
    "            print(\"\\tPerturbing variable {}.\".format(variable_nr))\n",
    "            #print(snapshot_list)\n",
    "            perturbed_snapshot_list = snapshot_list.copy()\n",
    "            # generates random perturbation scaling array, with values uniformly distributed around 1 \n",
    "            # ranging from 1 - perturbation to 1 + perturbation\n",
    "            rand_array = (np.random.rand(len(snapshot_list), 1)-0.5)*(2*perturbation)+1\n",
    "            # multiply corresponding column of the dataset with perturbation scaling array\n",
    "            perturbed_snapshot_list[:,variable_nr] = perturbed_snapshot_list[:,variable_nr]*rand_array[:,0]\n",
    "            # make a new perturbed Dataset to feed into the previously trained model\n",
    "            perturbed_ds = tf.data.Dataset.from_tensor_slices(({\"input_snapshots\": perturbed_snapshot_list},\n",
    "                                            {\"label\":snapshot_label_list, \n",
    "                                             \"reconstruction\":snapshot_list})).shuffle(DATASET_SIZE)\n",
    "            perturbed_test_ds = perturbed_ds.skip(TRAIN_SIZE).batch(BATCH_SIZE)\n",
    "            # calculate the different losses with the new dataset\n",
    "            pert_t_loss, pert_l_loss, pert_r_loss = model.evaluate(perturbed_test_ds, verbose=0, steps = 1000)\n",
    "            # append the losses to a collective list for later comparison\n",
    "            loss_list[0].append(max(0,pert_t_loss-orig_t_loss))\n",
    "            loss_list[1].append(max(0,pert_l_loss-orig_l_loss))\n",
    "            loss_list[2].append(max(0,pert_r_loss-orig_r_loss))\n",
    "        for row_nr in range(len(loss_list)):\n",
    "            full_loss = sum(loss_list[row_nr])\n",
    "            for col_nr in range(len(loss_list[row_nr])):\n",
    "                if full_loss > 0:\n",
    "                    loss_list[row_nr][col_nr] = loss_list[row_nr][col_nr]/full_loss\n",
    "                else:\n",
    "                    loss_list[row_nr][col_nr] = 0\n",
    "        meta_loss_list.append(np.array(loss_list))\n",
    "    return np.array(sum(meta_loss_list)/repetitions)\n",
    "    \n",
    "    \n",
    "def input_perturbation_most_efficient(model, test_ds, perturbation, check_vars, repetitions):\n",
    "    orig_t_loss, orig_l_loss, orig_r_loss = model.evaluate(test_ds, verbose=0, steps = STEP_NUMBER)\n",
    "    meta_loss_list = []\n",
    "    for repetition in range(repetitions):\n",
    "        print(\"Repetition {}.\".format(repetition+1))\n",
    "        loss_list = [[],[],[]]\n",
    "        for variable_nr in check_vars:\n",
    "            print(\"\\tPerturbing variable {}.\".format(variable_nr))\n",
    "            perturbed_test_ds = test_ds.map(PerturbDataset(variable_nr, perturbation))\n",
    "            # calculate the different losses with the new dataset\n",
    "            pert_t_loss, pert_l_loss, pert_r_loss = model.evaluate(perturbed_test_ds, verbose=0, steps = STEP_NUMBER)\n",
    "            # append the losses to a collective list for later comparison\n",
    "            loss_list[0].append(max(0,pert_t_loss-orig_t_loss))\n",
    "            loss_list[1].append(max(0,pert_l_loss-orig_l_loss))\n",
    "            loss_list[2].append(max(0,pert_r_loss-orig_r_loss))\n",
    "        for row_nr in range(len(loss_list)):\n",
    "            full_loss = sum(loss_list[row_nr])\n",
    "            for col_nr in range(len(loss_list[row_nr])):\n",
    "                if full_loss > 0:\n",
    "                    loss_list[row_nr][col_nr] = loss_list[row_nr][col_nr]/full_loss\n",
    "                else:\n",
    "                    loss_list[row_nr][col_nr] = 0\n",
    "        meta_loss_list.append(np.array(loss_list))\n",
    "    return np.array(sum(meta_loss_list)/repetitions)\n",
    "    \n",
    "def improved_stepwise(model, test_ds, check_vars, repetitions):\n",
    "    if repetitions > 1:\n",
    "        \"Evaluation occurs on the basis of all batches of size BATCH_SIZE, thereby yielding a reliably result even at only one repetition.\"\n",
    "    orig_t_loss, orig_l_loss, orig_r_loss = model.evaluate(test_ds, verbose=0, steps = STEP_NUMBER)\n",
    "    meta_loss_list = []\n",
    "    mean_value_array = get_column_mean_of_batched_ds(test_ds)\n",
    "    for repetition in range(repetitions):\n",
    "        print(\"Repetition {}.\".format(repetition+1))\n",
    "        loss_list = [[],[],[]]\n",
    "        test_ds_list = []\n",
    "        for variable_nr in check_vars:\n",
    "            print(\"\\tPerturbing variable {}.\".format(variable_nr))\n",
    "            m_col_test_ds = test_ds.map(TakeColumnMean(variable_nr, mean_value_array[variable_nr],DIMENSIONS))\n",
    "            test_ds_list.append(m_col_test_ds)\n",
    "            # calculate the different losses with the new dataset\n",
    "            m_col_t_loss, m_col_l_loss, m_col_r_loss = model.evaluate(m_col_test_ds, verbose=0, steps = STEP_NUMBER)\n",
    "            # append the losses to a collective list for later comparison\n",
    "            loss_list[0].append(max(0,m_col_t_loss-orig_t_loss))\n",
    "            loss_list[1].append(max(0,m_col_l_loss-orig_l_loss))\n",
    "            loss_list[2].append(max(0,m_col_r_loss-orig_r_loss))\n",
    "        for row_nr in range(len(loss_list)):\n",
    "            full_loss = sum(loss_list[row_nr])\n",
    "            for col_nr in range(len(loss_list[row_nr])):\n",
    "                if full_loss > 0:\n",
    "                    loss_list[row_nr][col_nr] = loss_list[row_nr][col_nr]/full_loss\n",
    "                else:\n",
    "                    loss_list[row_nr][col_nr] = 0\n",
    "        meta_loss_list.append(np.array(loss_list))\n",
    "    return np.array(sum(meta_loss_list)/repetitions), test_ds_list   \n",
    "\n",
    "\n",
    "    \"\"\"\n",
    "\"\"\"encoder_input = keras.Input(shape=(28, 28, 1), name='original_img')\n",
    "x = keras.layers.Conv2D(16, 3, activation='relu')(encoder_input)\n",
    "x = keras.layers.Conv2D(32, 3, activation='relu')(x)\n",
    "x = keras.layers.MaxPooling2D(3)(x)\n",
    "x = keras.layers.Conv2D(32, 3, activation='relu')(x)\n",
    "x = keras.layers.Conv2D(16, 3, activation='relu')(x)\n",
    "encoder_output = keras.layers.GlobalMaxPooling2D()(x)\n",
    "\n",
    "encoder = keras.Model(encoder_input, encoder_output, name='encoder')\n",
    "encoder.summary()\n",
    "\n",
    "decoder_input = keras.Input(shape=(16,), name='encoded_img')\n",
    "x = keras.layers.Reshape((4, 4, 1))(decoder_input)\n",
    "x = keras.layers.Conv2DTranspose(16, 3, activation='relu')(x)\n",
    "x = keras.layers.Conv2DTranspose(32, 3, activation='relu')(x)\n",
    "x = keras.layers.UpSampling2D(3)(x)\n",
    "x = keras.layers.Conv2DTranspose(16, 3, activation='relu')(x)\n",
    "decoder_output = keras.layers.Conv2DTranspose(1, 3, activation='relu')(x)\n",
    "\n",
    "decoder = keras.Model(decoder_input, decoder_output, name='decoder')\n",
    "decoder.summary()\n",
    "\n",
    "autoencoder_input = keras.Input(shape=(28, 28, 1), name='img')\n",
    "encoded_img = encoder(autoencoder_input)\n",
    "decoded_img = decoder(encoded_img)\n",
    "autoencoder = keras.Model(autoencoder_input, decoded_img, name='autoencoder')\n",
    "autoencoder.summary()\"\"\"\n",
    "\n",
    "pass"
   ]
  }
 ],
 "metadata": {
  "kernelspec": {
   "display_name": "Python 3",
   "language": "python",
   "name": "python3"
  },
  "language_info": {
   "codemirror_mode": {
    "name": "ipython",
    "version": 3
   },
   "file_extension": ".py",
   "mimetype": "text/x-python",
   "name": "python",
   "nbconvert_exporter": "python",
   "pygments_lexer": "ipython3",
   "version": "3.7.4"
  }
 },
 "nbformat": 4,
 "nbformat_minor": 2
}

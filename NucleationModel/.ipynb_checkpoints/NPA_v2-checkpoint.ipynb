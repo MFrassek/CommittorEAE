{
 "cells": [
  {
   "cell_type": "code",
   "execution_count": 1,
   "metadata": {},
   "outputs": [],
   "source": [
    "# are the future functions actually necessary?\n",
    "from __future__ import absolute_import, division, print_function, unicode_literals\n",
    "import imp\n",
    "\n",
    "from data_read import read_paths\n",
    "from pathData import PathData\n",
    "from snapData import SnapData\n",
    "from datasetData import DatasetData\n",
    "from plotData import PlotData\n",
    "from importanceData import ImportanceData\n",
    "#from data_plot import map_generated\n",
    "\n",
    "import numpy as np\n",
    "import tensorflow as tf\n",
    "from tensorflow import keras\n",
    "\n",
    "np.set_printoptions(precision=3, suppress=True)\n",
    "# allows for automatic reloading of imports and makes it unncessecary to restart the kernel\n",
    "# whenever a functio is changed\n",
    "%load_ext autoreload\n",
    "%autoreload 2"
   ]
  },
  {
   "cell_type": "code",
   "execution_count": 2,
   "metadata": {},
   "outputs": [],
   "source": [
    "#import pickle\n",
    "\n",
    "#from IPython import display\n",
    "\n",
    "#import matplotlib as mpl\n",
    "#import matplotlib.pyplot as plt\n",
    "VAR_NAMES = {\n",
    "    0: \"MCG\",\n",
    "    1: \"N_{w,4}\",\n",
    "    2: \"N_{w,3}\",\n",
    "    3: \"N_{w,2}\",\n",
    "    4: \"N_{sw,3-4}\",\n",
    "    5: \"N_{sw,2-3}\",\n",
    "    6: \"F4\",\n",
    "    7: \"R_g\",\n",
    "    8: \"5^{12}6^{2}\",\n",
    "    9: \"5^{12}\",\n",
    "    10: \"CR\",\n",
    "    11: \"N_{s,2}\",\n",
    "    12:\"N_{s,3}\",\n",
    "    13: \"N_{c,2}\",\n",
    "    14: \"N_{c,3}\",\n",
    "    15: \"N_{s,4}\",\n",
    "    16: \"N_{c,4}\",\n",
    "    17: \"5^{12}6^{3}\",\n",
    "    18: \"5^{12}6^{4}\",\n",
    "    19: \"4^{1}5^{10}6^{2}\",\n",
    "    20: \"4^{1}5^{10}6^{3}\",\n",
    "    21: \"4^{1}5^{10}6^{4}\"\n",
    "}"
   ]
  },
  {
   "cell_type": "code",
   "execution_count": 3,
   "metadata": {},
   "outputs": [],
   "source": [
    "\"\"\"Per-Dataset parameters\"\"\"\n",
    "# name of the parent folder in which the complete data is found\n",
    "FOLDER_NAME = \"RPE\"\n",
    "# MCG threshold below which a snapshot is considered to belong to state A\n",
    "MCG_A = 18\n",
    "# MCG threshold above which a snapshot is considered to belong to state B\n",
    "MCG_B = 120\n",
    "# labels assigend to the four types of paths: AA, AB, BA, BB\n",
    "PATH_TYPE_LABELS = [-1.0, 0.0, 0.0, 1.0]\n",
    "# weights assigned to the totatlity of each of the path types. Will be normalized on sum of all four weights\n",
    "PATH_TYPE_WEIGHTS = [2, 1, 1, 2]\n",
    "# offset to generate datasets with future predictions\n",
    "OFFSET = 0\n",
    "# if True snapshots of transition paths are assigned labels according to their position within the path \n",
    "PROGRESS = True\n",
    "# if True transition paths (AB, BA) are taken into account for the dataset\n",
    "TRANSITIONED = True\n",
    "# if True paths returning to their starting state (AA, BB) are taken into acount for the dataset\n",
    "TURNEDBACK = False\n",
    "# ratio of training set compared to the whole dataset\n",
    "TRAIN_RATIO = 0.6\n",
    "# ratio of validation set compared to whole dataset\n",
    "VAL_RATIO = 0.1\n",
    "# fraction of most extreme values that are considered outliers to both sides\n",
    "OUTLIER_CUTOFF = 0.05\n",
    "#print(\"Assuming an independent distribution of the dimensions, {:.3f}% of the dataset \\\n",
    "#will be considered to contain outliers.\".format(100*(1-(1-2*OUTLIER_CUTOFF)**DIMENSIONS)))"
   ]
  },
  {
   "cell_type": "code",
   "execution_count": 4,
   "metadata": {},
   "outputs": [],
   "source": [
    "\"\"\"System parameters\"\"\"\n",
    "# number of cores used\n",
    "CORES_USED = 2"
   ]
  },
  {
   "cell_type": "code",
   "execution_count": 5,
   "metadata": {},
   "outputs": [],
   "source": [
    "\"\"\"Tf-Dataset parameters\"\"\"\n",
    "# set size of batches\n",
    "BATCH_SIZE = 64\n",
    "# determines whether the last n values are going to be dropped if no complete batch can be build from them\n",
    "#DROP_REMAINDER = False\n"
   ]
  },
  {
   "cell_type": "code",
   "execution_count": 6,
   "metadata": {},
   "outputs": [],
   "source": [
    "\"\"\"Model parameters\"\"\"\n",
    "# number of bottleneck nodes\n",
    "BOTTLENECK_SIZE = 2\n",
    "# weight of the label loss and reconstruction loss. Only the relative ratio is relevant\n",
    "LABEL_LOSS_WEIGHT = 1\n",
    "RECONSTRUCTION_LOSS_WEIGHT = 1\n",
    "# names of input and output in the model\n",
    "INPUT_NAME = \"input_snapshots\"\n",
    "OUTPUT_NAME_1 = \"label\"\n",
    "OUTPUT_NAME_2 = \"reconstruction\"\n",
    "# list off losses determined by the model. Utilized by the plot_all_input_importance function\n",
    "LOSS_NAMES = [\"total\", OUTPUT_NAME_1, OUTPUT_NAME_2]\n",
    "LOSS_TYPE_COUNT = len(LOSS_NAMES)\n",
    "# number of epochs used for model training\n",
    "EPOCHS = 2"
   ]
  },
  {
   "cell_type": "code",
   "execution_count": 7,
   "metadata": {},
   "outputs": [],
   "source": [
    "\"\"\"Visialization parameters\"\"\"\n",
    "# resolution for the plotting functions\n",
    "RESOLUTION = 25\n",
    "# figure size for the plotting functions function\n",
    "FIG_SIZE = 50"
   ]
  },
  {
   "cell_type": "code",
   "execution_count": 8,
   "metadata": {},
   "outputs": [],
   "source": [
    "\"\"\"Input importance parameters\"\"\"\n",
    "# sets thresholds for the strengt of correlation needed to be considered \"correlated\"\n",
    "WEAK_CORRELATION_TRESHOLD = 0.01\n",
    "STRONG_CORRELATION_TRESHOLD = 0.1"
   ]
  },
  {
   "cell_type": "code",
   "execution_count": 9,
   "metadata": {},
   "outputs": [],
   "source": [
    "#paths, labels, mc_weights, re_weights, path_names = read_paths(FOLDER_NAME, MCG_A, MCG_B)"
   ]
  },
  {
   "cell_type": "code",
   "execution_count": 10,
   "metadata": {},
   "outputs": [
    {
     "name": "stdout",
     "output_type": "stream",
     "text": [
      "mcg100\n",
      "mcg30\n"
     ]
    }
   ],
   "source": [
    "pathO = PathData(\n",
    "    *read_paths(\n",
    "        FOLDER_NAME, \n",
    "        MCG_A, \n",
    "        MCG_B), \n",
    "    PATH_TYPE_LABELS, \n",
    "    PATH_TYPE_WEIGHTS)"
   ]
  },
  {
   "cell_type": "code",
   "execution_count": 11,
   "metadata": {},
   "outputs": [],
   "source": [
    "snapO = SnapData(\n",
    "    *pathO.snapshots_labels_weights(\n",
    "        offset = OFFSET, \n",
    "        progress = PROGRESS, \n",
    "        transitioned = TRANSITIONED, \n",
    "        turnedback = TURNEDBACK))"
   ]
  },
  {
   "cell_type": "code",
   "execution_count": 12,
   "metadata": {},
   "outputs": [],
   "source": [
    "dataO = DatasetData(\n",
    "    *snapO.split_lists(TRAIN_RATIO, VAL_RATIO), \n",
    "    outlier_cutoff = OUTLIER_CUTOFF)"
   ]
  },
  {
   "cell_type": "code",
   "execution_count": 13,
   "metadata": {},
   "outputs": [
    {
     "name": "stdout",
     "output_type": "stream",
     "text": [
      "[127.887 256.862 496.361 709.985 239.259 213.353   0.084   3.197  22.266\n",
      "  16.834   1.282  16.702  33.461 111.121  94.279  50.294  77.447   2.816\n",
      "   0.328   1.385   0.506   0.205]\n",
      "[ 59.655 143.602 264.197 348.073 121.57   84.279   0.009   1.258  15.875\n",
      "  10.725   0.44    5.739  10.664  55.031  49.971  16.378  43.986   2.408\n",
      "   0.602   1.277   0.692   0.404]\n",
      "[-1.524 -1.441 -1.447 -1.482 -1.45  -1.582 -1.62  -1.604 -1.277 -1.383\n",
      " -1.96  -1.691 -1.731 -1.492 -1.466 -1.728 -1.42  -1.169 -0.546 -1.085\n",
      " -0.731 -0.508]\n",
      "[2.164 2.208 2.236 2.209 2.272 2.108 1.85  1.751 2.314 2.253 1.858 1.969\n",
      " 1.926 2.197 2.216 1.936 2.241 2.568 2.778 2.047 2.161 1.967]\n"
     ]
    }
   ],
   "source": [
    "print(dataO.mean)\n",
    "print(dataO.std)\n",
    "print(dataO.minima)\n",
    "print(dataO.maxima)"
   ]
  },
  {
   "cell_type": "code",
   "execution_count": 23,
   "metadata": {},
   "outputs": [],
   "source": [
    "# generates the dataset by feeding in a tuple, of dictionaries (alternative would be a tuble of lists)\n",
    "train_ds = tf.data.Dataset.from_tensor_slices(\n",
    "    ({INPUT_NAME: dataO.train_norm_past_snapshots}, \n",
    "    {OUTPUT_NAME_1: dataO.train_snapshot_labels, \n",
    "    OUTPUT_NAME_2: dataO.train_norm_snapshots}, \n",
    "    {OUTPUT_NAME_1: dataO.train_snapshot_weights, \n",
    "    OUTPUT_NAME_2: dataO.train_snapshot_weights})) \\\n",
    "        .shuffle(snapO.snapshot_cnt) \\\n",
    "        .batch(BATCH_SIZE)\n",
    "val_ds = tf.data.Dataset.from_tensor_slices(\n",
    "    ({INPUT_NAME: dataO.val_norm_past_snapshots}, \n",
    "    {OUTPUT_NAME_1: dataO.val_snapshot_labels, \n",
    "    OUTPUT_NAME_2: dataO.val_norm_snapshots}, \n",
    "    {OUTPUT_NAME_1: dataO.val_snapshot_weights, \n",
    "    OUTPUT_NAME_2: dataO.val_snapshot_weights})) \\\n",
    "        .shuffle(snapO.snapshot_cnt) \\\n",
    "        .batch(BATCH_SIZE)\n",
    "test_ds = tf.data.Dataset.from_tensor_slices(\n",
    "    ({INPUT_NAME: dataO.test_norm_past_snapshots}, \n",
    "    {OUTPUT_NAME_1: dataO.test_snapshot_labels, \n",
    "    OUTPUT_NAME_2: dataO.test_norm_snapshots}, \n",
    "    {OUTPUT_NAME_1: dataO.test_snapshot_weights, \n",
    "    OUTPUT_NAME_2: dataO.test_snapshot_weights})) \\\n",
    "        .shuffle(snapO.snapshot_cnt) \\\n",
    "        .batch(BATCH_SIZE)"
   ]
  },
  {
   "cell_type": "code",
   "execution_count": 16,
   "metadata": {},
   "outputs": [],
   "source": [
    "NODE_MULT = 4\n",
    "ENCODER_HIDDEN = 4\n",
    "DECODER_1_HIDDEN = 4\n",
    "DECODER_2_HIDDEN = 4\n",
    "ENCODER_ACT_FUNC = None\n",
    "DECODER_1_ACT_FUNC = \"tanh\"\n",
    "DECODER_2_ACT_FUNC = \"tanh\"\n",
    "encoder_input = keras.Input(shape=(dataO.dimensions,),name=INPUT_NAME)\n",
    "x = keras.layers.Dense(dataO.dimensions*NODE_MULT, activation= ENCODER_ACT_FUNC)(encoder_input)\n",
    "for i in range(ENCODER_HIDDEN - 1):\n",
    "    x = keras.layers.Dense(dataO.dimensions*NODE_MULT, activation=ENCODER_ACT_FUNC)(x)\n",
    "#x = keras.layers.Dropout(0.1)(x)\n",
    "#x = keras.layers.Dense(DIMENSIONS*NODE_MULT, activation='tanh')(x)\n",
    "#x = keras.layers.Dense(DIMENSIONS*NODE_MULT, activation='tanh')(x)\n",
    "\n",
    "encoder_output = keras.layers.Dense(BOTTLENECK_SIZE, activation=ENCODER_ACT_FUNC, name='bottleneck')(x)\n",
    "\n",
    "encoder = keras.Model(encoder_input, encoder_output, name =\"Encoder\")\n",
    "#encoder.summary()\n",
    "\n",
    "decoder_input = keras.Input(shape=(BOTTLENECK_SIZE,), name =\"encoded_snapshots\")\n",
    "\n",
    "x1 = keras.layers.Dense(dataO.dimensions*NODE_MULT, activation=DECODER_1_ACT_FUNC)(decoder_input)\n",
    "for i in range(DECODER_1_HIDDEN):\n",
    "    x1 = keras.layers.Dense(dataO.dimensions*NODE_MULT, activation=DECODER_1_ACT_FUNC)(x1)\n",
    "#x1 = keras.layers.Dropout(0.1)(x1)\n",
    "#x1 = keras.layers.Dense(DIMENSIONS*NODE_MULT, activation='tanh')(x1)\n",
    "#x1 = keras.layers.Dense(DIMENSIONS*NODE_MULT, activation='tanh')(x1)\n",
    "decoder_output_1 = keras.layers.Dense(1, activation=DECODER_1_ACT_FUNC, name=OUTPUT_NAME_1)(x1)\n",
    "decoder_1 = keras.Model(decoder_input, decoder_output_1, name = OUTPUT_NAME_1)\n",
    "#decoder_1.summary()\n",
    "\n",
    "x2 = keras.layers.Dense(dataO.dimensions*NODE_MULT, activation=DECODER_2_ACT_FUNC)(decoder_input)\n",
    "for i in range(DECODER_2_HIDDEN):\n",
    "    x2 = keras.layers.Dense(dataO.dimensions*NODE_MULT, activation=DECODER_2_ACT_FUNC)(x2)\n",
    "#x2 = keras.layers.Dropout(0.1)(x2)\n",
    "#x2 = keras.layers.Dense(DIMENSIONS*NODE_MULT, activation='tanh')(x2)\n",
    "#x2 = keras.layers.Dense(DIMENSIONS*NODE_MULT, activation='tanh')(x2)\n",
    "decoder_output_2 = keras.layers.Dense(dataO.dimensions, activation=DECODER_2_ACT_FUNC,name=OUTPUT_NAME_2)(x2)\n",
    "decoder_2 = keras.Model(decoder_input, decoder_output_2, name = OUTPUT_NAME_2)\n",
    "#decoder_2.summary()\n",
    "\n",
    "autoencoder_input = keras.Input(shape=(dataO.dimensions,), name=INPUT_NAME)\n",
    "encoded_snaphot = encoder(autoencoder_input)\n",
    "label_snapshot = decoder_1(encoded_snaphot)\n",
    "reconstructed_snapshot = decoder_2(encoded_snaphot)\n",
    "autoencoder = keras.Model(inputs=autoencoder_input, \\\n",
    "                          outputs=[label_snapshot,reconstructed_snapshot], \\\n",
    "                          name = \"Autoencoder\")\n",
    "\n",
    "#model_layout = keras.utils.plot_model(autoencoder, 'autoencoder.png', show_shapes=True)\n",
    "#display.display(model_layout)\n",
    "\n",
    "#display.display(keras.utils.plot_model(encoder, 'encoder.png', show_shapes=True))\n",
    "#display.display(keras.utils.plot_model(decoder_1, 'decoder_1.png', show_shapes=True))\n",
    "#display.display(keras.utils.plot_model(decoder_2, 'decoder_2.png', show_shapes=True))"
   ]
  },
  {
   "cell_type": "code",
   "execution_count": 17,
   "metadata": {},
   "outputs": [],
   "source": [
    "autoencoder.compile(optimizer=keras.optimizers.RMSprop(1e-3),\n",
    "#                loss={OUTPUT_NAME_1:keras.losses.CategoricalHinge(),\n",
    "                loss={OUTPUT_NAME_1:keras.losses.MeanSquaredError(),\n",
    "                     OUTPUT_NAME_2: keras.losses.MeanAbsoluteError()},\n",
    "                loss_weights=[LABEL_LOSS_WEIGHT, RECONSTRUCTION_LOSS_WEIGHT])\n",
    "\n",
    "autoencoder_1 = keras.Model(inputs=autoencoder_input, outputs=label_snapshot, name = \"Autoencoder_1\")\n",
    "autoencoder_1.compile(optimizer=keras.optimizers.RMSprop(1e-3), \\\n",
    "#                loss={OUTPUT_NAME_1:keras.losses.CategoricalHinge()}, \\\n",
    "                loss={OUTPUT_NAME_1:keras.losses.MeanSquaredError()},\n",
    "                loss_weights=[LABEL_LOSS_WEIGHT])\n",
    "\n",
    "autoencoder_2 = keras.Model(inputs=autoencoder_input, outputs=reconstructed_snapshot, name = \"Autoencoder_2\")\n",
    "autoencoder_2.compile(optimizer=keras.optimizers.RMSprop(1e-3), \\\n",
    "                loss={OUTPUT_NAME_2:keras.losses.MeanSquaredError()}, \\\n",
    "                loss_weights=[RECONSTRUCTION_LOSS_WEIGHT])"
   ]
  },
  {
   "cell_type": "code",
   "execution_count": 18,
   "metadata": {},
   "outputs": [
    {
     "name": "stdout",
     "output_type": "stream",
     "text": [
      "Autoencoder\n",
      "['input_snapshots']\n",
      "['label', 'reconstruction']\n"
     ]
    }
   ],
   "source": [
    "model = autoencoder\n",
    "print(model.name)\n",
    "print(model.input_names)\n",
    "print(model.output_names)"
   ]
  },
  {
   "cell_type": "code",
   "execution_count": 19,
   "metadata": {
    "scrolled": true
   },
   "outputs": [
    {
     "name": "stdout",
     "output_type": "stream",
     "text": [
      "Train for 1078 steps, validate for 180 steps\n",
      "Epoch 1/2\n",
      "1078/1078 [==============================] - 5s 5ms/step - loss: 0.7697 - label_loss: 0.0702 - reconstruction_loss: 0.6995 - val_loss: 0.7166 - val_label_loss: 0.0583 - val_reconstruction_loss: 0.6583\n",
      "Epoch 2/2\n",
      "1078/1078 [==============================] - 4s 3ms/step - loss: 0.7338 - label_loss: 0.0606 - reconstruction_loss: 0.6732 - val_loss: 0.7321 - val_label_loss: 0.0644 - val_reconstruction_loss: 0.6677\n"
     ]
    }
   ],
   "source": [
    "#autoencoder.fit(train_ds_batch,epochs=EPOCHS, class_weight=class_weight)\n",
    "\n",
    "history = autoencoder.fit(train_ds,epochs=EPOCHS, validation_data=val_ds)"
   ]
  },
  {
   "cell_type": "code",
   "execution_count": 20,
   "metadata": {},
   "outputs": [],
   "source": [
    "STAMP = \"tr{}_re{}_p{}_o{}_oc{}_bn{}_{}*({}{}+{}{}|{}{})_pw{}:{}:{}:{}_lw{}:{}_e{}\" \\\n",
    "    .format(str(TRANSITIONED)[0],str(TURNEDBACK)[0], \n",
    "        str(PROGRESS)[0], OFFSET, OUTLIER_CUTOFF,\n",
    "        str(BOTTLENECK_SIZE), str(NODE_MULT), \n",
    "        str(ENCODER_HIDDEN), str(ENCODER_ACT_FUNC), \n",
    "        str(DECODER_1_HIDDEN), str(DECODER_1_ACT_FUNC), \n",
    "        str(DECODER_2_HIDDEN), str(DECODER_2_ACT_FUNC), \n",
    "        PATH_TYPE_WEIGHTS[0],PATH_TYPE_WEIGHTS[1], \n",
    "        PATH_TYPE_WEIGHTS[2],PATH_TYPE_WEIGHTS[3], \n",
    "        LABEL_LOSS_WEIGHT, RECONSTRUCTION_LOSS_WEIGHT, \n",
    "        EPOCHS)"
   ]
  },
  {
   "cell_type": "code",
   "execution_count": null,
   "metadata": {},
   "outputs": [],
   "source": [
    "impO = ImportanceData(\n",
    "    *dataO.importance_data(),\n",
    "    WEAK_CORRELATION_TRESHOLD,\n",
    "    STRONG_CORRELATION_TRESHOLD)"
   ]
  },
  {
   "cell_type": "code",
   "execution_count": 21,
   "metadata": {},
   "outputs": [],
   "source": [
    "plotO = PlotData(*dataO.plot_data(), STAMP)\n",
    "\n",
    "\n"
   ]
  },
  {
   "cell_type": "code",
   "execution_count": 22,
   "metadata": {},
   "outputs": [
    {
     "name": "stdout",
     "output_type": "stream",
     "text": [
      "1 0\n",
      "2 0\n",
      "0\n"
     ]
    },
    {
     "data": {
      "image/png": "[encoded data removed]",
      "text/plain": [
       "<Figure size 2160x720 with 4 Axes>"
      ]
     },
     "metadata": {
      "needs_background": "light"
     },
     "output_type": "display_data"
    },
    {
     "data": {
      "text/plain": [
       "[[[]], [[array([[[-0.]]])]], [[array([[[-0.]]])]]]"
      ]
     },
     "execution_count": 22,
     "metadata": {},
     "output_type": "execute_result"
    }
   ],
   "source": [
    "RESOLUTION = 1\n",
    "plotO.plot_super_map(fig_size = FIG_SIZE, i_s = range(3), js = range(1), \\\n",
    "                     stamp = STAMP, var_names = VAR_NAMES, resolution = RESOLUTION, \\\n",
    "                     vmin = -1.0, vmax = 1.0, \\\n",
    "                     model = None, fill_val = 0)\n",
    "        \n",
    "#plotO.plot_super_scatter(fig_size = FIG_SIZE, i_s = range(5), \\\n",
    "#                         stamp = STAMP, var_names = VAR_NAMES, resolution = RESOLUTION, \\\n",
    "#                         model = autoencoder_2, max_row_len = 6, fill_val = 0)"
   ]
  },
  {
   "cell_type": "code",
   "execution_count": null,
   "metadata": {},
   "outputs": [
    {
     "name": "stdout",
     "output_type": "stream",
     "text": [
      "Mode: Perturb\n",
      "Repetition 1.\n",
      "\tPerturbing variable 0.\n",
      "\tPerturbing variable 1.\n",
      "\tPerturbing variable 2.\n",
      "Repetition 2.\n",
      "\tPerturbing variable 0.\n",
      "\tPerturbing variable 1.\n",
      "\tPerturbing variable 2.\n",
      "The mean mode does not entail stochasticity. \n",
      "Number of repetitions was set to '1' for this measurement.\n",
      "Mode: Mean\n",
      "Repetition 1.\n",
      "\tPerturbing variable 0.\n",
      "\tPerturbing variable 1.\n",
      "\tPerturbing variable 2.\n",
      "Mode: HIPR\n",
      "Repetition 1.\n",
      "\tPerturbing variable 0.\n",
      "\tPerturbing variable 1.\n",
      "\tPerturbing variable 2.\n",
      "Repetition 2.\n",
      "\tPerturbing variable 0.\n"
     ]
    }
   ],
   "source": [
    "#impO.measure_correlation()\n",
    "modes = [[\"Perturb\", 0.5],[\"Mean\", None],[\"HIPR\", [-0.9,0.9]],[\"Shuffle\", None]]\n",
    "modes = [[\"Perturb\", 0.5],[\"Mean\", None]]\n",
    "SUB_FIG_SIZE = 5\n",
    "impO.plot_super_importance(\n",
    "    sub_fig_size = SUB_FIG_SIZE, i_s = range(3), stamp = STAMP,\n",
    "    var_names = VAR_NAMES, repetitions = 2, modes = modes,\n",
    "    loss_names = [\"total\", OUTPUT_NAME_1, OUTPUT_NAME_2],\n",
    "    val_ds = val_ds, model = autoencoder)\n"
   ]
  },
  {
   "cell_type": "code",
   "execution_count": null,
   "metadata": {},
   "outputs": [],
   "source": [
    "\"\"\"\n",
    "VAR_NAMES = {\n",
    "    0: \"MCG\",\n",
    "    11: \"N_{s,2}\",\n",
    "    12:\"N_{s,3}\",    \n",
    "    15: \"N_{s,4}\",\n",
    "    13: \"N_{c,2}\",\n",
    "    14: \"N_{c,3}\",\n",
    "    16: \"N_{c,4}\",\n",
    "    3: \"N_{w,2}\",   \n",
    "    2: \"N_{w,3}\",\n",
    "    1: \"N_{w,4}\",\n",
    "    5: \"N_{sw,2-3}\",    \n",
    "    4: \"N_{sw,3-4}\",\n",
    "    9: \"5^{12}\",\n",
    "    8: \"5^{12}6^{2}\",\n",
    "    17: \"5^{12}6^{3}\",\n",
    "    18: \"5^{12}6^{4}\",\n",
    "    19: \"4^{1}5^{10}6^{2}\",\n",
    "    20: \"4^{1}5^{10}6^{3}\",\n",
    "    21: \"4^{1}5^{10}6^{4}\",\n",
    "    10: \"CR\",\n",
    "    7: \"R_g\",\n",
    "    6: \"F4\"\n",
    "}\"\"\"\n",
    "\n",
    "\"\"\"\n",
    "VAR_NAMES = {\n",
    "    0: \"MCG\"\n",
    "    1: \"N_{s,2}\"\n",
    "    2 :\"N_{s,3}\"\n",
    "    3: \"N_{s,4}\"\n",
    "    4: \"N_{c,2}\"\n",
    "    5: \"N_{c,3}\"\n",
    "    6: \"N_{c,4}\"\n",
    "    7: \"N_{w,2}\"\n",
    "    8: \"N_{w,3}\"\n",
    "    9: \"N_{w,4}\"\n",
    "    10: \"N_{sw,2-3}\"\n",
    "    11: \"N_{sw,3-4}\"\n",
    "    12: \"5^{12}\"\n",
    "    13: \"5^{12}6^{2}\"\n",
    "    14: \"5^{12}6^{3}\"\n",
    "    15: \"5^{12}6^{4}\"\n",
    "    16: \"4^{1}5^{10}6^{2}\"\n",
    "    17: \"4^{1}5^{10}6^{3}\"\n",
    "    18: \"4^{1}5^{10}6^{4}\"\n",
    "    19: \"CR\"\n",
    "    20: \"R_g\"\n",
    "    21: \"F4\"\n",
    "}\"\"\"\n",
    "pass"
   ]
  },
  {
   "cell_type": "code",
   "execution_count": 11,
   "metadata": {},
   "outputs": [],
   "source": [
    "def show_batch(dataset):\n",
    "    for batch, label, weights in dataset.take(1):\n",
    "        for key, value in batch.items():\n",
    "            print(\"{:20s}: {}\".format(key,value.numpy()))"
   ]
  },
  {
   "cell_type": "code",
   "execution_count": null,
   "metadata": {},
   "outputs": [],
   "source": [
    "#past, present = data.offset_path_lists(5)\n",
    "#print(past[0][:10])\n",
    "#print(present[0][:5])\n",
    "#print(data.path_list[0])\n",
    "#print(data.label_list[2])\n",
    "#print(data.mc_weight_list[2])\n",
    "#AA_past_snapshot_list, AB_past_snapshot_list, \\\n",
    "#    BA_past_snapshot_list, BB_past_snapshot_list, \\\n",
    "#    AA_snapshot_list, AB_snapshot_list, \\\n",
    "#    BA_snapshot_list, BB_snapshot_list, \\\n",
    "#    AA_snapshot_label_list, AB_snapshot_label_list, \\\n",
    "#    BA_snapshot_label_list, BB_snapshot_label_list, \\\n",
    "#    AA_snapshot_weight_list, AB_snapshot_weight_list, \\\n",
    "#    BA_snapshot_weight_list, BB_snapshot_weight_list = paths.snapshot_label_weight_lists(0,True,True,True)"
   ]
  }
 ],
 "metadata": {
  "kernelspec": {
   "display_name": "Python 3",
   "language": "python",
   "name": "python3"
  },
  "language_info": {
   "codemirror_mode": {
    "name": "ipython",
    "version": 3
   },
   "file_extension": ".py",
   "mimetype": "text/x-python",
   "name": "python",
   "nbconvert_exporter": "python",
   "pygments_lexer": "ipython3",
   "version": "3.7.4"
  }
 },
 "nbformat": 4,
 "nbformat_minor": 2
}

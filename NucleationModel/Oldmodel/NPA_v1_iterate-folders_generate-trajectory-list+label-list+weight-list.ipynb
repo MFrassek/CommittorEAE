{
 "cells": [
  {
   "cell_type": "code",
   "execution_count": 79,
   "metadata": {},
   "outputs": [],
   "source": [
    "from data import Data\n",
    "from os import listdir\n",
    "import numpy as np\n",
    "import glob\n",
    "np.set_printoptions(precision=3, suppress=True)"
   ]
  },
  {
   "cell_type": "code",
   "execution_count": 94,
   "metadata": {},
   "outputs": [],
   "source": [
    "def read_trajectories(foldername, A_mcg_below, B_mcg_above):\n",
    "    \"\"\"reweight_list not available yet. Needs to be implemented later\"\"\"\n",
    "    trajectory_list = []\n",
    "    label_list = []\n",
    "    mc_weight_list = []\n",
    "    reweigt_list = []    \n",
    "    for folder in listdir(foldername):\n",
    "        print(folder)\n",
    "        # for each folder opens the file path_name or path_name.txt as names\n",
    "        # glob.glob assures that both file namings will be accepted\n",
    "        with open(glob.glob(foldername+\"/\"+folder+\"/path_name*\")[0], \"r\") as names:\n",
    "            # similarly opens the corresponding path_weights or path_weights.txt file as weights \n",
    "            with open(glob.glob(foldername+\"/\"+folder+\"/path_weight*\")[0], \"r\") as weights:\n",
    "                name_lines = names.readlines()\n",
    "                weight_lines = weights.readlines()\n",
    "                path_names = list(map(lambda x: x[:-1], name_lines))\n",
    "                weight_names = list(map(int,map(lambda x: x[:-1], weight_lines)))\n",
    "                #print(path_names)\n",
    "                #print(weight_names)\n",
    "                for file_nr in range(len(path_names)):\n",
    "                    with open(foldername+\"/\"+folder+\"/light_data/\"+path_names[file_nr], \"r\") as path:\n",
    "                        trajectory = path.readlines()\n",
    "                        # iterates over all snapshots in the trajectory\n",
    "                        # removes the linebreak character at the end (\"\\n\")\n",
    "                        # splits them along all occurences of \" \"\n",
    "                        # drops the first column (snapshot_index)\n",
    "                        # transforms the strings into floats\n",
    "                        trajectory = np.array([list(map(float,snap[:-1].split(\" \")[1:])) \\\n",
    "                                              for snap in trajectory])\n",
    "                        #print(snapshots)\n",
    "                        assert not ((trajectory[0][0] > A_mcg_below and \\\n",
    "                                     trajectory[0][0] < B_mcg_above) or \\\n",
    "                                    (trajectory[-1][0] > A_mcg_below and \\\n",
    "                                     trajectory[-1][0] < B_mcg_above)), \\\n",
    "                                    \"Path in {} begins (mcg = {}) or ends (mcg = {}) outside of state definition.\"\\\n",
    "                                    .format(path_names[file_nr], trajectory[0][0], trajectory[-1][0])\n",
    "                        if trajectory[0][0] <= A_mcg_below:\n",
    "                            if trajectory[-1][0] <= A_mcg_below:\n",
    "                                label = -1\n",
    "                            elif trajectory[-1][0] >= B_mcg_above:\n",
    "                                label = -0.5\n",
    "                        elif trajectory[0][0] >= B_mcg_above:\n",
    "                            if trajectory[-1][0] <= A_mcg_below:\n",
    "                                label = 0.5\n",
    "                            elif trajectory[-1][0] >= B_mcg_above:\n",
    "                                label = 1\n",
    "                        #print(snapshots)\n",
    "                        #trajectory_len = len(trajectory)\n",
    "                        #print(np.array(trajectory_len*[label]))\n",
    "                        #print(np.array(trajectory_len*[weight_names[file_nr]]))\n",
    "                        trajectory_list.append(trajectory)\n",
    "                        label_list.append(label)\n",
    "                        mc_weight_list.append(weight_names[file_nr])\n",
    "    print(np.array(trajectory_list))\n",
    "    print(np.array(label_list))\n",
    "    print(np.array(mc_weight_list))"
   ]
  },
  {
   "cell_type": "code",
   "execution_count": 95,
   "metadata": {},
   "outputs": [
    {
     "name": "stdout",
     "output_type": "stream",
     "text": [
      "mcg100\n",
      "mcg70\n",
      "mcg30\n",
      "mcg80\n",
      "mcg35\n",
      "mcg90\n",
      "mcg50\n",
      "mcg60\n",
      "mcg40\n"
     ]
    },
    {
     "ename": "AssertionError",
     "evalue": "Path in 2930.txt begins (mcg = 18.0) or ends (mcg = 3.0) outside of state definition.",
     "output_type": "error",
     "traceback": [
      "\u001b[0;31m---------------------------------------------------------------------------\u001b[0m",
      "\u001b[0;31mAssertionError\u001b[0m                            Traceback (most recent call last)",
      "\u001b[0;32m<ipython-input-95-52c0189e4070>\u001b[0m in \u001b[0;36m<module>\u001b[0;34m\u001b[0m\n\u001b[0;32m----> 1\u001b[0;31m \u001b[0mread_trajectories\u001b[0m\u001b[0;34m(\u001b[0m\u001b[0;34m\"RPE\"\u001b[0m\u001b[0;34m,\u001b[0m \u001b[0;36m15\u001b[0m\u001b[0;34m,\u001b[0m \u001b[0;36m120\u001b[0m\u001b[0;34m)\u001b[0m\u001b[0;34m\u001b[0m\u001b[0;34m\u001b[0m\u001b[0m\n\u001b[0m",
      "\u001b[0;32m<ipython-input-94-f6a7ccf206a5>\u001b[0m in \u001b[0;36mread_trajectories\u001b[0;34m(foldername, A_mcg_below, B_mcg_above)\u001b[0m\n\u001b[1;32m     34\u001b[0m                                      trajectory[-1][0] < B_mcg_above)), \\\n\u001b[1;32m     35\u001b[0m                                     \u001b[0;34m\"Path in {} begins (mcg = {}) or ends (mcg = {}) outside of state definition.\"\u001b[0m\u001b[0;31m\\\u001b[0m\u001b[0;34m\u001b[0m\u001b[0;34m\u001b[0m\u001b[0m\n\u001b[0;32m---> 36\u001b[0;31m                                     \u001b[0;34m.\u001b[0m\u001b[0mformat\u001b[0m\u001b[0;34m(\u001b[0m\u001b[0mpath_names\u001b[0m\u001b[0;34m[\u001b[0m\u001b[0mfile_nr\u001b[0m\u001b[0;34m]\u001b[0m\u001b[0;34m,\u001b[0m \u001b[0mtrajectory\u001b[0m\u001b[0;34m[\u001b[0m\u001b[0;36m0\u001b[0m\u001b[0;34m]\u001b[0m\u001b[0;34m[\u001b[0m\u001b[0;36m0\u001b[0m\u001b[0;34m]\u001b[0m\u001b[0;34m,\u001b[0m \u001b[0mtrajectory\u001b[0m\u001b[0;34m[\u001b[0m\u001b[0;34m-\u001b[0m\u001b[0;36m1\u001b[0m\u001b[0;34m]\u001b[0m\u001b[0;34m[\u001b[0m\u001b[0;36m0\u001b[0m\u001b[0;34m]\u001b[0m\u001b[0;34m)\u001b[0m\u001b[0;34m\u001b[0m\u001b[0;34m\u001b[0m\u001b[0m\n\u001b[0m\u001b[1;32m     37\u001b[0m                         \u001b[0;32mif\u001b[0m \u001b[0mtrajectory\u001b[0m\u001b[0;34m[\u001b[0m\u001b[0;36m0\u001b[0m\u001b[0;34m]\u001b[0m\u001b[0;34m[\u001b[0m\u001b[0;36m0\u001b[0m\u001b[0;34m]\u001b[0m \u001b[0;34m<=\u001b[0m \u001b[0mA_mcg_below\u001b[0m\u001b[0;34m:\u001b[0m\u001b[0;34m\u001b[0m\u001b[0;34m\u001b[0m\u001b[0m\n\u001b[1;32m     38\u001b[0m                             \u001b[0;32mif\u001b[0m \u001b[0mtrajectory\u001b[0m\u001b[0;34m[\u001b[0m\u001b[0;34m-\u001b[0m\u001b[0;36m1\u001b[0m\u001b[0;34m]\u001b[0m\u001b[0;34m[\u001b[0m\u001b[0;36m0\u001b[0m\u001b[0;34m]\u001b[0m \u001b[0;34m<=\u001b[0m \u001b[0mA_mcg_below\u001b[0m\u001b[0;34m:\u001b[0m\u001b[0;34m\u001b[0m\u001b[0;34m\u001b[0m\u001b[0m\n",
      "\u001b[0;31mAssertionError\u001b[0m: Path in 2930.txt begins (mcg = 18.0) or ends (mcg = 3.0) outside of state definition."
     ]
    }
   ],
   "source": [
    "read_trajectories(\"RPE\", 18, 120)"
   ]
  },
  {
   "cell_type": "code",
   "execution_count": 60,
   "metadata": {},
   "outputs": [
    {
     "name": "stdout",
     "output_type": "stream",
     "text": [
      "mcg100\n",
      "mcg70\n",
      "mcg30\n",
      "mcg80\n",
      "mcg35\n",
      "mcg90\n",
      "mcg50\n",
      "mcg60\n",
      "mcg40\n",
      "mcg45\n"
     ]
    }
   ],
   "source": []
  },
  {
   "cell_type": "code",
   "execution_count": null,
   "metadata": {},
   "outputs": [],
   "source": []
  },
  {
   "cell_type": "code",
   "execution_count": 1,
   "metadata": {},
   "outputs": [],
   "source": [
    "from data_read import hello\n",
    "hello()\n"
   ]
  }
 ],
 "metadata": {
  "kernelspec": {
   "display_name": "Python 3",
   "language": "python",
   "name": "python3"
  },
  "language_info": {
   "codemirror_mode": {
    "name": "ipython",
    "version": 3
   },
   "file_extension": ".py",
   "mimetype": "text/x-python",
   "name": "python",
   "nbconvert_exporter": "python",
   "pygments_lexer": "ipython3",
   "version": "3.7.4"
  }
 },
 "nbformat": 4,
 "nbformat_minor": 2
}
